{
 "cells": [
  {
   "cell_type": "code",
   "execution_count": 1,
   "id": "b02fb229",
   "metadata": {},
   "outputs": [],
   "source": [
    "import pandas as pd"
   ]
  },
  {
   "cell_type": "markdown",
   "id": "da7d865d",
   "metadata": {},
   "source": [
    "## Dados absolutos"
   ]
  },
  {
   "cell_type": "code",
   "execution_count": 25,
   "id": "2b06269a",
   "metadata": {},
   "outputs": [],
   "source": [
    "dados = {\n",
    "    'emprego': ['dba', 'programador','arquiteto_redes'],\n",
    "    'nova_jersey': [97350, 82000, 112840],\n",
    "    'florida': [ 77140, 71540, 62310]\n",
    "}"
   ]
  },
  {
   "cell_type": "code",
   "execution_count": 17,
   "id": "603a6949",
   "metadata": {},
   "outputs": [
    {
     "data": {
      "text/plain": [
       "dict"
      ]
     },
     "execution_count": 17,
     "metadata": {},
     "output_type": "execute_result"
    }
   ],
   "source": [
    "type(dados)"
   ]
  },
  {
   "cell_type": "code",
   "execution_count": 18,
   "id": "e039bb5d",
   "metadata": {},
   "outputs": [],
   "source": [
    "dataset = pd.DataFrame(dados)"
   ]
  },
  {
   "cell_type": "code",
   "execution_count": 19,
   "id": "df4ded4d",
   "metadata": {},
   "outputs": [
    {
     "data": {
      "text/html": [
       "<div>\n",
       "<style scoped>\n",
       "    .dataframe tbody tr th:only-of-type {\n",
       "        vertical-align: middle;\n",
       "    }\n",
       "\n",
       "    .dataframe tbody tr th {\n",
       "        vertical-align: top;\n",
       "    }\n",
       "\n",
       "    .dataframe thead th {\n",
       "        text-align: right;\n",
       "    }\n",
       "</style>\n",
       "<table border=\"1\" class=\"dataframe\">\n",
       "  <thead>\n",
       "    <tr style=\"text-align: right;\">\n",
       "      <th></th>\n",
       "      <th>emprego</th>\n",
       "      <th>nova_jersey</th>\n",
       "      <th>florida</th>\n",
       "    </tr>\n",
       "  </thead>\n",
       "  <tbody>\n",
       "    <tr>\n",
       "      <th>0</th>\n",
       "      <td>dba</td>\n",
       "      <td>97350</td>\n",
       "      <td>77140</td>\n",
       "    </tr>\n",
       "    <tr>\n",
       "      <th>1</th>\n",
       "      <td>programador</td>\n",
       "      <td>82000</td>\n",
       "      <td>71540</td>\n",
       "    </tr>\n",
       "    <tr>\n",
       "      <th>2</th>\n",
       "      <td>arquiteto_redes</td>\n",
       "      <td>112840</td>\n",
       "      <td>62310</td>\n",
       "    </tr>\n",
       "  </tbody>\n",
       "</table>\n",
       "</div>"
      ],
      "text/plain": [
       "           emprego  nova_jersey  florida\n",
       "0              dba        97350    77140\n",
       "1      programador        82000    71540\n",
       "2  arquiteto_redes       112840    62310"
      ]
     },
     "execution_count": 19,
     "metadata": {},
     "output_type": "execute_result"
    }
   ],
   "source": [
    "dataset.head()"
   ]
  },
  {
   "cell_type": "code",
   "execution_count": 20,
   "id": "e3eb3251",
   "metadata": {},
   "outputs": [
    {
     "data": {
      "text/plain": [
       "292190"
      ]
     },
     "execution_count": 20,
     "metadata": {},
     "output_type": "execute_result"
    }
   ],
   "source": [
    "dataset['nova_jersey'].sum()"
   ]
  },
  {
   "cell_type": "code",
   "execution_count": 21,
   "id": "e6f45a74",
   "metadata": {},
   "outputs": [
    {
     "data": {
      "text/plain": [
       "210990"
      ]
     },
     "execution_count": 21,
     "metadata": {},
     "output_type": "execute_result"
    }
   ],
   "source": [
    "dataset['florida'].sum()"
   ]
  },
  {
   "cell_type": "code",
   "execution_count": 22,
   "id": "a4b65b02",
   "metadata": {},
   "outputs": [],
   "source": [
    "dataset['%_nova_jersey'] = dataset['nova_jersey'] / dataset['nova_jersey'].sum()"
   ]
  },
  {
   "cell_type": "code",
   "execution_count": 23,
   "id": "fea1b12e",
   "metadata": {},
   "outputs": [],
   "source": [
    "dataset['%_florida'] = dataset['florida'] / dataset['florida'].sum()"
   ]
  },
  {
   "cell_type": "code",
   "execution_count": 24,
   "id": "96947fa0",
   "metadata": {},
   "outputs": [
    {
     "data": {
      "text/html": [
       "<div>\n",
       "<style scoped>\n",
       "    .dataframe tbody tr th:only-of-type {\n",
       "        vertical-align: middle;\n",
       "    }\n",
       "\n",
       "    .dataframe tbody tr th {\n",
       "        vertical-align: top;\n",
       "    }\n",
       "\n",
       "    .dataframe thead th {\n",
       "        text-align: right;\n",
       "    }\n",
       "</style>\n",
       "<table border=\"1\" class=\"dataframe\">\n",
       "  <thead>\n",
       "    <tr style=\"text-align: right;\">\n",
       "      <th></th>\n",
       "      <th>emprego</th>\n",
       "      <th>nova_jersey</th>\n",
       "      <th>florida</th>\n",
       "      <th>%_nova_jersey</th>\n",
       "      <th>%_florida</th>\n",
       "    </tr>\n",
       "  </thead>\n",
       "  <tbody>\n",
       "    <tr>\n",
       "      <th>0</th>\n",
       "      <td>dba</td>\n",
       "      <td>97350</td>\n",
       "      <td>77140</td>\n",
       "      <td>0.333174</td>\n",
       "      <td>0.365610</td>\n",
       "    </tr>\n",
       "    <tr>\n",
       "      <th>1</th>\n",
       "      <td>programador</td>\n",
       "      <td>82000</td>\n",
       "      <td>71540</td>\n",
       "      <td>0.280639</td>\n",
       "      <td>0.339068</td>\n",
       "    </tr>\n",
       "    <tr>\n",
       "      <th>2</th>\n",
       "      <td>arquiteto_redes</td>\n",
       "      <td>112840</td>\n",
       "      <td>62310</td>\n",
       "      <td>0.386187</td>\n",
       "      <td>0.295322</td>\n",
       "    </tr>\n",
       "  </tbody>\n",
       "</table>\n",
       "</div>"
      ],
      "text/plain": [
       "           emprego  nova_jersey  florida  %_nova_jersey  %_florida\n",
       "0              dba        97350    77140       0.333174   0.365610\n",
       "1      programador        82000    71540       0.280639   0.339068\n",
       "2  arquiteto_redes       112840    62310       0.386187   0.295322"
      ]
     },
     "execution_count": 24,
     "metadata": {},
     "output_type": "execute_result"
    }
   ],
   "source": [
    "dataset"
   ]
  },
  {
   "cell_type": "markdown",
   "id": "7c53dd40",
   "metadata": {},
   "source": [
    "## Dados relativos"
   ]
  },
  {
   "cell_type": "code",
   "execution_count": 26,
   "id": "11d4aec8",
   "metadata": {},
   "outputs": [],
   "source": [
    "dados2 = {\n",
    "    'ano': ['1', '2', '3', '4', 'total'],\n",
    "    'matriculas_marco': [70,50,47,23,190],\n",
    "    'matriculas_novembro': [65,48,40,22,175]\n",
    "}"
   ]
  },
  {
   "cell_type": "code",
   "execution_count": 29,
   "id": "65fd23e1",
   "metadata": {},
   "outputs": [
    {
     "data": {
      "text/html": [
       "<div>\n",
       "<style scoped>\n",
       "    .dataframe tbody tr th:only-of-type {\n",
       "        vertical-align: middle;\n",
       "    }\n",
       "\n",
       "    .dataframe tbody tr th {\n",
       "        vertical-align: top;\n",
       "    }\n",
       "\n",
       "    .dataframe thead th {\n",
       "        text-align: right;\n",
       "    }\n",
       "</style>\n",
       "<table border=\"1\" class=\"dataframe\">\n",
       "  <thead>\n",
       "    <tr style=\"text-align: right;\">\n",
       "      <th></th>\n",
       "      <th>ano</th>\n",
       "      <th>matriculas_marco</th>\n",
       "      <th>matriculas_novembro</th>\n",
       "    </tr>\n",
       "  </thead>\n",
       "  <tbody>\n",
       "    <tr>\n",
       "      <th>0</th>\n",
       "      <td>1</td>\n",
       "      <td>70</td>\n",
       "      <td>65</td>\n",
       "    </tr>\n",
       "    <tr>\n",
       "      <th>1</th>\n",
       "      <td>2</td>\n",
       "      <td>50</td>\n",
       "      <td>48</td>\n",
       "    </tr>\n",
       "    <tr>\n",
       "      <th>2</th>\n",
       "      <td>3</td>\n",
       "      <td>47</td>\n",
       "      <td>40</td>\n",
       "    </tr>\n",
       "    <tr>\n",
       "      <th>3</th>\n",
       "      <td>4</td>\n",
       "      <td>23</td>\n",
       "      <td>22</td>\n",
       "    </tr>\n",
       "    <tr>\n",
       "      <th>4</th>\n",
       "      <td>total</td>\n",
       "      <td>190</td>\n",
       "      <td>175</td>\n",
       "    </tr>\n",
       "  </tbody>\n",
       "</table>\n",
       "</div>"
      ],
      "text/plain": [
       "     ano  matriculas_marco  matriculas_novembro\n",
       "0      1                70                   65\n",
       "1      2                50                   48\n",
       "2      3                47                   40\n",
       "3      4                23                   22\n",
       "4  total               190                  175"
      ]
     },
     "execution_count": 29,
     "metadata": {},
     "output_type": "execute_result"
    }
   ],
   "source": [
    "dataset2 = pd.DataFrame(dados2)\n",
    "dataset2"
   ]
  },
  {
   "cell_type": "code",
   "execution_count": 33,
   "id": "5b53b747",
   "metadata": {},
   "outputs": [
    {
     "data": {
      "text/html": [
       "<div>\n",
       "<style scoped>\n",
       "    .dataframe tbody tr th:only-of-type {\n",
       "        vertical-align: middle;\n",
       "    }\n",
       "\n",
       "    .dataframe tbody tr th {\n",
       "        vertical-align: top;\n",
       "    }\n",
       "\n",
       "    .dataframe thead th {\n",
       "        text-align: right;\n",
       "    }\n",
       "</style>\n",
       "<table border=\"1\" class=\"dataframe\">\n",
       "  <thead>\n",
       "    <tr style=\"text-align: right;\">\n",
       "      <th></th>\n",
       "      <th>ano</th>\n",
       "      <th>matriculas_marco</th>\n",
       "      <th>matriculas_novembro</th>\n",
       "      <th>taxa_evasao</th>\n",
       "    </tr>\n",
       "  </thead>\n",
       "  <tbody>\n",
       "    <tr>\n",
       "      <th>0</th>\n",
       "      <td>1</td>\n",
       "      <td>70</td>\n",
       "      <td>65</td>\n",
       "      <td>7.142857</td>\n",
       "    </tr>\n",
       "    <tr>\n",
       "      <th>1</th>\n",
       "      <td>2</td>\n",
       "      <td>50</td>\n",
       "      <td>48</td>\n",
       "      <td>4.000000</td>\n",
       "    </tr>\n",
       "    <tr>\n",
       "      <th>2</th>\n",
       "      <td>3</td>\n",
       "      <td>47</td>\n",
       "      <td>40</td>\n",
       "      <td>14.893617</td>\n",
       "    </tr>\n",
       "    <tr>\n",
       "      <th>3</th>\n",
       "      <td>4</td>\n",
       "      <td>23</td>\n",
       "      <td>22</td>\n",
       "      <td>4.347826</td>\n",
       "    </tr>\n",
       "    <tr>\n",
       "      <th>4</th>\n",
       "      <td>total</td>\n",
       "      <td>190</td>\n",
       "      <td>175</td>\n",
       "      <td>7.894737</td>\n",
       "    </tr>\n",
       "  </tbody>\n",
       "</table>\n",
       "</div>"
      ],
      "text/plain": [
       "     ano  matriculas_marco  matriculas_novembro  taxa_evasao\n",
       "0      1                70                   65     7.142857\n",
       "1      2                50                   48     4.000000\n",
       "2      3                47                   40    14.893617\n",
       "3      4                23                   22     4.347826\n",
       "4  total               190                  175     7.894737"
      ]
     },
     "execution_count": 33,
     "metadata": {},
     "output_type": "execute_result"
    }
   ],
   "source": [
    "dataset2['taxa_evasao'] = (dataset2['matriculas_marco'] - dataset2['matriculas_novembro']) / dataset2['matriculas_marco'] * 100\n",
    "dataset2"
   ]
  }
 ],
 "metadata": {
  "kernelspec": {
   "display_name": "Python 3",
   "language": "python",
   "name": "python3"
  },
  "language_info": {
   "codemirror_mode": {
    "name": "ipython",
    "version": 3
   },
   "file_extension": ".py",
   "mimetype": "text/x-python",
   "name": "python",
   "nbconvert_exporter": "python",
   "pygments_lexer": "ipython3",
   "version": "3.9.2"
  }
 },
 "nbformat": 4,
 "nbformat_minor": 5
}
