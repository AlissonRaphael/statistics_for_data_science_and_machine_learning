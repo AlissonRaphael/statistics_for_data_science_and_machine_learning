{
 "cells": [
  {
   "cell_type": "code",
   "execution_count": 1,
   "id": "b02fb229",
   "metadata": {},
   "outputs": [],
   "source": [
    "import pandas as pd"
   ]
  },
  {
   "cell_type": "code",
   "execution_count": 2,
   "id": "2b06269a",
   "metadata": {},
   "outputs": [],
   "source": [
    "dados = {\n",
    "            'emprego': ['dba', 'programador','arquiteto_redes'],\n",
    "            'nova_jersey': [97350, 82000, 112840],\n",
    "            'florida': [ 77140, 71540, 62310]\n",
    "        }"
   ]
  },
  {
   "cell_type": "code",
   "execution_count": 3,
   "id": "603a6949",
   "metadata": {},
   "outputs": [
    {
     "data": {
      "text/plain": [
       "dict"
      ]
     },
     "execution_count": 3,
     "metadata": {},
     "output_type": "execute_result"
    }
   ],
   "source": [
    "type(dados)"
   ]
  },
  {
   "cell_type": "code",
   "execution_count": 4,
   "id": "e039bb5d",
   "metadata": {},
   "outputs": [],
   "source": [
    "dataset = pd.DataFrame(dados)"
   ]
  },
  {
   "cell_type": "code",
   "execution_count": 5,
   "id": "df4ded4d",
   "metadata": {},
   "outputs": [
    {
     "data": {
      "text/html": [
       "<div>\n",
       "<style scoped>\n",
       "    .dataframe tbody tr th:only-of-type {\n",
       "        vertical-align: middle;\n",
       "    }\n",
       "\n",
       "    .dataframe tbody tr th {\n",
       "        vertical-align: top;\n",
       "    }\n",
       "\n",
       "    .dataframe thead th {\n",
       "        text-align: right;\n",
       "    }\n",
       "</style>\n",
       "<table border=\"1\" class=\"dataframe\">\n",
       "  <thead>\n",
       "    <tr style=\"text-align: right;\">\n",
       "      <th></th>\n",
       "      <th>emprego</th>\n",
       "      <th>nova_jersey</th>\n",
       "      <th>florida</th>\n",
       "    </tr>\n",
       "  </thead>\n",
       "  <tbody>\n",
       "    <tr>\n",
       "      <th>0</th>\n",
       "      <td>dba</td>\n",
       "      <td>97350</td>\n",
       "      <td>77140</td>\n",
       "    </tr>\n",
       "    <tr>\n",
       "      <th>1</th>\n",
       "      <td>programador</td>\n",
       "      <td>82000</td>\n",
       "      <td>71540</td>\n",
       "    </tr>\n",
       "    <tr>\n",
       "      <th>2</th>\n",
       "      <td>arquiteto_redes</td>\n",
       "      <td>112840</td>\n",
       "      <td>62310</td>\n",
       "    </tr>\n",
       "  </tbody>\n",
       "</table>\n",
       "</div>"
      ],
      "text/plain": [
       "           emprego  nova_jersey  florida\n",
       "0              dba        97350    77140\n",
       "1      programador        82000    71540\n",
       "2  arquiteto_redes       112840    62310"
      ]
     },
     "execution_count": 5,
     "metadata": {},
     "output_type": "execute_result"
    }
   ],
   "source": [
    "dataset.head()"
   ]
  },
  {
   "cell_type": "code",
   "execution_count": 6,
   "id": "e3eb3251",
   "metadata": {},
   "outputs": [
    {
     "data": {
      "text/plain": [
       "292190"
      ]
     },
     "execution_count": 6,
     "metadata": {},
     "output_type": "execute_result"
    }
   ],
   "source": [
    "dataset['nova_jersey'].sum()"
   ]
  },
  {
   "cell_type": "code",
   "execution_count": 7,
   "id": "e6f45a74",
   "metadata": {},
   "outputs": [
    {
     "data": {
      "text/plain": [
       "210990"
      ]
     },
     "execution_count": 7,
     "metadata": {},
     "output_type": "execute_result"
    }
   ],
   "source": [
    "dataset['florida'].sum()"
   ]
  },
  {
   "cell_type": "code",
   "execution_count": 8,
   "id": "a4b65b02",
   "metadata": {},
   "outputs": [],
   "source": [
    "dataset['%_nova_jersey'] = dataset['nova_jersey'] / dataset['nova_jersey'].sum()"
   ]
  },
  {
   "cell_type": "code",
   "execution_count": 9,
   "id": "fea1b12e",
   "metadata": {},
   "outputs": [],
   "source": [
    "dataset['%_florida'] = dataset['florida'] / dataset['florida'].sum()"
   ]
  },
  {
   "cell_type": "code",
   "execution_count": 10,
   "id": "96947fa0",
   "metadata": {},
   "outputs": [
    {
     "data": {
      "text/html": [
       "<div>\n",
       "<style scoped>\n",
       "    .dataframe tbody tr th:only-of-type {\n",
       "        vertical-align: middle;\n",
       "    }\n",
       "\n",
       "    .dataframe tbody tr th {\n",
       "        vertical-align: top;\n",
       "    }\n",
       "\n",
       "    .dataframe thead th {\n",
       "        text-align: right;\n",
       "    }\n",
       "</style>\n",
       "<table border=\"1\" class=\"dataframe\">\n",
       "  <thead>\n",
       "    <tr style=\"text-align: right;\">\n",
       "      <th></th>\n",
       "      <th>emprego</th>\n",
       "      <th>nova_jersey</th>\n",
       "      <th>florida</th>\n",
       "      <th>%_nova_jersey</th>\n",
       "      <th>%_florida</th>\n",
       "    </tr>\n",
       "  </thead>\n",
       "  <tbody>\n",
       "    <tr>\n",
       "      <th>0</th>\n",
       "      <td>dba</td>\n",
       "      <td>97350</td>\n",
       "      <td>77140</td>\n",
       "      <td>0.333174</td>\n",
       "      <td>0.365610</td>\n",
       "    </tr>\n",
       "    <tr>\n",
       "      <th>1</th>\n",
       "      <td>programador</td>\n",
       "      <td>82000</td>\n",
       "      <td>71540</td>\n",
       "      <td>0.280639</td>\n",
       "      <td>0.339068</td>\n",
       "    </tr>\n",
       "    <tr>\n",
       "      <th>2</th>\n",
       "      <td>arquiteto_redes</td>\n",
       "      <td>112840</td>\n",
       "      <td>62310</td>\n",
       "      <td>0.386187</td>\n",
       "      <td>0.295322</td>\n",
       "    </tr>\n",
       "  </tbody>\n",
       "</table>\n",
       "</div>"
      ],
      "text/plain": [
       "           emprego  nova_jersey  florida  %_nova_jersey  %_florida\n",
       "0              dba        97350    77140       0.333174   0.365610\n",
       "1      programador        82000    71540       0.280639   0.339068\n",
       "2  arquiteto_redes       112840    62310       0.386187   0.295322"
      ]
     },
     "execution_count": 10,
     "metadata": {},
     "output_type": "execute_result"
    }
   ],
   "source": [
    "dataset"
   ]
  },
  {
   "cell_type": "code",
   "execution_count": 12,
   "id": "3000a859",
   "metadata": {},
   "outputs": [],
   "source": [
    "dataset2 = pd.read_csv('../0_datasets/census.csv')"
   ]
  },
  {
   "cell_type": "code",
   "execution_count": 15,
   "id": "e7af1e64",
   "metadata": {
    "scrolled": true
   },
   "outputs": [
    {
     "data": {
      "text/html": [
       "<div>\n",
       "<style scoped>\n",
       "    .dataframe tbody tr th:only-of-type {\n",
       "        vertical-align: middle;\n",
       "    }\n",
       "\n",
       "    .dataframe tbody tr th {\n",
       "        vertical-align: top;\n",
       "    }\n",
       "\n",
       "    .dataframe thead th {\n",
       "        text-align: right;\n",
       "    }\n",
       "</style>\n",
       "<table border=\"1\" class=\"dataframe\">\n",
       "  <thead>\n",
       "    <tr style=\"text-align: right;\">\n",
       "      <th></th>\n",
       "      <th>age</th>\n",
       "      <th>workclass</th>\n",
       "      <th>final-weight</th>\n",
       "      <th>education</th>\n",
       "      <th>education-num</th>\n",
       "      <th>marital-status</th>\n",
       "      <th>occupation</th>\n",
       "      <th>relationship</th>\n",
       "      <th>race</th>\n",
       "      <th>sex</th>\n",
       "      <th>capital-gain</th>\n",
       "      <th>capital-loos</th>\n",
       "      <th>hour-per-week</th>\n",
       "      <th>native-country</th>\n",
       "      <th>income</th>\n",
       "    </tr>\n",
       "  </thead>\n",
       "  <tbody>\n",
       "    <tr>\n",
       "      <th>0</th>\n",
       "      <td>39</td>\n",
       "      <td>State-gov</td>\n",
       "      <td>77516</td>\n",
       "      <td>Bachelors</td>\n",
       "      <td>13</td>\n",
       "      <td>Never-married</td>\n",
       "      <td>Adm-clerical</td>\n",
       "      <td>Not-in-family</td>\n",
       "      <td>White</td>\n",
       "      <td>Male</td>\n",
       "      <td>2174</td>\n",
       "      <td>0</td>\n",
       "      <td>40</td>\n",
       "      <td>United-States</td>\n",
       "      <td>&lt;=50K</td>\n",
       "    </tr>\n",
       "    <tr>\n",
       "      <th>1</th>\n",
       "      <td>50</td>\n",
       "      <td>Self-emp-not-inc</td>\n",
       "      <td>83311</td>\n",
       "      <td>Bachelors</td>\n",
       "      <td>13</td>\n",
       "      <td>Married-civ-spouse</td>\n",
       "      <td>Exec-managerial</td>\n",
       "      <td>Husband</td>\n",
       "      <td>White</td>\n",
       "      <td>Male</td>\n",
       "      <td>0</td>\n",
       "      <td>0</td>\n",
       "      <td>13</td>\n",
       "      <td>United-States</td>\n",
       "      <td>&lt;=50K</td>\n",
       "    </tr>\n",
       "    <tr>\n",
       "      <th>2</th>\n",
       "      <td>38</td>\n",
       "      <td>Private</td>\n",
       "      <td>215646</td>\n",
       "      <td>HS-grad</td>\n",
       "      <td>9</td>\n",
       "      <td>Divorced</td>\n",
       "      <td>Handlers-cleaners</td>\n",
       "      <td>Not-in-family</td>\n",
       "      <td>White</td>\n",
       "      <td>Male</td>\n",
       "      <td>0</td>\n",
       "      <td>0</td>\n",
       "      <td>40</td>\n",
       "      <td>United-States</td>\n",
       "      <td>&lt;=50K</td>\n",
       "    </tr>\n",
       "    <tr>\n",
       "      <th>3</th>\n",
       "      <td>53</td>\n",
       "      <td>Private</td>\n",
       "      <td>234721</td>\n",
       "      <td>11th</td>\n",
       "      <td>7</td>\n",
       "      <td>Married-civ-spouse</td>\n",
       "      <td>Handlers-cleaners</td>\n",
       "      <td>Husband</td>\n",
       "      <td>Black</td>\n",
       "      <td>Male</td>\n",
       "      <td>0</td>\n",
       "      <td>0</td>\n",
       "      <td>40</td>\n",
       "      <td>United-States</td>\n",
       "      <td>&lt;=50K</td>\n",
       "    </tr>\n",
       "    <tr>\n",
       "      <th>4</th>\n",
       "      <td>28</td>\n",
       "      <td>Private</td>\n",
       "      <td>338409</td>\n",
       "      <td>Bachelors</td>\n",
       "      <td>13</td>\n",
       "      <td>Married-civ-spouse</td>\n",
       "      <td>Prof-specialty</td>\n",
       "      <td>Wife</td>\n",
       "      <td>Black</td>\n",
       "      <td>Female</td>\n",
       "      <td>0</td>\n",
       "      <td>0</td>\n",
       "      <td>40</td>\n",
       "      <td>Cuba</td>\n",
       "      <td>&lt;=50K</td>\n",
       "    </tr>\n",
       "  </tbody>\n",
       "</table>\n",
       "</div>"
      ],
      "text/plain": [
       "   age          workclass  final-weight   education  education-num  \\\n",
       "0   39          State-gov         77516   Bachelors             13   \n",
       "1   50   Self-emp-not-inc         83311   Bachelors             13   \n",
       "2   38            Private        215646     HS-grad              9   \n",
       "3   53            Private        234721        11th              7   \n",
       "4   28            Private        338409   Bachelors             13   \n",
       "\n",
       "        marital-status          occupation    relationship    race      sex  \\\n",
       "0        Never-married        Adm-clerical   Not-in-family   White     Male   \n",
       "1   Married-civ-spouse     Exec-managerial         Husband   White     Male   \n",
       "2             Divorced   Handlers-cleaners   Not-in-family   White     Male   \n",
       "3   Married-civ-spouse   Handlers-cleaners         Husband   Black     Male   \n",
       "4   Married-civ-spouse      Prof-specialty            Wife   Black   Female   \n",
       "\n",
       "   capital-gain  capital-loos  hour-per-week  native-country  income  \n",
       "0          2174             0             40   United-States   <=50K  \n",
       "1             0             0             13   United-States   <=50K  \n",
       "2             0             0             40   United-States   <=50K  \n",
       "3             0             0             40   United-States   <=50K  \n",
       "4             0             0             40            Cuba   <=50K  "
      ]
     },
     "execution_count": 15,
     "metadata": {},
     "output_type": "execute_result"
    }
   ],
   "source": [
    "dataset2.head()"
   ]
  },
  {
   "cell_type": "code",
   "execution_count": 20,
   "id": "11d8c19e",
   "metadata": {
    "scrolled": false
   },
   "outputs": [
    {
     "data": {
      "text/html": [
       "<div>\n",
       "<style scoped>\n",
       "    .dataframe tbody tr th:only-of-type {\n",
       "        vertical-align: middle;\n",
       "    }\n",
       "\n",
       "    .dataframe tbody tr th {\n",
       "        vertical-align: top;\n",
       "    }\n",
       "\n",
       "    .dataframe thead th {\n",
       "        text-align: right;\n",
       "    }\n",
       "</style>\n",
       "<table border=\"1\" class=\"dataframe\">\n",
       "  <thead>\n",
       "    <tr style=\"text-align: right;\">\n",
       "      <th></th>\n",
       "      <th>income</th>\n",
       "      <th>education</th>\n",
       "    </tr>\n",
       "  </thead>\n",
       "  <tbody>\n",
       "    <tr>\n",
       "      <th>0</th>\n",
       "      <td>&lt;=50K</td>\n",
       "      <td>Bachelors</td>\n",
       "    </tr>\n",
       "    <tr>\n",
       "      <th>1</th>\n",
       "      <td>&lt;=50K</td>\n",
       "      <td>Bachelors</td>\n",
       "    </tr>\n",
       "    <tr>\n",
       "      <th>2</th>\n",
       "      <td>&lt;=50K</td>\n",
       "      <td>HS-grad</td>\n",
       "    </tr>\n",
       "    <tr>\n",
       "      <th>3</th>\n",
       "      <td>&lt;=50K</td>\n",
       "      <td>11th</td>\n",
       "    </tr>\n",
       "    <tr>\n",
       "      <th>4</th>\n",
       "      <td>&lt;=50K</td>\n",
       "      <td>Bachelors</td>\n",
       "    </tr>\n",
       "    <tr>\n",
       "      <th>...</th>\n",
       "      <td>...</td>\n",
       "      <td>...</td>\n",
       "    </tr>\n",
       "    <tr>\n",
       "      <th>32556</th>\n",
       "      <td>&lt;=50K</td>\n",
       "      <td>Assoc-acdm</td>\n",
       "    </tr>\n",
       "    <tr>\n",
       "      <th>32557</th>\n",
       "      <td>&gt;50K</td>\n",
       "      <td>HS-grad</td>\n",
       "    </tr>\n",
       "    <tr>\n",
       "      <th>32558</th>\n",
       "      <td>&lt;=50K</td>\n",
       "      <td>HS-grad</td>\n",
       "    </tr>\n",
       "    <tr>\n",
       "      <th>32559</th>\n",
       "      <td>&lt;=50K</td>\n",
       "      <td>HS-grad</td>\n",
       "    </tr>\n",
       "    <tr>\n",
       "      <th>32560</th>\n",
       "      <td>&gt;50K</td>\n",
       "      <td>HS-grad</td>\n",
       "    </tr>\n",
       "  </tbody>\n",
       "</table>\n",
       "<p>32561 rows × 2 columns</p>\n",
       "</div>"
      ],
      "text/plain": [
       "       income    education\n",
       "0       <=50K    Bachelors\n",
       "1       <=50K    Bachelors\n",
       "2       <=50K      HS-grad\n",
       "3       <=50K         11th\n",
       "4       <=50K    Bachelors\n",
       "...       ...          ...\n",
       "32556   <=50K   Assoc-acdm\n",
       "32557    >50K      HS-grad\n",
       "32558   <=50K      HS-grad\n",
       "32559   <=50K      HS-grad\n",
       "32560    >50K      HS-grad\n",
       "\n",
       "[32561 rows x 2 columns]"
      ]
     },
     "execution_count": 20,
     "metadata": {},
     "output_type": "execute_result"
    }
   ],
   "source": [
    "dataset2 = dataset2[['income', 'education']]\n",
    "dataset2"
   ]
  },
  {
   "cell_type": "code",
   "execution_count": 23,
   "id": "dc5ce175",
   "metadata": {
    "scrolled": false
   },
   "outputs": [
    {
     "data": {
      "text/plain": [
       "education      income\n",
       " 10th           <=50K     871\n",
       "                >50K       62\n",
       " 11th           <=50K    1115\n",
       "                >50K       60\n",
       " 12th           <=50K     400\n",
       "                >50K       33\n",
       " 1st-4th        <=50K     162\n",
       "                >50K        6\n",
       " 5th-6th        <=50K     317\n",
       "                >50K       16\n",
       " 7th-8th        <=50K     606\n",
       "                >50K       40\n",
       " 9th            <=50K     487\n",
       "                >50K       27\n",
       " Assoc-acdm     <=50K     802\n",
       "                >50K      265\n",
       " Assoc-voc      <=50K    1021\n",
       "                >50K      361\n",
       " Bachelors      <=50K    3134\n",
       "                >50K     2221\n",
       " Doctorate      <=50K     107\n",
       "                >50K      306\n",
       " HS-grad        <=50K    8826\n",
       "                >50K     1675\n",
       " Masters        <=50K     764\n",
       "                >50K      959\n",
       " Preschool      <=50K      51\n",
       " Prof-school    <=50K     153\n",
       "                >50K      423\n",
       " Some-college   <=50K    5904\n",
       "                >50K     1387\n",
       "Name: education, dtype: int64"
      ]
     },
     "execution_count": 23,
     "metadata": {},
     "output_type": "execute_result"
    }
   ],
   "source": [
    "dataset3 = dataset2.groupby(['education', 'income'])['education'].count()\n",
    "dataset3"
   ]
  },
  {
   "cell_type": "code",
   "execution_count": 24,
   "id": "c548ba28",
   "metadata": {},
   "outputs": [
    {
     "data": {
      "text/plain": [
       "MultiIndex([(        ' 10th', ' <=50K'),\n",
       "            (        ' 10th',  ' >50K'),\n",
       "            (        ' 11th', ' <=50K'),\n",
       "            (        ' 11th',  ' >50K'),\n",
       "            (        ' 12th', ' <=50K'),\n",
       "            (        ' 12th',  ' >50K'),\n",
       "            (     ' 1st-4th', ' <=50K'),\n",
       "            (     ' 1st-4th',  ' >50K'),\n",
       "            (     ' 5th-6th', ' <=50K'),\n",
       "            (     ' 5th-6th',  ' >50K'),\n",
       "            (     ' 7th-8th', ' <=50K'),\n",
       "            (     ' 7th-8th',  ' >50K'),\n",
       "            (         ' 9th', ' <=50K'),\n",
       "            (         ' 9th',  ' >50K'),\n",
       "            (  ' Assoc-acdm', ' <=50K'),\n",
       "            (  ' Assoc-acdm',  ' >50K'),\n",
       "            (   ' Assoc-voc', ' <=50K'),\n",
       "            (   ' Assoc-voc',  ' >50K'),\n",
       "            (   ' Bachelors', ' <=50K'),\n",
       "            (   ' Bachelors',  ' >50K'),\n",
       "            (   ' Doctorate', ' <=50K'),\n",
       "            (   ' Doctorate',  ' >50K'),\n",
       "            (     ' HS-grad', ' <=50K'),\n",
       "            (     ' HS-grad',  ' >50K'),\n",
       "            (     ' Masters', ' <=50K'),\n",
       "            (     ' Masters',  ' >50K'),\n",
       "            (   ' Preschool', ' <=50K'),\n",
       "            ( ' Prof-school', ' <=50K'),\n",
       "            ( ' Prof-school',  ' >50K'),\n",
       "            (' Some-college', ' <=50K'),\n",
       "            (' Some-college',  ' >50K')],\n",
       "           names=['education', 'income'])"
      ]
     },
     "execution_count": 24,
     "metadata": {},
     "output_type": "execute_result"
    }
   ],
   "source": [
    "dataset3.index"
   ]
  },
  {
   "cell_type": "code",
   "execution_count": 28,
   "id": "f3acf028",
   "metadata": {},
   "outputs": [
    {
     "data": {
      "text/plain": [
       "(3134, 2221)"
      ]
     },
     "execution_count": 28,
     "metadata": {},
     "output_type": "execute_result"
    }
   ],
   "source": [
    "dataset3[' Bachelors', ' <=50K'], dataset3[' Bachelors', ' >50K']"
   ]
  },
  {
   "cell_type": "code",
   "execution_count": 29,
   "id": "e10fc612",
   "metadata": {},
   "outputs": [
    {
     "data": {
      "text/plain": [
       "5355"
      ]
     },
     "execution_count": 29,
     "metadata": {},
     "output_type": "execute_result"
    }
   ],
   "source": [
    "3134 + 2221"
   ]
  },
  {
   "cell_type": "code",
   "execution_count": 30,
   "id": "f1218b62",
   "metadata": {},
   "outputs": [
    {
     "data": {
      "text/plain": [
       "58.52474323062559"
      ]
     },
     "execution_count": 30,
     "metadata": {},
     "output_type": "execute_result"
    }
   ],
   "source": [
    "3134/5355 * 100"
   ]
  },
  {
   "cell_type": "code",
   "execution_count": 32,
   "id": "543c121d",
   "metadata": {
    "scrolled": true
   },
   "outputs": [
    {
     "data": {
      "text/plain": [
       "41.63074039362699"
      ]
     },
     "execution_count": 32,
     "metadata": {},
     "output_type": "execute_result"
    }
   ],
   "source": [
    "2221/5335 * 100"
   ]
  }
 ],
 "metadata": {
  "kernelspec": {
   "display_name": "Python 3",
   "language": "python",
   "name": "python3"
  },
  "language_info": {
   "codemirror_mode": {
    "name": "ipython",
    "version": 3
   },
   "file_extension": ".py",
   "mimetype": "text/x-python",
   "name": "python",
   "nbconvert_exporter": "python",
   "pygments_lexer": "ipython3",
   "version": "3.9.2"
  }
 },
 "nbformat": 4,
 "nbformat_minor": 5
}
