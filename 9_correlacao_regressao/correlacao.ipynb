{
 "cells": [
  {
   "cell_type": "code",
   "execution_count": 51,
   "id": "58fa9a1e",
   "metadata": {},
   "outputs": [],
   "source": [
    "import numpy as np\n",
    "import pandas as pd\n",
    "import seaborn as sns\n",
    "import math"
   ]
  },
  {
   "cell_type": "code",
   "execution_count": 27,
   "id": "a77db1be",
   "metadata": {},
   "outputs": [],
   "source": [
    "dados = {\n",
    "    'tamanho': np.array([30,39,49,60]),\n",
    "    'preco': np.array([57000,69000,77000,90000])\n",
    "}"
   ]
  },
  {
   "cell_type": "code",
   "execution_count": 28,
   "id": "b0298f65",
   "metadata": {},
   "outputs": [
    {
     "data": {
      "text/html": [
       "<div>\n",
       "<style scoped>\n",
       "    .dataframe tbody tr th:only-of-type {\n",
       "        vertical-align: middle;\n",
       "    }\n",
       "\n",
       "    .dataframe tbody tr th {\n",
       "        vertical-align: top;\n",
       "    }\n",
       "\n",
       "    .dataframe thead th {\n",
       "        text-align: right;\n",
       "    }\n",
       "</style>\n",
       "<table border=\"1\" class=\"dataframe\">\n",
       "  <thead>\n",
       "    <tr style=\"text-align: right;\">\n",
       "      <th></th>\n",
       "      <th>tamanho</th>\n",
       "      <th>preco</th>\n",
       "    </tr>\n",
       "  </thead>\n",
       "  <tbody>\n",
       "    <tr>\n",
       "      <th>0</th>\n",
       "      <td>30</td>\n",
       "      <td>57000</td>\n",
       "    </tr>\n",
       "    <tr>\n",
       "      <th>1</th>\n",
       "      <td>39</td>\n",
       "      <td>69000</td>\n",
       "    </tr>\n",
       "    <tr>\n",
       "      <th>2</th>\n",
       "      <td>49</td>\n",
       "      <td>77000</td>\n",
       "    </tr>\n",
       "    <tr>\n",
       "      <th>3</th>\n",
       "      <td>60</td>\n",
       "      <td>90000</td>\n",
       "    </tr>\n",
       "  </tbody>\n",
       "</table>\n",
       "</div>"
      ],
      "text/plain": [
       "   tamanho  preco\n",
       "0       30  57000\n",
       "1       39  69000\n",
       "2       49  77000\n",
       "3       60  90000"
      ]
     },
     "execution_count": 28,
     "metadata": {},
     "output_type": "execute_result"
    }
   ],
   "source": [
    "dataset = pd.DataFrame(dados)\n",
    "dataset"
   ]
  },
  {
   "cell_type": "code",
   "execution_count": 29,
   "id": "c514539e",
   "metadata": {},
   "outputs": [
    {
     "data": {
      "text/plain": [
       "(44.5, 73250.0)"
      ]
     },
     "execution_count": 29,
     "metadata": {},
     "output_type": "execute_result"
    }
   ],
   "source": [
    "media_tamanho = dataset['tamanho'].mean()\n",
    "media_preco = dataset['preco'].mean()\n",
    "media_tamanho, media_preco"
   ]
  },
  {
   "cell_type": "code",
   "execution_count": 30,
   "id": "5691a475",
   "metadata": {},
   "outputs": [
    {
     "data": {
      "text/plain": [
       "(12.922847983320086, 13865.424623862047)"
      ]
     },
     "execution_count": 30,
     "metadata": {},
     "output_type": "execute_result"
    }
   ],
   "source": [
    "dp_tamanho = dataset['tamanho'].std()\n",
    "dp_preco = dataset['preco'].std()\n",
    "dp_tamanho, dp_preco"
   ]
  },
  {
   "cell_type": "code",
   "execution_count": 31,
   "id": "3433087d",
   "metadata": {},
   "outputs": [
    {
     "data": {
      "text/html": [
       "<div>\n",
       "<style scoped>\n",
       "    .dataframe tbody tr th:only-of-type {\n",
       "        vertical-align: middle;\n",
       "    }\n",
       "\n",
       "    .dataframe tbody tr th {\n",
       "        vertical-align: top;\n",
       "    }\n",
       "\n",
       "    .dataframe thead th {\n",
       "        text-align: right;\n",
       "    }\n",
       "</style>\n",
       "<table border=\"1\" class=\"dataframe\">\n",
       "  <thead>\n",
       "    <tr style=\"text-align: right;\">\n",
       "      <th></th>\n",
       "      <th>tamanho</th>\n",
       "      <th>preco</th>\n",
       "      <th>xi_x</th>\n",
       "    </tr>\n",
       "  </thead>\n",
       "  <tbody>\n",
       "    <tr>\n",
       "      <th>0</th>\n",
       "      <td>30</td>\n",
       "      <td>57000</td>\n",
       "      <td>-14.5</td>\n",
       "    </tr>\n",
       "    <tr>\n",
       "      <th>1</th>\n",
       "      <td>39</td>\n",
       "      <td>69000</td>\n",
       "      <td>-5.5</td>\n",
       "    </tr>\n",
       "    <tr>\n",
       "      <th>2</th>\n",
       "      <td>49</td>\n",
       "      <td>77000</td>\n",
       "      <td>4.5</td>\n",
       "    </tr>\n",
       "    <tr>\n",
       "      <th>3</th>\n",
       "      <td>60</td>\n",
       "      <td>90000</td>\n",
       "      <td>15.5</td>\n",
       "    </tr>\n",
       "  </tbody>\n",
       "</table>\n",
       "</div>"
      ],
      "text/plain": [
       "   tamanho  preco  xi_x\n",
       "0       30  57000 -14.5\n",
       "1       39  69000  -5.5\n",
       "2       49  77000   4.5\n",
       "3       60  90000  15.5"
      ]
     },
     "execution_count": 31,
     "metadata": {},
     "output_type": "execute_result"
    }
   ],
   "source": [
    "dataset['xi_x'] = dataset['tamanho'] - media_tamanho\n",
    "dataset"
   ]
  },
  {
   "cell_type": "code",
   "execution_count": 32,
   "id": "9de1ee60",
   "metadata": {},
   "outputs": [
    {
     "data": {
      "text/html": [
       "<div>\n",
       "<style scoped>\n",
       "    .dataframe tbody tr th:only-of-type {\n",
       "        vertical-align: middle;\n",
       "    }\n",
       "\n",
       "    .dataframe tbody tr th {\n",
       "        vertical-align: top;\n",
       "    }\n",
       "\n",
       "    .dataframe thead th {\n",
       "        text-align: right;\n",
       "    }\n",
       "</style>\n",
       "<table border=\"1\" class=\"dataframe\">\n",
       "  <thead>\n",
       "    <tr style=\"text-align: right;\">\n",
       "      <th></th>\n",
       "      <th>tamanho</th>\n",
       "      <th>preco</th>\n",
       "      <th>xi_x</th>\n",
       "      <th>yi_y</th>\n",
       "    </tr>\n",
       "  </thead>\n",
       "  <tbody>\n",
       "    <tr>\n",
       "      <th>0</th>\n",
       "      <td>30</td>\n",
       "      <td>57000</td>\n",
       "      <td>-14.5</td>\n",
       "      <td>-16250.0</td>\n",
       "    </tr>\n",
       "    <tr>\n",
       "      <th>1</th>\n",
       "      <td>39</td>\n",
       "      <td>69000</td>\n",
       "      <td>-5.5</td>\n",
       "      <td>-4250.0</td>\n",
       "    </tr>\n",
       "    <tr>\n",
       "      <th>2</th>\n",
       "      <td>49</td>\n",
       "      <td>77000</td>\n",
       "      <td>4.5</td>\n",
       "      <td>3750.0</td>\n",
       "    </tr>\n",
       "    <tr>\n",
       "      <th>3</th>\n",
       "      <td>60</td>\n",
       "      <td>90000</td>\n",
       "      <td>15.5</td>\n",
       "      <td>16750.0</td>\n",
       "    </tr>\n",
       "  </tbody>\n",
       "</table>\n",
       "</div>"
      ],
      "text/plain": [
       "   tamanho  preco  xi_x     yi_y\n",
       "0       30  57000 -14.5 -16250.0\n",
       "1       39  69000  -5.5  -4250.0\n",
       "2       49  77000   4.5   3750.0\n",
       "3       60  90000  15.5  16750.0"
      ]
     },
     "execution_count": 32,
     "metadata": {},
     "output_type": "execute_result"
    }
   ],
   "source": [
    "dataset['yi_y'] = dataset['preco'] - media_preco\n",
    "dataset"
   ]
  },
  {
   "cell_type": "code",
   "execution_count": 36,
   "id": "9d96edb4",
   "metadata": {},
   "outputs": [
    {
     "data": {
      "text/html": [
       "<div>\n",
       "<style scoped>\n",
       "    .dataframe tbody tr th:only-of-type {\n",
       "        vertical-align: middle;\n",
       "    }\n",
       "\n",
       "    .dataframe tbody tr th {\n",
       "        vertical-align: top;\n",
       "    }\n",
       "\n",
       "    .dataframe thead th {\n",
       "        text-align: right;\n",
       "    }\n",
       "</style>\n",
       "<table border=\"1\" class=\"dataframe\">\n",
       "  <thead>\n",
       "    <tr style=\"text-align: right;\">\n",
       "      <th></th>\n",
       "      <th>tamanho</th>\n",
       "      <th>preco</th>\n",
       "      <th>xi_x</th>\n",
       "      <th>yi_y</th>\n",
       "      <th>xi_x*yi_y</th>\n",
       "    </tr>\n",
       "  </thead>\n",
       "  <tbody>\n",
       "    <tr>\n",
       "      <th>0</th>\n",
       "      <td>30</td>\n",
       "      <td>57000</td>\n",
       "      <td>-14.5</td>\n",
       "      <td>-16250.0</td>\n",
       "      <td>235625.0</td>\n",
       "    </tr>\n",
       "    <tr>\n",
       "      <th>1</th>\n",
       "      <td>39</td>\n",
       "      <td>69000</td>\n",
       "      <td>-5.5</td>\n",
       "      <td>-4250.0</td>\n",
       "      <td>23375.0</td>\n",
       "    </tr>\n",
       "    <tr>\n",
       "      <th>2</th>\n",
       "      <td>49</td>\n",
       "      <td>77000</td>\n",
       "      <td>4.5</td>\n",
       "      <td>3750.0</td>\n",
       "      <td>16875.0</td>\n",
       "    </tr>\n",
       "    <tr>\n",
       "      <th>3</th>\n",
       "      <td>60</td>\n",
       "      <td>90000</td>\n",
       "      <td>15.5</td>\n",
       "      <td>16750.0</td>\n",
       "      <td>259625.0</td>\n",
       "    </tr>\n",
       "  </tbody>\n",
       "</table>\n",
       "</div>"
      ],
      "text/plain": [
       "   tamanho  preco  xi_x     yi_y  xi_x*yi_y\n",
       "0       30  57000 -14.5 -16250.0   235625.0\n",
       "1       39  69000  -5.5  -4250.0    23375.0\n",
       "2       49  77000   4.5   3750.0    16875.0\n",
       "3       60  90000  15.5  16750.0   259625.0"
      ]
     },
     "execution_count": 36,
     "metadata": {},
     "output_type": "execute_result"
    }
   ],
   "source": [
    "dataset['xi_x*yi_y'] = dataset['xi_x'] * dataset['yi_y']\n",
    "dataset"
   ]
  },
  {
   "cell_type": "code",
   "execution_count": 37,
   "id": "04b8a977",
   "metadata": {},
   "outputs": [
    {
     "data": {
      "text/plain": [
       "535500.0"
      ]
     },
     "execution_count": 37,
     "metadata": {},
     "output_type": "execute_result"
    }
   ],
   "source": [
    "soma_dif = dataset['xi_x*yi_y'].sum()\n",
    "soma_dif"
   ]
  },
  {
   "cell_type": "markdown",
   "id": "4cbc429d",
   "metadata": {},
   "source": [
    "#### Covariância"
   ]
  },
  {
   "cell_type": "code",
   "execution_count": 46,
   "id": "69477a12",
   "metadata": {},
   "outputs": [
    {
     "data": {
      "text/plain": [
       "178500.0"
      ]
     },
     "execution_count": 46,
     "metadata": {},
     "output_type": "execute_result"
    }
   ],
   "source": [
    "covariancia = soma_dif/(len(dataset)-1)\n",
    "covariancia"
   ]
  },
  {
   "cell_type": "code",
   "execution_count": 48,
   "id": "143a2968",
   "metadata": {},
   "outputs": [
    {
     "data": {
      "text/plain": [
       "0.9962006267707775"
      ]
     },
     "execution_count": 48,
     "metadata": {},
     "output_type": "execute_result"
    }
   ],
   "source": [
    "coeficiente_correlacao = covariancia/(dp_tamanho * dp_preco)\n",
    "coeficiente_correlacao"
   ]
  },
  {
   "cell_type": "code",
   "execution_count": 52,
   "id": "f3a692aa",
   "metadata": {},
   "outputs": [
    {
     "name": "stderr",
     "output_type": "stream",
     "text": [
      "c:\\users\\alisson\\appdata\\local\\programs\\python\\python39\\lib\\site-packages\\seaborn\\_decorators.py:36: FutureWarning: Pass the following variables as keyword args: x, y. From version 0.12, the only valid positional argument will be `data`, and passing other arguments without an explicit keyword will result in an error or misinterpretation.\n",
      "  warnings.warn(\n"
     ]
    },
    {
     "data": {
      "text/plain": [
       "<AxesSubplot:xlabel='tamanho', ylabel='preco'>"
      ]
     },
     "execution_count": 52,
     "metadata": {},
     "output_type": "execute_result"
    },
    {
     "data": {
      "image/png": "[encoded data removed]",
      "text/plain": [
       "<Figure size 432x288 with 1 Axes>"
      ]
     },
     "metadata": {
      "needs_background": "light"
     },
     "output_type": "display_data"
    }
   ],
   "source": [
    "sns.scatterplot(dataset['tamanho'], dataset['preco'])"
   ]
  },
  {
   "cell_type": "code",
   "execution_count": 53,
   "id": "e741cf85",
   "metadata": {},
   "outputs": [
    {
     "data": {
      "text/plain": [
       "0.9924156887784898"
      ]
     },
     "execution_count": 53,
     "metadata": {},
     "output_type": "execute_result"
    }
   ],
   "source": [
    "coeficiente_determinacao = math.pow(coeficiente_correlacao, 2)\n",
    "coeficiente_determinacao"
   ]
  },
  {
   "cell_type": "markdown",
   "id": "9c9bbaba",
   "metadata": {},
   "source": [
    "##### Numpy e Pandas"
   ]
  },
  {
   "cell_type": "code",
   "execution_count": 54,
   "id": "685951b0",
   "metadata": {},
   "outputs": [
    {
     "data": {
      "text/html": [
       "<div>\n",
       "<style scoped>\n",
       "    .dataframe tbody tr th:only-of-type {\n",
       "        vertical-align: middle;\n",
       "    }\n",
       "\n",
       "    .dataframe tbody tr th {\n",
       "        vertical-align: top;\n",
       "    }\n",
       "\n",
       "    .dataframe thead th {\n",
       "        text-align: right;\n",
       "    }\n",
       "</style>\n",
       "<table border=\"1\" class=\"dataframe\">\n",
       "  <thead>\n",
       "    <tr style=\"text-align: right;\">\n",
       "      <th></th>\n",
       "      <th>tamanho</th>\n",
       "      <th>preco</th>\n",
       "      <th>xi_x</th>\n",
       "      <th>yi_y</th>\n",
       "      <th>xi_x*yi_y</th>\n",
       "    </tr>\n",
       "  </thead>\n",
       "  <tbody>\n",
       "    <tr>\n",
       "      <th>tamanho</th>\n",
       "      <td>167.0</td>\n",
       "      <td>178500.0</td>\n",
       "      <td>167.0</td>\n",
       "      <td>178500.0</td>\n",
       "      <td>1.850000e+05</td>\n",
       "    </tr>\n",
       "    <tr>\n",
       "      <th>preco</th>\n",
       "      <td>178500.0</td>\n",
       "      <td>192250000.0</td>\n",
       "      <td>178500.0</td>\n",
       "      <td>192250000.0</td>\n",
       "      <td>1.612500e+08</td>\n",
       "    </tr>\n",
       "    <tr>\n",
       "      <th>xi_x</th>\n",
       "      <td>167.0</td>\n",
       "      <td>178500.0</td>\n",
       "      <td>167.0</td>\n",
       "      <td>178500.0</td>\n",
       "      <td>1.850000e+05</td>\n",
       "    </tr>\n",
       "    <tr>\n",
       "      <th>yi_y</th>\n",
       "      <td>178500.0</td>\n",
       "      <td>192250000.0</td>\n",
       "      <td>178500.0</td>\n",
       "      <td>192250000.0</td>\n",
       "      <td>1.612500e+08</td>\n",
       "    </tr>\n",
       "    <tr>\n",
       "      <th>xi_x*yi_y</th>\n",
       "      <td>185000.0</td>\n",
       "      <td>161250000.0</td>\n",
       "      <td>185000.0</td>\n",
       "      <td>161250000.0</td>\n",
       "      <td>1.735512e+10</td>\n",
       "    </tr>\n",
       "  </tbody>\n",
       "</table>\n",
       "</div>"
      ],
      "text/plain": [
       "            tamanho        preco      xi_x         yi_y     xi_x*yi_y\n",
       "tamanho       167.0     178500.0     167.0     178500.0  1.850000e+05\n",
       "preco      178500.0  192250000.0  178500.0  192250000.0  1.612500e+08\n",
       "xi_x          167.0     178500.0     167.0     178500.0  1.850000e+05\n",
       "yi_y       178500.0  192250000.0  178500.0  192250000.0  1.612500e+08\n",
       "xi_x*yi_y  185000.0  161250000.0  185000.0  161250000.0  1.735512e+10"
      ]
     },
     "execution_count": 54,
     "metadata": {},
     "output_type": "execute_result"
    }
   ],
   "source": [
    "dataset.cov()"
   ]
  },
  {
   "cell_type": "code",
   "execution_count": 55,
   "id": "aec6eed6",
   "metadata": {},
   "outputs": [
    {
     "data": {
      "text/plain": [
       "array([[1.        , 0.99620063],\n",
       "       [0.99620063, 1.        ]])"
      ]
     },
     "execution_count": 55,
     "metadata": {},
     "output_type": "execute_result"
    }
   ],
   "source": [
    "np.corrcoef(dataset['tamanho'], dataset['preco'])"
   ]
  },
  {
   "cell_type": "code",
   "execution_count": 56,
   "id": "7cc54754",
   "metadata": {},
   "outputs": [
    {
     "data": {
      "text/html": [
       "<div>\n",
       "<style scoped>\n",
       "    .dataframe tbody tr th:only-of-type {\n",
       "        vertical-align: middle;\n",
       "    }\n",
       "\n",
       "    .dataframe tbody tr th {\n",
       "        vertical-align: top;\n",
       "    }\n",
       "\n",
       "    .dataframe thead th {\n",
       "        text-align: right;\n",
       "    }\n",
       "</style>\n",
       "<table border=\"1\" class=\"dataframe\">\n",
       "  <thead>\n",
       "    <tr style=\"text-align: right;\">\n",
       "      <th></th>\n",
       "      <th>tamanho</th>\n",
       "      <th>preco</th>\n",
       "      <th>xi_x</th>\n",
       "      <th>yi_y</th>\n",
       "      <th>xi_x*yi_y</th>\n",
       "    </tr>\n",
       "  </thead>\n",
       "  <tbody>\n",
       "    <tr>\n",
       "      <th>tamanho</th>\n",
       "      <td>1.000000</td>\n",
       "      <td>0.996201</td>\n",
       "      <td>1.000000</td>\n",
       "      <td>0.996201</td>\n",
       "      <td>0.108667</td>\n",
       "    </tr>\n",
       "    <tr>\n",
       "      <th>preco</th>\n",
       "      <td>0.996201</td>\n",
       "      <td>1.000000</td>\n",
       "      <td>0.996201</td>\n",
       "      <td>1.000000</td>\n",
       "      <td>0.088278</td>\n",
       "    </tr>\n",
       "    <tr>\n",
       "      <th>xi_x</th>\n",
       "      <td>1.000000</td>\n",
       "      <td>0.996201</td>\n",
       "      <td>1.000000</td>\n",
       "      <td>0.996201</td>\n",
       "      <td>0.108667</td>\n",
       "    </tr>\n",
       "    <tr>\n",
       "      <th>yi_y</th>\n",
       "      <td>0.996201</td>\n",
       "      <td>1.000000</td>\n",
       "      <td>0.996201</td>\n",
       "      <td>1.000000</td>\n",
       "      <td>0.088278</td>\n",
       "    </tr>\n",
       "    <tr>\n",
       "      <th>xi_x*yi_y</th>\n",
       "      <td>0.108667</td>\n",
       "      <td>0.088278</td>\n",
       "      <td>0.108667</td>\n",
       "      <td>0.088278</td>\n",
       "      <td>1.000000</td>\n",
       "    </tr>\n",
       "  </tbody>\n",
       "</table>\n",
       "</div>"
      ],
      "text/plain": [
       "            tamanho     preco      xi_x      yi_y  xi_x*yi_y\n",
       "tamanho    1.000000  0.996201  1.000000  0.996201   0.108667\n",
       "preco      0.996201  1.000000  0.996201  1.000000   0.088278\n",
       "xi_x       1.000000  0.996201  1.000000  0.996201   0.108667\n",
       "yi_y       0.996201  1.000000  0.996201  1.000000   0.088278\n",
       "xi_x*yi_y  0.108667  0.088278  0.108667  0.088278   1.000000"
      ]
     },
     "execution_count": 56,
     "metadata": {},
     "output_type": "execute_result"
    }
   ],
   "source": [
    "dataset.corr()"
   ]
  }
 ],
 "metadata": {
  "kernelspec": {
   "display_name": "Python 3",
   "language": "python",
   "name": "python3"
  },
  "language_info": {
   "codemirror_mode": {
    "name": "ipython",
    "version": 3
   },
   "file_extension": ".py",
   "mimetype": "text/x-python",
   "name": "python",
   "nbconvert_exporter": "python",
   "pygments_lexer": "ipython3",
   "version": "3.9.2"
  }
 },
 "nbformat": 4,
 "nbformat_minor": 5
}
