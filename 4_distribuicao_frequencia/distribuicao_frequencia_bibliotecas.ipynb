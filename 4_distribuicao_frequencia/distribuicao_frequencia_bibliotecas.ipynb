{
 "cells": [
  {
   "cell_type": "markdown",
   "id": "a25ed256",
   "metadata": {},
   "source": [
    "## Numpy e Matplotlib"
   ]
  },
  {
   "cell_type": "code",
   "execution_count": 12,
   "id": "b4d154aa",
   "metadata": {},
   "outputs": [],
   "source": [
    "import numpy as np\n",
    "import matplotlib.pyplot as plt"
   ]
  },
  {
   "cell_type": "code",
   "execution_count": 13,
   "id": "f929c196",
   "metadata": {},
   "outputs": [],
   "source": [
    "dados = np.array([\n",
    "    160,165,167,164,160,166,160,161,150,152,173,160,155,\n",
    "    164,168,162,161,168,163,156,155,169,151,170,164,\n",
    "    155,152,163,160,155,157,156,158,158,161,154,161,156,172,153\n",
    "])"
   ]
  },
  {
   "cell_type": "code",
   "execution_count": 14,
   "id": "60f9750b",
   "metadata": {},
   "outputs": [
    {
     "data": {
      "text/plain": [
       "(array([4, 2, 7, 3, 9, 3, 5, 3, 2, 2], dtype=int64),\n",
       " array([150. , 152.3, 154.6, 156.9, 159.2, 161.5, 163.8, 166.1, 168.4,\n",
       "        170.7, 173. ]))"
      ]
     },
     "execution_count": 14,
     "metadata": {},
     "output_type": "execute_result"
    }
   ],
   "source": [
    "frequencia, classes = np.histogram(dados)\n",
    "frequencia, classes"
   ]
  },
  {
   "cell_type": "code",
   "execution_count": 15,
   "id": "c8a84cbc",
   "metadata": {},
   "outputs": [
    {
     "data": {
      "text/plain": [
       "(array([4., 2., 7., 3., 9., 3., 5., 3., 2., 2.]),\n",
       " array([150. , 152.3, 154.6, 156.9, 159.2, 161.5, 163.8, 166.1, 168.4,\n",
       "        170.7, 173. ]),\n",
       " <BarContainer object of 10 artists>)"
      ]
     },
     "execution_count": 15,
     "metadata": {},
     "output_type": "execute_result"
    },
    {
     "data": {
      "image/png": "[encoded data removed]",
      "text/plain": [
       "<Figure size 432x288 with 1 Axes>"
      ]
     },
     "metadata": {
      "needs_background": "light"
     },
     "output_type": "display_data"
    }
   ],
   "source": [
    "plt.hist(dados)"
   ]
  },
  {
   "cell_type": "code",
   "execution_count": 16,
   "id": "65e9b2d0",
   "metadata": {
    "scrolled": true
   },
   "outputs": [
    {
     "data": {
      "text/plain": [
       "(array([ 6, 10, 12,  8,  4], dtype=int64),\n",
       " array([150. , 154.6, 159.2, 163.8, 168.4, 173. ]))"
      ]
     },
     "execution_count": 16,
     "metadata": {},
     "output_type": "execute_result"
    }
   ],
   "source": [
    "frequencia, classes = np.histogram(dados, bins=5)\n",
    "frequencia, classes"
   ]
  },
  {
   "cell_type": "code",
   "execution_count": 17,
   "id": "18c03c59",
   "metadata": {},
   "outputs": [
    {
     "data": {
      "text/plain": [
       "(array([ 6., 10., 12.,  8.,  4.]),\n",
       " array([150. , 154.6, 159.2, 163.8, 168.4, 173. ]),\n",
       " <BarContainer object of 5 artists>)"
      ]
     },
     "execution_count": 17,
     "metadata": {},
     "output_type": "execute_result"
    },
    {
     "data": {
      "image/png": "[encoded data removed]",
      "text/plain": [
       "<Figure size 432x288 with 1 Axes>"
      ]
     },
     "metadata": {
      "needs_background": "light"
     },
     "output_type": "display_data"
    }
   ],
   "source": [
    "plt.hist(dados, classes)"
   ]
  },
  {
   "cell_type": "code",
   "execution_count": 18,
   "id": "eeef23c5",
   "metadata": {},
   "outputs": [
    {
     "data": {
      "text/plain": [
       "(array([ 5,  8,  3, 12,  5,  4,  3], dtype=int64),\n",
       " array([150.        , 153.28571429, 156.57142857, 159.85714286,\n",
       "        163.14285714, 166.42857143, 169.71428571, 173.        ]))"
      ]
     },
     "execution_count": 18,
     "metadata": {},
     "output_type": "execute_result"
    }
   ],
   "source": [
    "frequencia, classes = np.histogram(dados, bins='sturges')\n",
    "frequencia, classes"
   ]
  },
  {
   "cell_type": "code",
   "execution_count": 19,
   "id": "27c1d7cb",
   "metadata": {},
   "outputs": [
    {
     "data": {
      "text/plain": [
       "(array([ 5.,  8.,  3., 12.,  5.,  4.,  3.]),\n",
       " array([150.        , 153.28571429, 156.57142857, 159.85714286,\n",
       "        163.14285714, 166.42857143, 169.71428571, 173.        ]),\n",
       " <BarContainer object of 7 artists>)"
      ]
     },
     "execution_count": 19,
     "metadata": {},
     "output_type": "execute_result"
    },
    {
     "data": {
      "image/png": "[encoded data removed]",
      "text/plain": [
       "<Figure size 432x288 with 1 Axes>"
      ]
     },
     "metadata": {
      "needs_background": "light"
     },
     "output_type": "display_data"
    }
   ],
   "source": [
    "plt.hist(dados, classes)"
   ]
  }
 ],
 "metadata": {
  "kernelspec": {
   "display_name": "Python 3",
   "language": "python",
   "name": "python3"
  },
  "language_info": {
   "codemirror_mode": {
    "name": "ipython",
    "version": 3
   },
   "file_extension": ".py",
   "mimetype": "text/x-python",
   "name": "python",
   "nbconvert_exporter": "python",
   "pygments_lexer": "ipython3",
   "version": "3.9.2"
  }
 },
 "nbformat": 4,
 "nbformat_minor": 5
}
