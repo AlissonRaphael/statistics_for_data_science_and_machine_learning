{
 "cells": [
  {
   "cell_type": "code",
   "execution_count": 10,
   "id": "5ef04346",
   "metadata": {},
   "outputs": [],
   "source": [
    "from scipy.stats import uniform\n",
    "import seaborn as sns\n",
    "import numpy as np"
   ]
  },
  {
   "cell_type": "code",
   "execution_count": 2,
   "id": "0bd28a4d",
   "metadata": {},
   "outputs": [],
   "source": [
    "dados_uniforme = uniform.rvs(size=1000)"
   ]
  },
  {
   "cell_type": "code",
   "execution_count": 6,
   "id": "f8fedc43",
   "metadata": {},
   "outputs": [
    {
     "data": {
      "text/plain": [
       "<AxesSubplot:ylabel='Count'>"
      ]
     },
     "execution_count": 6,
     "metadata": {},
     "output_type": "execute_result"
    },
    {
     "data": {
      "image/png": "[encoded data removed]",
      "text/plain": [
       "<Figure size 432x288 with 1 Axes>"
      ]
     },
     "metadata": {
      "needs_background": "light"
     },
     "output_type": "display_data"
    }
   ],
   "source": [
    "sns.histplot(dados_uniforme, kde=True)"
   ]
  },
  {
   "cell_type": "code",
   "execution_count": 8,
   "id": "11622dfd",
   "metadata": {},
   "outputs": [
    {
     "data": {
      "text/plain": [
       "(0.0013359053291499556, 0.999800876262499)"
      ]
     },
     "execution_count": 8,
     "metadata": {},
     "output_type": "execute_result"
    }
   ],
   "source": [
    "min(dados_uniforme), max(dados_uniforme)"
   ]
  },
  {
   "cell_type": "code",
   "execution_count": 12,
   "id": "996ea45b",
   "metadata": {
    "scrolled": true
   },
   "outputs": [
    {
     "data": {
      "text/plain": [
       "(array([0.00133591, 0.00152309, 0.0026442 , 0.00401122, 0.00404896,\n",
       "        0.00458498, 0.00613489, 0.00772999, 0.00916506, 0.0103088 ,\n",
       "        0.01076127, 0.01101314, 0.01119799, 0.01331816, 0.01537513,\n",
       "        0.01862965, 0.01914561, 0.01962382, 0.01972014, 0.01981941,\n",
       "        0.01985418, 0.02045094, 0.02067091, 0.02166558, 0.02193894,\n",
       "        0.02284084, 0.02305856, 0.02673411, 0.02762071, 0.02799301,\n",
       "        0.02851245, 0.02963899, 0.03082797, 0.0308691 , 0.03131502,\n",
       "        0.03454582, 0.03457368, 0.03466644, 0.03469796, 0.03591521,\n",
       "        0.03592375, 0.03593684, 0.03599639, 0.03661378, 0.03667922,\n",
       "        0.03847589, 0.03854403, 0.03977927, 0.04015552, 0.04082411,\n",
       "        0.04408324, 0.04446938, 0.04567659, 0.04623966, 0.04651975,\n",
       "        0.05020835, 0.05169432, 0.05174762, 0.05239006, 0.05384662,\n",
       "        0.05408299, 0.05550491, 0.05701912, 0.05709439, 0.0574558 ,\n",
       "        0.05750522, 0.06017852, 0.06070331, 0.06323652, 0.06629721,\n",
       "        0.06655446, 0.06983299, 0.0700001 , 0.07045653, 0.07051425,\n",
       "        0.07094717, 0.07607314, 0.0785915 , 0.07948842, 0.08191084,\n",
       "        0.08238795, 0.08270121, 0.08286483, 0.0829577 , 0.08412932,\n",
       "        0.08433375, 0.08505629, 0.0864695 , 0.08780767, 0.08943115,\n",
       "        0.09316221, 0.09346485, 0.09668709, 0.09835382, 0.10004534,\n",
       "        0.10023295, 0.10115145, 0.10148991, 0.103063  , 0.10606528,\n",
       "        0.10996593, 0.11013719, 0.11231674, 0.11255211, 0.11283177,\n",
       "        0.11512847, 0.11520009, 0.11927609, 0.1204948 , 0.12084059,\n",
       "        0.12102055, 0.12178272, 0.12243901, 0.12322525, 0.12365017,\n",
       "        0.12446582, 0.12737031, 0.12758345, 0.13378611, 0.13440343,\n",
       "        0.13470641, 0.13512099, 0.13516599, 0.13524277, 0.13596504,\n",
       "        0.1374813 , 0.13776194, 0.13777238, 0.13839613, 0.13895961,\n",
       "        0.13928285, 0.14048069, 0.14057103, 0.14157478, 0.14186072,\n",
       "        0.14203437, 0.14255484, 0.14327734, 0.14328619, 0.1443428 ,\n",
       "        0.14512119, 0.14534368, 0.14559912, 0.14614741, 0.14676772,\n",
       "        0.14739867, 0.14751187, 0.14826647, 0.14901757, 0.15207608,\n",
       "        0.15238532, 0.15246052, 0.15406536, 0.15430532, 0.15485553,\n",
       "        0.15743511, 0.15792813, 0.15942414, 0.16164919, 0.16167386,\n",
       "        0.16236016, 0.16264562, 0.16376405, 0.16458932, 0.16499113,\n",
       "        0.16538165, 0.16665938, 0.16773304, 0.16817668, 0.16870378,\n",
       "        0.1705171 , 0.17079147, 0.17365275, 0.17612169, 0.17659682,\n",
       "        0.17754062, 0.17793817, 0.17968537, 0.18024925, 0.18216778,\n",
       "        0.18303132, 0.18347803, 0.18373427, 0.18544549, 0.18744186,\n",
       "        0.18802287, 0.188512  , 0.189756  , 0.19037182, 0.19174211,\n",
       "        0.19222377, 0.19486899, 0.19540048, 0.19682335, 0.197026  ,\n",
       "        0.19730713, 0.19810747, 0.19926844, 0.19933919, 0.19990511,\n",
       "        0.20025249, 0.20098571, 0.20107405, 0.20180269, 0.20383674,\n",
       "        0.20461585, 0.20465717, 0.20518929, 0.20589078, 0.20657919,\n",
       "        0.20783058, 0.20852766, 0.20896105, 0.2109625 , 0.21522313,\n",
       "        0.21600959, 0.21602708, 0.21678089, 0.21864576, 0.21887335,\n",
       "        0.21913958, 0.21916914, 0.21927576, 0.21939302, 0.22119692,\n",
       "        0.22182271, 0.22192737, 0.22207911, 0.22250279, 0.22262677,\n",
       "        0.2249467 , 0.22528975, 0.2267017 , 0.2275921 , 0.22793315,\n",
       "        0.22979829, 0.22989262, 0.23210836, 0.23491025, 0.23512239,\n",
       "        0.23559305, 0.23720946, 0.23950711, 0.23961934, 0.24019806,\n",
       "        0.24070362, 0.24148957, 0.24167538, 0.24219854, 0.24428991,\n",
       "        0.24509341, 0.2455178 , 0.2466072 , 0.24751628, 0.24843022,\n",
       "        0.24856422, 0.24871599, 0.24933951, 0.25137234, 0.25260417,\n",
       "        0.25363027, 0.25443333, 0.2563984 , 0.25945448, 0.2614947 ,\n",
       "        0.26202313, 0.26208082, 0.26386655, 0.26470545, 0.26547458,\n",
       "        0.26548958, 0.26794879, 0.26861905, 0.27037703, 0.27175886,\n",
       "        0.27177511, 0.27367098, 0.27436479, 0.27588475, 0.27646677,\n",
       "        0.27787142, 0.27788238, 0.27858241, 0.27874531, 0.278767  ,\n",
       "        0.27987486, 0.28122242, 0.28386697, 0.28429074, 0.28452545,\n",
       "        0.28471592, 0.2860352 , 0.28714046, 0.28865254, 0.29075583,\n",
       "        0.29295954, 0.29300543, 0.29536212, 0.29572237, 0.29792571,\n",
       "        0.29812751, 0.29863886, 0.30043183, 0.30239935, 0.30350293,\n",
       "        0.30406215, 0.30437672, 0.30715705, 0.30971054, 0.3125901 ,\n",
       "        0.31456971, 0.31536025, 0.31712487, 0.31864981, 0.32048663,\n",
       "        0.32231159, 0.32245465, 0.3237865 , 0.32502346, 0.32721719,\n",
       "        0.32745372, 0.33240596, 0.33313306, 0.33350411, 0.33493416,\n",
       "        0.3354198 , 0.336454  , 0.33820589, 0.33956304, 0.33973476,\n",
       "        0.34109297, 0.34167543, 0.34380764, 0.34424008, 0.34484694,\n",
       "        0.34502032, 0.34743184, 0.34755088, 0.34862831, 0.34976102,\n",
       "        0.35120092, 0.35122768, 0.35136421, 0.35261569, 0.35484579,\n",
       "        0.35591976, 0.35651507, 0.35700693, 0.35742519, 0.36072456,\n",
       "        0.36128625, 0.36164773, 0.36202064, 0.36333619, 0.3636285 ,\n",
       "        0.36606115, 0.36692869, 0.36781367, 0.36901401, 0.37061719,\n",
       "        0.37185796, 0.37249686, 0.3758974 , 0.37599447, 0.37881719,\n",
       "        0.3807239 , 0.3809551 , 0.38168874, 0.38171447, 0.38238474,\n",
       "        0.3829719 , 0.38422206, 0.38435046, 0.38612192, 0.38696513,\n",
       "        0.38818355, 0.38891832, 0.39043668, 0.39095075, 0.39155826,\n",
       "        0.39232513, 0.39295527, 0.39408601, 0.39421498, 0.39689045,\n",
       "        0.3974156 , 0.39832686, 0.39858263, 0.39928532, 0.39972593,\n",
       "        0.39974832, 0.40004387, 0.4019152 , 0.4032957 , 0.40356448,\n",
       "        0.40459274, 0.40507191, 0.40541575, 0.40549569, 0.40743096,\n",
       "        0.40773067, 0.40823928, 0.41012588, 0.4109232 , 0.41488187,\n",
       "        0.41529588, 0.41636487, 0.41686725, 0.41691472, 0.41851243,\n",
       "        0.4186713 , 0.4191176 , 0.42012431, 0.42089325, 0.42358335,\n",
       "        0.42394967, 0.42432493, 0.42452933, 0.42513677, 0.42606211,\n",
       "        0.42672614, 0.42692958, 0.43011107, 0.43128394, 0.43402561,\n",
       "        0.43475413, 0.43510066, 0.43620306, 0.43685865, 0.43878563,\n",
       "        0.43913788, 0.44209201, 0.44220344, 0.44303776, 0.44527992,\n",
       "        0.44678488, 0.44758759, 0.44759475, 0.44848176, 0.44990157,\n",
       "        0.45307172, 0.45315488, 0.45344658, 0.45474131, 0.45497157,\n",
       "        0.45567558, 0.45694843, 0.4575006 , 0.45768486, 0.45941935,\n",
       "        0.46028419, 0.46090598, 0.46093514, 0.46113644, 0.4620088 ,\n",
       "        0.46207056, 0.46246154, 0.4629231 , 0.4632617 , 0.46387495,\n",
       "        0.46486271, 0.46502863, 0.46631402, 0.46655702, 0.4674419 ,\n",
       "        0.47094426, 0.47286404, 0.47400896, 0.47849015, 0.4796457 ,\n",
       "        0.48051237, 0.48082367, 0.48096415, 0.48139233, 0.48184714,\n",
       "        0.48322037, 0.48325528, 0.48466525, 0.48818134, 0.4887086 ,\n",
       "        0.48901523, 0.48988357, 0.49027738, 0.4902973 , 0.49154005,\n",
       "        0.49300372, 0.493039  , 0.49314805, 0.49373456, 0.49495674,\n",
       "        0.49501804, 0.49512495, 0.49527052, 0.4963666 , 0.49762738,\n",
       "        0.49871516, 0.49874654, 0.49929529, 0.4993255 , 0.50045736,\n",
       "        0.50079234, 0.50087465, 0.50097021, 0.50108628, 0.50128627,\n",
       "        0.50179069, 0.50200009, 0.50339548, 0.50410805, 0.50426317,\n",
       "        0.50600026, 0.50753923, 0.50803212, 0.51071716, 0.51202469,\n",
       "        0.51721215, 0.51956258, 0.52087958, 0.52104418, 0.52199043,\n",
       "        0.52305838, 0.52404532, 0.52466301, 0.52556757, 0.52935483,\n",
       "        0.53058923, 0.53123093, 0.53390113, 0.5340949 , 0.53410044,\n",
       "        0.53590612, 0.53636996, 0.53645082, 0.53674525, 0.53735244,\n",
       "        0.54055094, 0.54102597, 0.54290829, 0.5429889 , 0.54385065,\n",
       "        0.546362  , 0.54691245, 0.54713734, 0.54819852, 0.54895366,\n",
       "        0.54946492, 0.55058726, 0.55062965, 0.55171938, 0.55442355,\n",
       "        0.55654233, 0.55737951, 0.55925549, 0.5604799 , 0.56184454,\n",
       "        0.56357222, 0.56467677, 0.5655542 , 0.56586397, 0.56786293,\n",
       "        0.56902421, 0.56964136, 0.57032947, 0.57183963, 0.57194463,\n",
       "        0.57212029, 0.57249273, 0.57338106, 0.57351073, 0.57481461,\n",
       "        0.57617654, 0.57626805, 0.57653737, 0.57661199, 0.57866201,\n",
       "        0.57971287, 0.57979978, 0.58148479, 0.5838438 , 0.58425197,\n",
       "        0.58465436, 0.58475399, 0.58762991, 0.58877127, 0.59029994,\n",
       "        0.59095183, 0.59098202, 0.59133105, 0.59322722, 0.59462818,\n",
       "        0.59488392, 0.59511055, 0.59629174, 0.60076267, 0.60164095,\n",
       "        0.60226796, 0.60322421, 0.60397188, 0.60553686, 0.60681297,\n",
       "        0.60708455, 0.60847643, 0.60920303, 0.60931739, 0.6096272 ,\n",
       "        0.61049107, 0.61146187, 0.61229652, 0.61323909, 0.6138811 ,\n",
       "        0.61619148, 0.61666487, 0.61714464, 0.61844878, 0.62034975,\n",
       "        0.6220691 , 0.62232418, 0.62285881, 0.62335808, 0.62403893,\n",
       "        0.62435164, 0.62509683, 0.62626965, 0.62750674, 0.62769677,\n",
       "        0.62828207, 0.62865166, 0.62977998, 0.62983697, 0.63050593,\n",
       "        0.63109274, 0.63326787, 0.63479218, 0.63531498, 0.63694416,\n",
       "        0.63770189, 0.6398041 , 0.64007   , 0.64109389, 0.64193429,\n",
       "        0.64218719, 0.64234848, 0.64262637, 0.64290606, 0.64537132,\n",
       "        0.64586006, 0.64592744, 0.6485604 , 0.65019729, 0.65083304,\n",
       "        0.65167932, 0.65386183, 0.65509455, 0.65551843, 0.65600339,\n",
       "        0.65810672, 0.65849627, 0.65910766, 0.65922763, 0.66283031,\n",
       "        0.66361874, 0.66587123, 0.66720043, 0.66816506, 0.66838657,\n",
       "        0.66888123, 0.67122793, 0.67284919, 0.67333147, 0.6746468 ,\n",
       "        0.67607997, 0.67611331, 0.67769585, 0.67790543, 0.67793647,\n",
       "        0.67836399, 0.6814503 , 0.68156496, 0.68167503, 0.68169981,\n",
       "        0.68438993, 0.68512139, 0.6861101 , 0.68682215, 0.68707039,\n",
       "        0.68753155, 0.68872964, 0.68978402, 0.69175211, 0.69202901,\n",
       "        0.69345857, 0.69358294, 0.69500116, 0.69627834, 0.6964598 ,\n",
       "        0.69858267, 0.69897476, 0.70262864, 0.7037061 , 0.70414542,\n",
       "        0.70676243, 0.70844643, 0.70912252, 0.71041007, 0.71127596,\n",
       "        0.71275554, 0.7138753 , 0.71531181, 0.71537792, 0.7160611 ,\n",
       "        0.71624617, 0.71659746, 0.72119602, 0.72183745, 0.72439555,\n",
       "        0.7253829 , 0.72561655, 0.72613482, 0.72726257, 0.72796958,\n",
       "        0.72848651, 0.72907555, 0.72915465, 0.72984294, 0.73069162,\n",
       "        0.73272041, 0.73297809, 0.73306488, 0.73424929, 0.73426747,\n",
       "        0.73529208, 0.73544773, 0.73623909, 0.73800734, 0.73988056,\n",
       "        0.74060554, 0.74074936, 0.74258127, 0.74320754, 0.74406158,\n",
       "        0.74628254, 0.7472267 , 0.74757888, 0.74795743, 0.74815019,\n",
       "        0.74842814, 0.74866066, 0.74867957, 0.75019053, 0.75060438,\n",
       "        0.75072843, 0.7512527 , 0.75179012, 0.75333773, 0.7555722 ,\n",
       "        0.75562274, 0.75709347, 0.75745088, 0.75791364, 0.76111631,\n",
       "        0.7612386 , 0.76210514, 0.76299392, 0.76503079, 0.76566895,\n",
       "        0.76647501, 0.76810664, 0.76825837, 0.76896327, 0.76899417,\n",
       "        0.76930235, 0.76999751, 0.77094566, 0.77153652, 0.77290785,\n",
       "        0.7731271 , 0.77390407, 0.7759187 , 0.77635413, 0.77700551,\n",
       "        0.77734425, 0.77748914, 0.77853398, 0.77887292, 0.78035966,\n",
       "        0.7822304 , 0.78493683, 0.785396  , 0.78590277, 0.78591525,\n",
       "        0.78663221, 0.78780884, 0.78911297, 0.79034443, 0.79114999,\n",
       "        0.79338238, 0.79373993, 0.79583188, 0.79614169, 0.79615589,\n",
       "        0.79695334, 0.79865223, 0.80157649, 0.80262315, 0.80295995,\n",
       "        0.80612523, 0.80753653, 0.80951324, 0.81032266, 0.81111843,\n",
       "        0.81179651, 0.81204607, 0.81245809, 0.8126806 , 0.81477903,\n",
       "        0.81534333, 0.81702722, 0.82041762, 0.82089781, 0.82197307,\n",
       "        0.8235446 , 0.82423262, 0.824797  , 0.82504742, 0.82630591,\n",
       "        0.8270683 , 0.82780711, 0.83107657, 0.83115179, 0.83183492,\n",
       "        0.83230905, 0.83249683, 0.8325685 , 0.83315943, 0.83336601,\n",
       "        0.83370661, 0.83848785, 0.84042958, 0.84129425, 0.8413861 ,\n",
       "        0.84168979, 0.8418193 , 0.84182917, 0.84214906, 0.84219631,\n",
       "        0.84283569, 0.84391755, 0.84458615, 0.84654831, 0.84684237,\n",
       "        0.84713402, 0.8476441 , 0.84868266, 0.84943408, 0.84944177,\n",
       "        0.84968016, 0.85000515, 0.85072039, 0.85120276, 0.85247909,\n",
       "        0.85337751, 0.85495607, 0.85518643, 0.85540159, 0.85585302,\n",
       "        0.85605685, 0.85620534, 0.85627696, 0.85752156, 0.85769192,\n",
       "        0.85907415, 0.86106906, 0.86168172, 0.86287128, 0.86466101,\n",
       "        0.86568374, 0.87032272, 0.87058947, 0.87154563, 0.87173511,\n",
       "        0.87176508, 0.87371582, 0.87642813, 0.87693587, 0.87752558,\n",
       "        0.88125601, 0.88148995, 0.88218453, 0.8821886 , 0.88396881,\n",
       "        0.88469327, 0.88522922, 0.88543338, 0.88745682, 0.88754891,\n",
       "        0.88770549, 0.8890031 , 0.89095629, 0.89098896, 0.89134387,\n",
       "        0.89135101, 0.89299067, 0.89356964, 0.89762366, 0.89910288,\n",
       "        0.8993605 , 0.89954044, 0.90013279, 0.90037043, 0.90286865,\n",
       "        0.90524739, 0.90534609, 0.90605259, 0.90625818, 0.90695673,\n",
       "        0.90807228, 0.90838727, 0.9116921 , 0.91192333, 0.914838  ,\n",
       "        0.91556382, 0.91832538, 0.91897164, 0.91921307, 0.92000936,\n",
       "        0.92032572, 0.92192075, 0.92285845, 0.92446005, 0.92535948,\n",
       "        0.92643355, 0.92659398, 0.92715951, 0.92720793, 0.92732399,\n",
       "        0.92943076, 0.93050441, 0.93114539, 0.93170335, 0.93222531,\n",
       "        0.93250975, 0.93351148, 0.93603926, 0.93758064, 0.93791277,\n",
       "        0.93841797, 0.93997917, 0.94030184, 0.94061437, 0.943444  ,\n",
       "        0.94371545, 0.94481772, 0.94693124, 0.94793672, 0.94849395,\n",
       "        0.95089553, 0.95098816, 0.95128704, 0.95145958, 0.95343415,\n",
       "        0.95369177, 0.95518653, 0.95953817, 0.96012987, 0.96172656,\n",
       "        0.96342314, 0.96408595, 0.96804204, 0.96823522, 0.96845268,\n",
       "        0.96983412, 0.97571922, 0.9762508 , 0.97750946, 0.97808558,\n",
       "        0.97874324, 0.97957746, 0.97991201, 0.98089696, 0.98099186,\n",
       "        0.98124469, 0.98197959, 0.9821601 , 0.98270129, 0.98271621,\n",
       "        0.98423267, 0.9844233 , 0.98568056, 0.98744405, 0.98825462,\n",
       "        0.98924809, 0.99029745, 0.99155619, 0.99182385, 0.99283379,\n",
       "        0.99291662, 0.99700603, 0.99891556, 0.99970586, 0.99980088]),\n",
       " array([1, 1, 1, 1, 1, 1, 1, 1, 1, 1, 1, 1, 1, 1, 1, 1, 1, 1, 1, 1, 1, 1,\n",
       "        1, 1, 1, 1, 1, 1, 1, 1, 1, 1, 1, 1, 1, 1, 1, 1, 1, 1, 1, 1, 1, 1,\n",
       "        1, 1, 1, 1, 1, 1, 1, 1, 1, 1, 1, 1, 1, 1, 1, 1, 1, 1, 1, 1, 1, 1,\n",
       "        1, 1, 1, 1, 1, 1, 1, 1, 1, 1, 1, 1, 1, 1, 1, 1, 1, 1, 1, 1, 1, 1,\n",
       "        1, 1, 1, 1, 1, 1, 1, 1, 1, 1, 1, 1, 1, 1, 1, 1, 1, 1, 1, 1, 1, 1,\n",
       "        1, 1, 1, 1, 1, 1, 1, 1, 1, 1, 1, 1, 1, 1, 1, 1, 1, 1, 1, 1, 1, 1,\n",
       "        1, 1, 1, 1, 1, 1, 1, 1, 1, 1, 1, 1, 1, 1, 1, 1, 1, 1, 1, 1, 1, 1,\n",
       "        1, 1, 1, 1, 1, 1, 1, 1, 1, 1, 1, 1, 1, 1, 1, 1, 1, 1, 1, 1, 1, 1,\n",
       "        1, 1, 1, 1, 1, 1, 1, 1, 1, 1, 1, 1, 1, 1, 1, 1, 1, 1, 1, 1, 1, 1,\n",
       "        1, 1, 1, 1, 1, 1, 1, 1, 1, 1, 1, 1, 1, 1, 1, 1, 1, 1, 1, 1, 1, 1,\n",
       "        1, 1, 1, 1, 1, 1, 1, 1, 1, 1, 1, 1, 1, 1, 1, 1, 1, 1, 1, 1, 1, 1,\n",
       "        1, 1, 1, 1, 1, 1, 1, 1, 1, 1, 1, 1, 1, 1, 1, 1, 1, 1, 1, 1, 1, 1,\n",
       "        1, 1, 1, 1, 1, 1, 1, 1, 1, 1, 1, 1, 1, 1, 1, 1, 1, 1, 1, 1, 1, 1,\n",
       "        1, 1, 1, 1, 1, 1, 1, 1, 1, 1, 1, 1, 1, 1, 1, 1, 1, 1, 1, 1, 1, 1,\n",
       "        1, 1, 1, 1, 1, 1, 1, 1, 1, 1, 1, 1, 1, 1, 1, 1, 1, 1, 1, 1, 1, 1,\n",
       "        1, 1, 1, 1, 1, 1, 1, 1, 1, 1, 1, 1, 1, 1, 1, 1, 1, 1, 1, 1, 1, 1,\n",
       "        1, 1, 1, 1, 1, 1, 1, 1, 1, 1, 1, 1, 1, 1, 1, 1, 1, 1, 1, 1, 1, 1,\n",
       "        1, 1, 1, 1, 1, 1, 1, 1, 1, 1, 1, 1, 1, 1, 1, 1, 1, 1, 1, 1, 1, 1,\n",
       "        1, 1, 1, 1, 1, 1, 1, 1, 1, 1, 1, 1, 1, 1, 1, 1, 1, 1, 1, 1, 1, 1,\n",
       "        1, 1, 1, 1, 1, 1, 1, 1, 1, 1, 1, 1, 1, 1, 1, 1, 1, 1, 1, 1, 1, 1,\n",
       "        1, 1, 1, 1, 1, 1, 1, 1, 1, 1, 1, 1, 1, 1, 1, 1, 1, 1, 1, 1, 1, 1,\n",
       "        1, 1, 1, 1, 1, 1, 1, 1, 1, 1, 1, 1, 1, 1, 1, 1, 1, 1, 1, 1, 1, 1,\n",
       "        1, 1, 1, 1, 1, 1, 1, 1, 1, 1, 1, 1, 1, 1, 1, 1, 1, 1, 1, 1, 1, 1,\n",
       "        1, 1, 1, 1, 1, 1, 1, 1, 1, 1, 1, 1, 1, 1, 1, 1, 1, 1, 1, 1, 1, 1,\n",
       "        1, 1, 1, 1, 1, 1, 1, 1, 1, 1, 1, 1, 1, 1, 1, 1, 1, 1, 1, 1, 1, 1,\n",
       "        1, 1, 1, 1, 1, 1, 1, 1, 1, 1, 1, 1, 1, 1, 1, 1, 1, 1, 1, 1, 1, 1,\n",
       "        1, 1, 1, 1, 1, 1, 1, 1, 1, 1, 1, 1, 1, 1, 1, 1, 1, 1, 1, 1, 1, 1,\n",
       "        1, 1, 1, 1, 1, 1, 1, 1, 1, 1, 1, 1, 1, 1, 1, 1, 1, 1, 1, 1, 1, 1,\n",
       "        1, 1, 1, 1, 1, 1, 1, 1, 1, 1, 1, 1, 1, 1, 1, 1, 1, 1, 1, 1, 1, 1,\n",
       "        1, 1, 1, 1, 1, 1, 1, 1, 1, 1, 1, 1, 1, 1, 1, 1, 1, 1, 1, 1, 1, 1,\n",
       "        1, 1, 1, 1, 1, 1, 1, 1, 1, 1, 1, 1, 1, 1, 1, 1, 1, 1, 1, 1, 1, 1,\n",
       "        1, 1, 1, 1, 1, 1, 1, 1, 1, 1, 1, 1, 1, 1, 1, 1, 1, 1, 1, 1, 1, 1,\n",
       "        1, 1, 1, 1, 1, 1, 1, 1, 1, 1, 1, 1, 1, 1, 1, 1, 1, 1, 1, 1, 1, 1,\n",
       "        1, 1, 1, 1, 1, 1, 1, 1, 1, 1, 1, 1, 1, 1, 1, 1, 1, 1, 1, 1, 1, 1,\n",
       "        1, 1, 1, 1, 1, 1, 1, 1, 1, 1, 1, 1, 1, 1, 1, 1, 1, 1, 1, 1, 1, 1,\n",
       "        1, 1, 1, 1, 1, 1, 1, 1, 1, 1, 1, 1, 1, 1, 1, 1, 1, 1, 1, 1, 1, 1,\n",
       "        1, 1, 1, 1, 1, 1, 1, 1, 1, 1, 1, 1, 1, 1, 1, 1, 1, 1, 1, 1, 1, 1,\n",
       "        1, 1, 1, 1, 1, 1, 1, 1, 1, 1, 1, 1, 1, 1, 1, 1, 1, 1, 1, 1, 1, 1,\n",
       "        1, 1, 1, 1, 1, 1, 1, 1, 1, 1, 1, 1, 1, 1, 1, 1, 1, 1, 1, 1, 1, 1,\n",
       "        1, 1, 1, 1, 1, 1, 1, 1, 1, 1, 1, 1, 1, 1, 1, 1, 1, 1, 1, 1, 1, 1,\n",
       "        1, 1, 1, 1, 1, 1, 1, 1, 1, 1, 1, 1, 1, 1, 1, 1, 1, 1, 1, 1, 1, 1,\n",
       "        1, 1, 1, 1, 1, 1, 1, 1, 1, 1, 1, 1, 1, 1, 1, 1, 1, 1, 1, 1, 1, 1,\n",
       "        1, 1, 1, 1, 1, 1, 1, 1, 1, 1, 1, 1, 1, 1, 1, 1, 1, 1, 1, 1, 1, 1,\n",
       "        1, 1, 1, 1, 1, 1, 1, 1, 1, 1, 1, 1, 1, 1, 1, 1, 1, 1, 1, 1, 1, 1,\n",
       "        1, 1, 1, 1, 1, 1, 1, 1, 1, 1, 1, 1, 1, 1, 1, 1, 1, 1, 1, 1, 1, 1,\n",
       "        1, 1, 1, 1, 1, 1, 1, 1, 1, 1], dtype=int64))"
      ]
     },
     "execution_count": 12,
     "metadata": {},
     "output_type": "execute_result"
    }
   ],
   "source": [
    "np.unique(dados_uniforme, return_counts=True)"
   ]
  },
  {
   "cell_type": "markdown",
   "id": "e14d37d0",
   "metadata": {},
   "source": [
    "## Teste"
   ]
  },
  {
   "cell_type": "code",
   "execution_count": 23,
   "id": "441892f0",
   "metadata": {},
   "outputs": [],
   "source": [
    "import pandas as pd"
   ]
  },
  {
   "cell_type": "code",
   "execution_count": 24,
   "id": "acb8f0b1",
   "metadata": {},
   "outputs": [
    {
     "data": {
      "text/plain": [
       "(2000, 5)"
      ]
     },
     "execution_count": 24,
     "metadata": {},
     "output_type": "execute_result"
    }
   ],
   "source": [
    "dataset = pd.read_csv('../0_datasets/credit_data.csv')\n",
    "dataset.shape"
   ]
  },
  {
   "cell_type": "code",
   "execution_count": 25,
   "id": "51534eb8",
   "metadata": {},
   "outputs": [
    {
     "data": {
      "text/plain": [
       "(1997, 5)"
      ]
     },
     "execution_count": 25,
     "metadata": {},
     "output_type": "execute_result"
    }
   ],
   "source": [
    "dataset.dropna(inplace=True)\n",
    "dataset.shape"
   ]
  },
  {
   "cell_type": "code",
   "execution_count": 26,
   "id": "acca8790",
   "metadata": {},
   "outputs": [
    {
     "data": {
      "text/html": [
       "<div>\n",
       "<style scoped>\n",
       "    .dataframe tbody tr th:only-of-type {\n",
       "        vertical-align: middle;\n",
       "    }\n",
       "\n",
       "    .dataframe tbody tr th {\n",
       "        vertical-align: top;\n",
       "    }\n",
       "\n",
       "    .dataframe thead th {\n",
       "        text-align: right;\n",
       "    }\n",
       "</style>\n",
       "<table border=\"1\" class=\"dataframe\">\n",
       "  <thead>\n",
       "    <tr style=\"text-align: right;\">\n",
       "      <th></th>\n",
       "      <th>i#clientid</th>\n",
       "      <th>income</th>\n",
       "      <th>age</th>\n",
       "      <th>loan</th>\n",
       "      <th>c#default</th>\n",
       "    </tr>\n",
       "  </thead>\n",
       "  <tbody>\n",
       "    <tr>\n",
       "      <th>0</th>\n",
       "      <td>1</td>\n",
       "      <td>66155.925095</td>\n",
       "      <td>59.017015</td>\n",
       "      <td>8106.532131</td>\n",
       "      <td>0</td>\n",
       "    </tr>\n",
       "    <tr>\n",
       "      <th>1</th>\n",
       "      <td>2</td>\n",
       "      <td>34415.153966</td>\n",
       "      <td>48.117153</td>\n",
       "      <td>6564.745018</td>\n",
       "      <td>0</td>\n",
       "    </tr>\n",
       "    <tr>\n",
       "      <th>2</th>\n",
       "      <td>3</td>\n",
       "      <td>57317.170063</td>\n",
       "      <td>63.108049</td>\n",
       "      <td>8020.953296</td>\n",
       "      <td>0</td>\n",
       "    </tr>\n",
       "    <tr>\n",
       "      <th>3</th>\n",
       "      <td>4</td>\n",
       "      <td>42709.534201</td>\n",
       "      <td>45.751972</td>\n",
       "      <td>6103.642260</td>\n",
       "      <td>0</td>\n",
       "    </tr>\n",
       "    <tr>\n",
       "      <th>4</th>\n",
       "      <td>5</td>\n",
       "      <td>66952.688845</td>\n",
       "      <td>18.584336</td>\n",
       "      <td>8770.099235</td>\n",
       "      <td>1</td>\n",
       "    </tr>\n",
       "  </tbody>\n",
       "</table>\n",
       "</div>"
      ],
      "text/plain": [
       "   i#clientid        income        age         loan  c#default\n",
       "0           1  66155.925095  59.017015  8106.532131          0\n",
       "1           2  34415.153966  48.117153  6564.745018          0\n",
       "2           3  57317.170063  63.108049  8020.953296          0\n",
       "3           4  42709.534201  45.751972  6103.642260          0\n",
       "4           5  66952.688845  18.584336  8770.099235          1"
      ]
     },
     "execution_count": 26,
     "metadata": {},
     "output_type": "execute_result"
    }
   ],
   "source": [
    "dataset.head()"
   ]
  },
  {
   "cell_type": "code",
   "execution_count": 27,
   "id": "5fceb0dd",
   "metadata": {},
   "outputs": [
    {
     "data": {
      "text/plain": [
       "(array([[6.61559251e+04, 5.90170151e+01, 8.10653213e+03],\n",
       "        [3.44151540e+04, 4.81171531e+01, 6.56474502e+03],\n",
       "        [5.73171701e+04, 6.31080495e+01, 8.02095330e+03],\n",
       "        ...,\n",
       "        [4.43114493e+04, 2.80171669e+01, 5.52278669e+03],\n",
       "        [4.37560566e+04, 6.39717958e+01, 1.62272260e+03],\n",
       "        [6.94365796e+04, 5.61526170e+01, 7.37883360e+03]]),\n",
       " array([0, 0, 0, ..., 1, 0, 0], dtype=int64))"
      ]
     },
     "execution_count": 27,
     "metadata": {},
     "output_type": "execute_result"
    }
   ],
   "source": [
    "X = dataset.iloc[:,1:4].values\n",
    "y = dataset.iloc[:,4].values\n",
    "X, y"
   ]
  },
  {
   "cell_type": "code",
   "execution_count": 28,
   "id": "618c5924",
   "metadata": {},
   "outputs": [],
   "source": [
    "from sklearn.naive_bayes import GaussianNB\n",
    "from sklearn.metrics import accuracy_score\n",
    "from sklearn.model_selection import train_test_split"
   ]
  },
  {
   "cell_type": "code",
   "execution_count": 29,
   "id": "1d28538c",
   "metadata": {},
   "outputs": [],
   "source": [
    "resultados_naive_bayes = []\n",
    "for i in range(30):\n",
    "    X_train, x_test, y_train, y_test = train_test_split(X, y, test_size=0.2,\n",
    "                                                        stratify=y, random_state=i)\n",
    "    naive_bayes = GaussianNB()\n",
    "    naive_bayes.fit(X_train, y_train)\n",
    "    predictions = naive_bayes.predict(x_test)\n",
    "    teste = accuracy_score(y_test, predictions)\n",
    "    resultados_naive_bayes.append(teste)"
   ]
  },
  {
   "cell_type": "code",
   "execution_count": 31,
   "id": "ad9dbd88",
   "metadata": {
    "scrolled": false
   },
   "outputs": [
    {
     "name": "stdout",
     "output_type": "stream",
     "text": [
      "[0.925, 0.925, 0.9325, 0.925, 0.92, 0.905, 0.9175, 0.9175, 0.9125, 0.9325, 0.9225, 0.9125, 0.935, 0.9175, 0.925, 0.9175, 0.9275, 0.92, 0.9325, 0.92, 0.93, 0.905, 0.9175, 0.9325, 0.9425, 0.9375, 0.94, 0.92, 0.935, 0.925]\n"
     ]
    }
   ],
   "source": [
    "print(resultados_naive_bayes)"
   ]
  },
  {
   "cell_type": "code",
   "execution_count": 35,
   "id": "7789d370",
   "metadata": {},
   "outputs": [
    {
     "data": {
      "text/plain": [
       "<AxesSubplot:ylabel='Count'>"
      ]
     },
     "execution_count": 35,
     "metadata": {},
     "output_type": "execute_result"
    },
    {
     "data": {
      "image/png": "[encoded data removed]",
      "text/plain": [
       "<Figure size 432x288 with 1 Axes>"
      ]
     },
     "metadata": {
      "needs_background": "light"
     },
     "output_type": "display_data"
    }
   ],
   "source": [
    "sns.histplot(resultados_naive_bayes, kde=True, bins=10)"
   ]
  }
 ],
 "metadata": {
  "kernelspec": {
   "display_name": "Python 3",
   "language": "python",
   "name": "python3"
  },
  "language_info": {
   "codemirror_mode": {
    "name": "ipython",
    "version": 3
   },
   "file_extension": ".py",
   "mimetype": "text/x-python",
   "name": "python",
   "nbconvert_exporter": "python",
   "pygments_lexer": "ipython3",
   "version": "3.9.2"
  }
 },
 "nbformat": 4,
 "nbformat_minor": 5
}
