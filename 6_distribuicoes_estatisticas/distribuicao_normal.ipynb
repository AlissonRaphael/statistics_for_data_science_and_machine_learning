{
 "cells": [
  {
   "cell_type": "code",
   "execution_count": 1,
   "id": "45e6553f",
   "metadata": {},
   "outputs": [],
   "source": [
    "import numpy as np\n",
    "import pandas as pd\n",
    "import seaborn as sns\n",
    "from scipy import stats"
   ]
  },
  {
   "cell_type": "markdown",
   "id": "6e3885a3",
   "metadata": {},
   "source": [
    "### Variáveis contínuas"
   ]
  },
  {
   "cell_type": "markdown",
   "id": "ffad94f0",
   "metadata": {},
   "source": [
    "#### Distribuição normal"
   ]
  },
  {
   "cell_type": "code",
   "execution_count": 2,
   "id": "94edb9e2",
   "metadata": {},
   "outputs": [
    {
     "data": {
      "text/plain": [
       "(-3.053764380426305, 3.9586027040379634)"
      ]
     },
     "execution_count": 2,
     "metadata": {},
     "output_type": "execute_result"
    }
   ],
   "source": [
    "dados_normal = stats.norm.rvs(size = 1000, random_state=1)\n",
    "min(dados_normal), max(dados_normal)"
   ]
  },
  {
   "cell_type": "code",
   "execution_count": 42,
   "id": "7771ec50",
   "metadata": {},
   "outputs": [
    {
     "data": {
      "text/plain": [
       "<AxesSubplot:ylabel='Count'>"
      ]
     },
     "execution_count": 42,
     "metadata": {},
     "output_type": "execute_result"
    },
    {
     "data": {
      "image/png": "[encoded data removed]",
      "text/plain": [
       "<Figure size 432x288 with 1 Axes>"
      ]
     },
     "metadata": {
      "needs_background": "light"
     },
     "output_type": "display_data"
    }
   ],
   "source": [
    "sns.histplot(dados_normal, kde=True)"
   ]
  },
  {
   "cell_type": "code",
   "execution_count": 4,
   "id": "03048287",
   "metadata": {},
   "outputs": [
    {
     "data": {
      "text/plain": [
       "(0.03881247615960185,\n",
       " 0.04129258886921605,\n",
       " ModeResult(mode=array([-3.05376438]), count=array([1])))"
      ]
     },
     "execution_count": 4,
     "metadata": {},
     "output_type": "execute_result"
    }
   ],
   "source": [
    "dados_normal.mean(), np.median(dados_normal), stats.mode(dados_normal)"
   ]
  },
  {
   "cell_type": "code",
   "execution_count": 5,
   "id": "d4b5f4dc",
   "metadata": {},
   "outputs": [
    {
     "data": {
      "text/plain": [
       "(0.9623691107920885, 0.9810041339322116)"
      ]
     },
     "execution_count": 5,
     "metadata": {},
     "output_type": "execute_result"
    }
   ],
   "source": [
    "np.var(dados_normal), np.std(dados_normal)"
   ]
  },
  {
   "cell_type": "code",
   "execution_count": 6,
   "id": "e002b6b0",
   "metadata": {},
   "outputs": [
    {
     "data": {
      "text/plain": [
       "148"
      ]
     },
     "execution_count": 6,
     "metadata": {},
     "output_type": "execute_result"
    }
   ],
   "source": [
    "np.sum(((dados_normal >= 0.9810041339322116) & (dados_normal <= 0.9810041339322116 + 1)))"
   ]
  },
  {
   "cell_type": "code",
   "execution_count": 7,
   "id": "e8f0e011",
   "metadata": {},
   "outputs": [
    {
     "data": {
      "text/plain": [
       "353"
      ]
     },
     "execution_count": 7,
     "metadata": {},
     "output_type": "execute_result"
    }
   ],
   "source": [
    "np.sum(((dados_normal <= 0.9810041339322116) & (dados_normal >= 0.9810041339322116 - 1)))"
   ]
  },
  {
   "cell_type": "code",
   "execution_count": 8,
   "id": "78b176a9",
   "metadata": {},
   "outputs": [
    {
     "data": {
      "text/plain": [
       "0.501"
      ]
     },
     "execution_count": 8,
     "metadata": {},
     "output_type": "execute_result"
    }
   ],
   "source": [
    "(148 + 353) / 1000"
   ]
  },
  {
   "cell_type": "markdown",
   "id": "14af8693",
   "metadata": {},
   "source": [
    "### Dados da alturas"
   ]
  },
  {
   "cell_type": "code",
   "execution_count": 9,
   "id": "e63fb488",
   "metadata": {},
   "outputs": [],
   "source": [
    "# Rol\n",
    "dados = np.array([\n",
    "    126. , 129.5, 133. , 133. , 136.5, 136.5, 140. , 140. , 140. ,\n",
    "    140. , 143.5, 143.5, 143.5, 143.5, 143.5, 143.5, 147. , 147. ,\n",
    "    147. , 147. , 147. , 147. , 147. , 150.5, 150.5, 150.5, 150.5,\n",
    "    150.5, 150.5, 150.5, 150.5, 154. , 154. , 154. , 154. , 154. ,\n",
    "    154. , 154. , 154. , 154. , 157.5, 157.5, 157.5, 157.5, 157.5,\n",
    "    157.5, 157.5, 157.5, 157.5, 157.5, 161. , 161. , 161. , 161. ,\n",
    "    161. , 161. , 161. , 161. , 161. , 161. , 164.5, 164.5, 164.5,\n",
    "    164.5, 164.5, 164.5, 164.5, 164.5, 164.5, 168. , 168. , 168. ,\n",
    "    168. , 168. , 168. , 168. , 168. , 171.5, 171.5, 171.5, 171.5,\n",
    "    171.5, 171.5, 171.5, 175. , 175. , 175. , 175. , 175. , 175. ,\n",
    "    178.5, 178.5, 178.5, 178.5, 182. , 182. , 185.5, 185.5, 189. , 192.5\n",
    "])"
   ]
  },
  {
   "cell_type": "code",
   "execution_count": 10,
   "id": "fded9a8e",
   "metadata": {},
   "outputs": [
    {
     "data": {
      "text/plain": [
       "100"
      ]
     },
     "execution_count": 10,
     "metadata": {},
     "output_type": "execute_result"
    }
   ],
   "source": [
    "len(dados)"
   ]
  },
  {
   "cell_type": "code",
   "execution_count": 11,
   "id": "3bd64d2f",
   "metadata": {},
   "outputs": [
    {
     "data": {
      "text/plain": [
       "(126.0, 192.5)"
      ]
     },
     "execution_count": 11,
     "metadata": {},
     "output_type": "execute_result"
    }
   ],
   "source": [
    "min(dados), max(dados)"
   ]
  },
  {
   "cell_type": "code",
   "execution_count": 12,
   "id": "64f4970e",
   "metadata": {},
   "outputs": [
    {
     "data": {
      "text/plain": [
       "(159.25, 159.25, ModeResult(mode=array([157.5]), count=array([10])))"
      ]
     },
     "execution_count": 12,
     "metadata": {},
     "output_type": "execute_result"
    }
   ],
   "source": [
    "dados.mean(), np.median(dados), stats.mode(dados)"
   ]
  },
  {
   "cell_type": "code",
   "execution_count": 13,
   "id": "fb06c9c4",
   "metadata": {},
   "outputs": [
    {
     "data": {
      "text/plain": [
       "(186.3225, 13.65, 8.571428571428571)"
      ]
     },
     "execution_count": 13,
     "metadata": {},
     "output_type": "execute_result"
    }
   ],
   "source": [
    "np.var(dados), np.std(dados), stats.variation(dados)*100"
   ]
  },
  {
   "cell_type": "markdown",
   "id": "ceaf328f",
   "metadata": {},
   "source": [
    "#### Distribuição normal"
   ]
  },
  {
   "cell_type": "code",
   "execution_count": 14,
   "id": "93b8b662",
   "metadata": {},
   "outputs": [
    {
     "data": {
      "text/plain": [
       "(145.6, 172.9)"
      ]
     },
     "execution_count": 14,
     "metadata": {},
     "output_type": "execute_result"
    }
   ],
   "source": [
    "# 1 desvio\n",
    "dados.mean() - np.std(dados), dados.mean() + np.std(dados)"
   ]
  },
  {
   "cell_type": "code",
   "execution_count": 15,
   "id": "06ce5684",
   "metadata": {},
   "outputs": [
    {
     "data": {
      "text/plain": [
       "(131.95, 186.55)"
      ]
     },
     "execution_count": 15,
     "metadata": {},
     "output_type": "execute_result"
    }
   ],
   "source": [
    "# 2 desvios\n",
    "dados.mean() - 2*np.std(dados), dados.mean() + 2*np.std(dados)"
   ]
  },
  {
   "cell_type": "code",
   "execution_count": 16,
   "id": "ff5344e3",
   "metadata": {},
   "outputs": [
    {
     "data": {
      "text/plain": [
       "(118.3, 200.2)"
      ]
     },
     "execution_count": 16,
     "metadata": {},
     "output_type": "execute_result"
    }
   ],
   "source": [
    "# 3 desvios\n",
    "dados.mean() - 3*np.std(dados), dados.mean() + 3*np.std(dados)"
   ]
  },
  {
   "cell_type": "code",
   "execution_count": 41,
   "id": "2403749c",
   "metadata": {
    "scrolled": false
   },
   "outputs": [
    {
     "data": {
      "text/plain": [
       "<AxesSubplot:ylabel='Count'>"
      ]
     },
     "execution_count": 41,
     "metadata": {},
     "output_type": "execute_result"
    },
    {
     "data": {
      "image/png": "[encoded data removed]",
      "text/plain": [
       "<Figure size 432x288 with 1 Axes>"
      ]
     },
     "metadata": {
      "needs_background": "light"
     },
     "output_type": "display_data"
    }
   ],
   "source": [
    "sns.histplot(dados, kde=True)"
   ]
  },
  {
   "cell_type": "markdown",
   "id": "83a877b7",
   "metadata": {},
   "source": [
    "### Enviesamento"
   ]
  },
  {
   "cell_type": "code",
   "execution_count": 18,
   "id": "ac8644e2",
   "metadata": {},
   "outputs": [],
   "source": [
    "from scipy.stats import skewnorm"
   ]
  },
  {
   "cell_type": "code",
   "execution_count": 19,
   "id": "d999691a",
   "metadata": {},
   "outputs": [],
   "source": [
    "dados_normal = skewnorm.rvs(a=0, size=1000)"
   ]
  },
  {
   "cell_type": "code",
   "execution_count": 39,
   "id": "df541886",
   "metadata": {},
   "outputs": [
    {
     "data": {
      "text/plain": [
       "<AxesSubplot:ylabel='Count'>"
      ]
     },
     "execution_count": 39,
     "metadata": {},
     "output_type": "execute_result"
    },
    {
     "data": {
      "image/png": "[encoded data removed]",
      "text/plain": [
       "<Figure size 432x288 with 1 Axes>"
      ]
     },
     "metadata": {
      "needs_background": "light"
     },
     "output_type": "display_data"
    }
   ],
   "source": [
    "sns.histplot(dados_normal, kde=True)"
   ]
  },
  {
   "cell_type": "code",
   "execution_count": 21,
   "id": "10536672",
   "metadata": {},
   "outputs": [
    {
     "data": {
      "text/plain": [
       "(-0.0013921383928114266,\n",
       " -0.011021610083829503,\n",
       " ModeResult(mode=array([-3.20505666]), count=array([1])))"
      ]
     },
     "execution_count": 21,
     "metadata": {},
     "output_type": "execute_result"
    }
   ],
   "source": [
    "dados_normal.mean(), np.median(dados_normal), stats.mode(dados_normal)"
   ]
  },
  {
   "cell_type": "code",
   "execution_count": 38,
   "id": "dd15f0e9",
   "metadata": {},
   "outputs": [
    {
     "data": {
      "text/plain": [
       "<AxesSubplot:ylabel='Count'>"
      ]
     },
     "execution_count": 38,
     "metadata": {},
     "output_type": "execute_result"
    },
    {
     "data": {
      "image/png": "[encoded data removed]",
      "text/plain": [
       "<Figure size 432x288 with 1 Axes>"
      ]
     },
     "metadata": {
      "needs_background": "light"
     },
     "output_type": "display_data"
    }
   ],
   "source": [
    "dados_dist_positivo = skewnorm.rvs(a=10, size=1000)\n",
    "sns.histplot(dados_dist_positivo, kde=True)"
   ]
  },
  {
   "cell_type": "code",
   "execution_count": 43,
   "id": "c82a2bcd",
   "metadata": {},
   "outputs": [
    {
     "data": {
      "text/plain": [
       "(0.783016258357612,\n",
       " 0.6560162032724521,\n",
       " ModeResult(mode=array([-0.17813955]), count=array([1])))"
      ]
     },
     "execution_count": 43,
     "metadata": {},
     "output_type": "execute_result"
    }
   ],
   "source": [
    "dados_dist_positivo.mean(), np.median(dados_dist_positivo), stats.mode(dados_dist_positivo)"
   ]
  },
  {
   "cell_type": "code",
   "execution_count": 47,
   "id": "b74ecd28",
   "metadata": {},
   "outputs": [
    {
     "data": {
      "text/plain": [
       "<AxesSubplot:ylabel='Count'>"
      ]
     },
     "execution_count": 47,
     "metadata": {},
     "output_type": "execute_result"
    },
    {
     "data": {
      "image/png": "[encoded data removed]",
      "text/plain": [
       "<Figure size 432x288 with 1 Axes>"
      ]
     },
     "metadata": {
      "needs_background": "light"
     },
     "output_type": "display_data"
    }
   ],
   "source": [
    "dados_dist_negativo = skewnorm.rvs(a=-10, size=1000)\n",
    "sns.histplot(dados_dist_negativo, kde=True)"
   ]
  },
  {
   "cell_type": "code",
   "execution_count": 48,
   "id": "8cb70400",
   "metadata": {},
   "outputs": [
    {
     "data": {
      "text/plain": [
       "(-0.8097720170385122,\n",
       " -0.6907271411744562,\n",
       " ModeResult(mode=array([-3.53516615]), count=array([1])))"
      ]
     },
     "execution_count": 48,
     "metadata": {},
     "output_type": "execute_result"
    }
   ],
   "source": [
    "dados_dist_negativo.mean(), np.median(dados_dist_negativo), stats.mode(dados_dist_negativo)"
   ]
  }
 ],
 "metadata": {
  "kernelspec": {
   "display_name": "Python 3",
   "language": "python",
   "name": "python3"
  },
  "language_info": {
   "codemirror_mode": {
    "name": "ipython",
    "version": 3
   },
   "file_extension": ".py",
   "mimetype": "text/x-python",
   "name": "python",
   "nbconvert_exporter": "python",
   "pygments_lexer": "ipython3",
   "version": "3.9.2"
  }
 },
 "nbformat": 4,
 "nbformat_minor": 5
}
