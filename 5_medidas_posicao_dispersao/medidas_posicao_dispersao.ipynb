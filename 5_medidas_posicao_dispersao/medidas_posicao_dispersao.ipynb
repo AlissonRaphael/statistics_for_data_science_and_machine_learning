{
 "cells": [
  {
   "cell_type": "code",
   "execution_count": 4,
   "id": "9729da71",
   "metadata": {},
   "outputs": [],
   "source": [
    "import numpy as np\n",
    "import statistics\n",
    "import math\n",
    "from scipy import stats"
   ]
  },
  {
   "cell_type": "code",
   "execution_count": 15,
   "id": "2aa24052",
   "metadata": {},
   "outputs": [],
   "source": [
    "dados = np.array([\n",
    "    160,165,167,164,160,166,160,161,150,152,173,160,155,\n",
    "    164,168,162,161,168,163,156,155,169,151,170,164,\n",
    "    155,152,163,160,155,157,156,158,158,161,154,161,156,172,153\n",
    "])"
   ]
  },
  {
   "cell_type": "markdown",
   "id": "82081fcf",
   "metadata": {},
   "source": [
    "# Medidas posição"
   ]
  },
  {
   "cell_type": "markdown",
   "id": "d49cec44",
   "metadata": {},
   "source": [
    "## Média aritmética simples"
   ]
  },
  {
   "cell_type": "code",
   "execution_count": 6,
   "id": "40d18fcf",
   "metadata": {},
   "outputs": [
    {
     "data": {
      "text/plain": [
       "(6415, 40, 160.375)"
      ]
     },
     "execution_count": 6,
     "metadata": {},
     "output_type": "execute_result"
    }
   ],
   "source": [
    "media_aritmetica = dados.sum() / len(dados)\n",
    "dados.sum(), len(dados), media_aritmetica"
   ]
  },
  {
   "cell_type": "code",
   "execution_count": 7,
   "id": "5b6ef970",
   "metadata": {},
   "outputs": [
    {
     "data": {
      "text/plain": [
       "160.375"
      ]
     },
     "execution_count": 7,
     "metadata": {},
     "output_type": "execute_result"
    }
   ],
   "source": [
    "dados.mean()"
   ]
  },
  {
   "cell_type": "code",
   "execution_count": 9,
   "id": "9aba5561",
   "metadata": {},
   "outputs": [
    {
     "data": {
      "text/plain": [
       "160"
      ]
     },
     "execution_count": 9,
     "metadata": {},
     "output_type": "execute_result"
    }
   ],
   "source": [
    "statistics.mean(dados)"
   ]
  },
  {
   "cell_type": "markdown",
   "id": "bd32da41",
   "metadata": {},
   "source": [
    "## Moda"
   ]
  },
  {
   "cell_type": "code",
   "execution_count": 10,
   "id": "3897f271",
   "metadata": {},
   "outputs": [
    {
     "data": {
      "text/plain": [
       "160"
      ]
     },
     "execution_count": 10,
     "metadata": {},
     "output_type": "execute_result"
    }
   ],
   "source": [
    "statistics.mode(dados)"
   ]
  },
  {
   "cell_type": "code",
   "execution_count": 11,
   "id": "2783d1a3",
   "metadata": {},
   "outputs": [
    {
     "data": {
      "text/plain": [
       "ModeResult(mode=array([160]), count=array([5]))"
      ]
     },
     "execution_count": 11,
     "metadata": {},
     "output_type": "execute_result"
    }
   ],
   "source": [
    "stats.mode(dados)"
   ]
  },
  {
   "cell_type": "markdown",
   "id": "79f0da9d",
   "metadata": {},
   "source": [
    "## Mediana"
   ]
  },
  {
   "cell_type": "code",
   "execution_count": 18,
   "id": "5d0e06a6",
   "metadata": {},
   "outputs": [],
   "source": [
    "dados_impar = np.array([150, 151, 152, 152, 153, 154, 155, 155, 155])"
   ]
  },
  {
   "cell_type": "markdown",
   "id": "c4fc36ce",
   "metadata": {},
   "source": [
    "#### Impar"
   ]
  },
  {
   "cell_type": "code",
   "execution_count": 21,
   "id": "511dc0f4",
   "metadata": {},
   "outputs": [
    {
     "data": {
      "text/plain": [
       "5"
      ]
     },
     "execution_count": 21,
     "metadata": {},
     "output_type": "execute_result"
    }
   ],
   "source": [
    "posicao = len(dados_impar) / 2\n",
    "posicao = math.ceil(posicao)\n",
    "posicao"
   ]
  },
  {
   "cell_type": "code",
   "execution_count": 29,
   "id": "0784e93d",
   "metadata": {
    "scrolled": true
   },
   "outputs": [
    {
     "data": {
      "text/plain": [
       "153"
      ]
     },
     "execution_count": 29,
     "metadata": {},
     "output_type": "execute_result"
    }
   ],
   "source": [
    "dados_impar[posicao-1]"
   ]
  },
  {
   "cell_type": "code",
   "execution_count": 37,
   "id": "6f546228",
   "metadata": {},
   "outputs": [
    {
     "data": {
      "text/plain": [
       "153.0"
      ]
     },
     "execution_count": 37,
     "metadata": {},
     "output_type": "execute_result"
    }
   ],
   "source": [
    "np.median(dados_impar)"
   ]
  },
  {
   "cell_type": "code",
   "execution_count": 38,
   "id": "e486988b",
   "metadata": {
    "scrolled": true
   },
   "outputs": [
    {
     "data": {
      "text/plain": [
       "153"
      ]
     },
     "execution_count": 38,
     "metadata": {},
     "output_type": "execute_result"
    }
   ],
   "source": [
    "statistics.median(dados_impar)"
   ]
  },
  {
   "cell_type": "markdown",
   "id": "13c6b992",
   "metadata": {},
   "source": [
    "#### Par"
   ]
  },
  {
   "cell_type": "code",
   "execution_count": 44,
   "id": "827ee351",
   "metadata": {},
   "outputs": [
    {
     "data": {
      "text/plain": [
       "(20, 21)"
      ]
     },
     "execution_count": 44,
     "metadata": {},
     "output_type": "execute_result"
    }
   ],
   "source": [
    "posicao1 = len(dados) / 2\n",
    "posicao1 = math.ceil(posicao1)\n",
    "posicao2 = posicao1 + 1\n",
    "posicao1, posicao2"
   ]
  },
  {
   "cell_type": "code",
   "execution_count": 45,
   "id": "c9a4f640",
   "metadata": {},
   "outputs": [
    {
     "data": {
      "text/plain": [
       "(160, 161)"
      ]
     },
     "execution_count": 45,
     "metadata": {},
     "output_type": "execute_result"
    }
   ],
   "source": [
    "dados[posicao1], dados[posicao2]"
   ]
  },
  {
   "cell_type": "code",
   "execution_count": 46,
   "id": "d327a11c",
   "metadata": {},
   "outputs": [
    {
     "data": {
      "text/plain": [
       "160.5"
      ]
     },
     "execution_count": 46,
     "metadata": {},
     "output_type": "execute_result"
    }
   ],
   "source": [
    "mediana = (dados[posicao1] + dados[posicao2])/2\n",
    "mediana"
   ]
  },
  {
   "cell_type": "code",
   "execution_count": 36,
   "id": "300b2048",
   "metadata": {},
   "outputs": [
    {
     "data": {
      "text/plain": [
       "160.0"
      ]
     },
     "execution_count": 36,
     "metadata": {},
     "output_type": "execute_result"
    }
   ],
   "source": [
    "np.median(dados)"
   ]
  },
  {
   "cell_type": "code",
   "execution_count": 40,
   "id": "add243cd",
   "metadata": {},
   "outputs": [
    {
     "data": {
      "text/plain": [
       "160.0"
      ]
     },
     "execution_count": 40,
     "metadata": {},
     "output_type": "execute_result"
    }
   ],
   "source": [
    "np.median(dados)"
   ]
  },
  {
   "cell_type": "code",
   "execution_count": 41,
   "id": "7b765067",
   "metadata": {},
   "outputs": [
    {
     "data": {
      "text/plain": [
       "160.0"
      ]
     },
     "execution_count": 41,
     "metadata": {},
     "output_type": "execute_result"
    }
   ],
   "source": [
    "statistics.median(dados)"
   ]
  },
  {
   "cell_type": "markdown",
   "id": "9140921b",
   "metadata": {},
   "source": [
    "## Média aritmética simples"
   ]
  },
  {
   "cell_type": "code",
   "execution_count": 47,
   "id": "8455cb3d",
   "metadata": {},
   "outputs": [
    {
     "data": {
      "text/plain": [
       "(array([9, 8, 7, 3]), array([1, 2, 3, 4]))"
      ]
     },
     "execution_count": 47,
     "metadata": {},
     "output_type": "execute_result"
    }
   ],
   "source": [
    "notas = np.array([9,8,7,3])\n",
    "pesos = np.array([1,2,3,4])\n",
    "notas, pesos"
   ]
  },
  {
   "cell_type": "code",
   "execution_count": 48,
   "id": "a4469e4d",
   "metadata": {},
   "outputs": [
    {
     "data": {
      "text/plain": [
       "5.8"
      ]
     },
     "execution_count": 48,
     "metadata": {},
     "output_type": "execute_result"
    }
   ],
   "source": [
    "# Manual\n",
    "(9*1 + 8*2 + 7*3 + 3*4) / (1+2+3+4)"
   ]
  },
  {
   "cell_type": "code",
   "execution_count": 49,
   "id": "a4b66ef1",
   "metadata": {},
   "outputs": [
    {
     "data": {
      "text/plain": [
       "5.8"
      ]
     },
     "execution_count": 49,
     "metadata": {},
     "output_type": "execute_result"
    }
   ],
   "source": [
    "media_ponderada = (notas * pesos).sum() / pesos.sum()\n",
    "media_ponderada"
   ]
  },
  {
   "cell_type": "code",
   "execution_count": 50,
   "id": "59458676",
   "metadata": {},
   "outputs": [
    {
     "data": {
      "text/plain": [
       "5.8"
      ]
     },
     "execution_count": 50,
     "metadata": {},
     "output_type": "execute_result"
    }
   ],
   "source": [
    "np.average(notas, weights=pesos)"
   ]
  }
 ],
 "metadata": {
  "kernelspec": {
   "display_name": "Python 3",
   "language": "python",
   "name": "python3"
  },
  "language_info": {
   "codemirror_mode": {
    "name": "ipython",
    "version": 3
   },
   "file_extension": ".py",
   "mimetype": "text/x-python",
   "name": "python",
   "nbconvert_exporter": "python",
   "pygments_lexer": "ipython3",
   "version": "3.9.2"
  }
 },
 "nbformat": 4,
 "nbformat_minor": 5
}
