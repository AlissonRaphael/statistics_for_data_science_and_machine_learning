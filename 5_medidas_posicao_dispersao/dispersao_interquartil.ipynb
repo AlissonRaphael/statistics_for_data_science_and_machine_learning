{
 "cells": [
  {
   "cell_type": "code",
   "execution_count": 1,
   "id": "9729da71",
   "metadata": {},
   "outputs": [],
   "source": [
    "import numpy as np"
   ]
  },
  {
   "cell_type": "code",
   "execution_count": 3,
   "id": "2aa24052",
   "metadata": {},
   "outputs": [],
   "source": [
    "dados = np.array([\n",
    "    160,165,167,164,160,166,160,161,150,152,173,160,155,\n",
    "    164,168,162,161,168,163,156,155,169,151,170,164,\n",
    "    155,152,163,160,155,157,156,158,158,161,154,161,156,172,153\n",
    "])"
   ]
  },
  {
   "cell_type": "code",
   "execution_count": 4,
   "id": "4203721e",
   "metadata": {
    "scrolled": true
   },
   "outputs": [
    {
     "data": {
      "text/plain": [
       "array([160, 165, 167, 164, 160, 166, 160, 161, 150, 152, 173, 160, 155,\n",
       "       164, 168, 162, 161, 168, 163, 156, 155, 169, 151, 170, 164, 155,\n",
       "       152, 163, 160, 155, 157, 156, 158, 158, 161, 154, 161, 156, 172,\n",
       "       153])"
      ]
     },
     "execution_count": 4,
     "metadata": {},
     "output_type": "execute_result"
    }
   ],
   "source": [
    "dados"
   ]
  },
  {
   "cell_type": "code",
   "execution_count": 15,
   "id": "8e164101",
   "metadata": {},
   "outputs": [
    {
     "data": {
      "text/plain": [
       "array([150, 151, 152, 152, 153, 154, 155, 155, 155, 155, 156, 156, 156,\n",
       "       157, 158, 158, 160, 160, 160, 160, 160, 161, 161, 161, 161, 162,\n",
       "       163, 163, 164, 164, 164, 165, 166, 167, 168, 168, 169, 170, 172,\n",
       "       173])"
      ]
     },
     "execution_count": 15,
     "metadata": {},
     "output_type": "execute_result"
    }
   ],
   "source": [
    "dados.sort()\n",
    "dados"
   ]
  },
  {
   "cell_type": "code",
   "execution_count": 7,
   "id": "c0826bc3",
   "metadata": {},
   "outputs": [
    {
     "data": {
      "text/plain": [
       "23"
      ]
     },
     "execution_count": 7,
     "metadata": {},
     "output_type": "execute_result"
    }
   ],
   "source": [
    "amplitude_total = dados.max() - dados.min()\n",
    "amplitude_total"
   ]
  },
  {
   "cell_type": "code",
   "execution_count": 10,
   "id": "3a0d9730",
   "metadata": {},
   "outputs": [
    {
     "data": {
      "text/plain": [
       "(155.75, 164.0)"
      ]
     },
     "execution_count": 10,
     "metadata": {},
     "output_type": "execute_result"
    }
   ],
   "source": [
    "q1 = np.quantile(dados, 0.25)\n",
    "q3 = np.quantile(dados, 0.75)\n",
    "q1, q3"
   ]
  },
  {
   "cell_type": "code",
   "execution_count": 11,
   "id": "4837def0",
   "metadata": {},
   "outputs": [
    {
     "data": {
      "text/plain": [
       "8.25"
      ]
     },
     "execution_count": 11,
     "metadata": {},
     "output_type": "execute_result"
    }
   ],
   "source": [
    "diferenca_interquartil = q3 - q1\n",
    "diferenca_interquartil"
   ]
  },
  {
   "cell_type": "code",
   "execution_count": 12,
   "id": "1d2beafb",
   "metadata": {},
   "outputs": [
    {
     "data": {
      "text/plain": [
       "143.375"
      ]
     },
     "execution_count": 12,
     "metadata": {},
     "output_type": "execute_result"
    }
   ],
   "source": [
    "inferior = q1 - (1.5 * diferenca_interquartil)\n",
    "inferior"
   ]
  },
  {
   "cell_type": "code",
   "execution_count": 13,
   "id": "9b669808",
   "metadata": {},
   "outputs": [
    {
     "data": {
      "text/plain": [
       "176.375"
      ]
     },
     "execution_count": 13,
     "metadata": {},
     "output_type": "execute_result"
    }
   ],
   "source": [
    "superior = q3 + (1.5 * diferenca_interquartil)\n",
    "superior"
   ]
  }
 ],
 "metadata": {
  "kernelspec": {
   "display_name": "Python 3",
   "language": "python",
   "name": "python3"
  },
  "language_info": {
   "codemirror_mode": {
    "name": "ipython",
    "version": 3
   },
   "file_extension": ".py",
   "mimetype": "text/x-python",
   "name": "python",
   "nbconvert_exporter": "python",
   "pygments_lexer": "ipython3",
   "version": "3.9.2"
  }
 },
 "nbformat": 4,
 "nbformat_minor": 5
}
