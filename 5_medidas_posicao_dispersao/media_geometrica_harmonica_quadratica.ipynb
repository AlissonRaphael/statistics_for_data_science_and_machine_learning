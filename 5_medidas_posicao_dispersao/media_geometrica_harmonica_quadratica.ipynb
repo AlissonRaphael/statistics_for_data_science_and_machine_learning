{
 "cells": [
  {
   "cell_type": "code",
   "execution_count": 11,
   "id": "5ac7614a",
   "metadata": {},
   "outputs": [],
   "source": [
    "import numpy as np\n",
    "import math"
   ]
  },
  {
   "cell_type": "code",
   "execution_count": 2,
   "id": "b9e9cb47",
   "metadata": {},
   "outputs": [],
   "source": [
    "dados = np.array([\n",
    "    160,165,167,164,160,166,160,161,150,152,173,160,155,\n",
    "    164,168,162,161,168,163,156,155,169,151,170,164,\n",
    "    155,152,163,160,155,157,156,158,158,161,154,161,156,172,153\n",
    "])"
   ]
  },
  {
   "cell_type": "code",
   "execution_count": 3,
   "id": "01f155eb",
   "metadata": {},
   "outputs": [
    {
     "data": {
      "text/plain": [
       "array([160, 165, 167, 164, 160, 166, 160, 161, 150, 152, 173, 160, 155,\n",
       "       164, 168, 162, 161, 168, 163, 156, 155, 169, 151, 170, 164, 155,\n",
       "       152, 163, 160, 155, 157, 156, 158, 158, 161, 154, 161, 156, 172,\n",
       "       153])"
      ]
     },
     "execution_count": 3,
     "metadata": {},
     "output_type": "execute_result"
    }
   ],
   "source": [
    "dados"
   ]
  },
  {
   "cell_type": "code",
   "execution_count": 5,
   "id": "209be8c6",
   "metadata": {},
   "outputs": [],
   "source": [
    "from scipy.stats.mstats import hmean\n"
   ]
  },
  {
   "cell_type": "code",
   "execution_count": 6,
   "id": "6c19baf5",
   "metadata": {},
   "outputs": [
    {
     "data": {
      "text/plain": [
       "160.16471947994674"
      ]
     },
     "execution_count": 6,
     "metadata": {},
     "output_type": "execute_result"
    }
   ],
   "source": [
    "hmean(dados)"
   ]
  },
  {
   "cell_type": "code",
   "execution_count": 14,
   "id": "a4b6d7aa",
   "metadata": {},
   "outputs": [],
   "source": [
    "def quadratic_mean(dados):\n",
    "    return math.sqrt(sum(n*n for n in dados) / len(dados))"
   ]
  },
  {
   "cell_type": "code",
   "execution_count": 15,
   "id": "40230923",
   "metadata": {},
   "outputs": [
    {
     "data": {
      "text/plain": [
       "160.48091786876097"
      ]
     },
     "execution_count": 15,
     "metadata": {},
     "output_type": "execute_result"
    }
   ],
   "source": [
    "quadratic_mean(dados)"
   ]
  }
 ],
 "metadata": {
  "kernelspec": {
   "display_name": "Python 3",
   "language": "python",
   "name": "python3"
  },
  "language_info": {
   "codemirror_mode": {
    "name": "ipython",
    "version": 3
   },
   "file_extension": ".py",
   "mimetype": "text/x-python",
   "name": "python",
   "nbconvert_exporter": "python",
   "pygments_lexer": "ipython3",
   "version": "3.9.2"
  }
 },
 "nbformat": 4,
 "nbformat_minor": 5
}
