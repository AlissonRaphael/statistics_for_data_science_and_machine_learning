{
 "cells": [
  {
   "cell_type": "code",
   "execution_count": 25,
   "id": "9f02e488",
   "metadata": {},
   "outputs": [],
   "source": [
    "import numpy as np"
   ]
  },
  {
   "cell_type": "code",
   "execution_count": 26,
   "id": "812440dd",
   "metadata": {},
   "outputs": [],
   "source": [
    "dados_impar = np.array([150,151,152,152,153,154,155,155,155])"
   ]
  },
  {
   "cell_type": "markdown",
   "id": "3e926354",
   "metadata": {},
   "source": [
    "## Variância"
   ]
  },
  {
   "cell_type": "code",
   "execution_count": 27,
   "id": "f37c5b2d",
   "metadata": {},
   "outputs": [
    {
     "data": {
      "text/plain": [
       "153.0"
      ]
     },
     "execution_count": 27,
     "metadata": {},
     "output_type": "execute_result"
    }
   ],
   "source": [
    "media = dados_impar.sum() / len(dados_impar)\n",
    "media"
   ]
  },
  {
   "cell_type": "code",
   "execution_count": 28,
   "id": "171d1590",
   "metadata": {},
   "outputs": [
    {
     "data": {
      "text/plain": [
       "array([3., 2., 1., 1., 0., 1., 2., 2., 2.])"
      ]
     },
     "execution_count": 28,
     "metadata": {},
     "output_type": "execute_result"
    }
   ],
   "source": [
    "desvio = abs(dados_impar - media)\n",
    "desvio"
   ]
  },
  {
   "cell_type": "code",
   "execution_count": 29,
   "id": "d0fbb707",
   "metadata": {},
   "outputs": [
    {
     "data": {
      "text/plain": [
       "array([9., 4., 1., 1., 0., 1., 4., 4., 4.])"
      ]
     },
     "execution_count": 29,
     "metadata": {},
     "output_type": "execute_result"
    }
   ],
   "source": [
    "desvio = desvio ** 2\n",
    "desvio"
   ]
  },
  {
   "cell_type": "code",
   "execution_count": 30,
   "id": "33f19233",
   "metadata": {},
   "outputs": [
    {
     "data": {
      "text/plain": [
       "28.0"
      ]
     },
     "execution_count": 30,
     "metadata": {},
     "output_type": "execute_result"
    }
   ],
   "source": [
    "desvio_somatorio = desvio.sum()\n",
    "desvio_somatorio"
   ]
  },
  {
   "cell_type": "code",
   "execution_count": 31,
   "id": "a566ba13",
   "metadata": {},
   "outputs": [
    {
     "data": {
      "text/plain": [
       "3.111111111111111"
      ]
     },
     "execution_count": 31,
     "metadata": {},
     "output_type": "execute_result"
    }
   ],
   "source": [
    "variancia = desvio_somatorio / len(dados_impar)\n",
    "variancia"
   ]
  },
  {
   "cell_type": "code",
   "execution_count": 32,
   "id": "63197419",
   "metadata": {},
   "outputs": [],
   "source": [
    "def get_variancia(dados):\n",
    "    media = dados.sum() / len(dados)\n",
    "    desvio = abs(dados - media) ** 2\n",
    "    desvio_somatorio = desvio.sum()\n",
    "    variancia = desvio_somatorio / len(dados)\n",
    "    return variancia"
   ]
  },
  {
   "cell_type": "code",
   "execution_count": 33,
   "id": "73fbceb0",
   "metadata": {},
   "outputs": [
    {
     "data": {
      "text/plain": [
       "3.111111111111111"
      ]
     },
     "execution_count": 33,
     "metadata": {},
     "output_type": "execute_result"
    }
   ],
   "source": [
    "get_variancia(dados_impar)"
   ]
  },
  {
   "cell_type": "markdown",
   "id": "fb1ff58b",
   "metadata": {},
   "source": [
    "#### Bibliotecas"
   ]
  },
  {
   "cell_type": "code",
   "execution_count": 34,
   "id": "734f6015",
   "metadata": {},
   "outputs": [],
   "source": [
    "import numpy as np\n",
    "import statistics\n",
    "from scipy import ndimage"
   ]
  },
  {
   "cell_type": "code",
   "execution_count": 35,
   "id": "a2f96660",
   "metadata": {},
   "outputs": [
    {
     "data": {
      "text/plain": [
       "3.111111111111111"
      ]
     },
     "execution_count": 35,
     "metadata": {},
     "output_type": "execute_result"
    }
   ],
   "source": [
    "np.var(dados_impar)"
   ]
  },
  {
   "cell_type": "code",
   "execution_count": 36,
   "id": "9fa3033d",
   "metadata": {},
   "outputs": [
    {
     "data": {
      "text/plain": [
       "3"
      ]
     },
     "execution_count": 36,
     "metadata": {},
     "output_type": "execute_result"
    }
   ],
   "source": [
    "statistics.variance(dados_impar)"
   ]
  },
  {
   "cell_type": "code",
   "execution_count": 37,
   "id": "8376c01c",
   "metadata": {},
   "outputs": [
    {
     "data": {
      "text/plain": [
       "3.111111111111111"
      ]
     },
     "execution_count": 37,
     "metadata": {},
     "output_type": "execute_result"
    }
   ],
   "source": [
    "ndimage.variance(dados_impar)"
   ]
  },
  {
   "cell_type": "markdown",
   "id": "7d5571e1",
   "metadata": {},
   "source": [
    "## Desvio Padrão"
   ]
  },
  {
   "cell_type": "code",
   "execution_count": 45,
   "id": "0c436357",
   "metadata": {},
   "outputs": [],
   "source": [
    "variancia = np.var(dados_impar)"
   ]
  },
  {
   "cell_type": "code",
   "execution_count": 46,
   "id": "ee3ad64e",
   "metadata": {
    "scrolled": true
   },
   "outputs": [
    {
     "data": {
      "text/plain": [
       "1.7638342073763937"
      ]
     },
     "execution_count": 46,
     "metadata": {},
     "output_type": "execute_result"
    }
   ],
   "source": [
    "desvio_padrao = variancia ** (1/2)\n",
    "desvio_padrao"
   ]
  },
  {
   "cell_type": "code",
   "execution_count": 83,
   "id": "d2067ee0",
   "metadata": {},
   "outputs": [],
   "source": [
    "def get_variancia_desvio_padrao(dados):\n",
    "    media = dados.sum() / len(dados)\n",
    "    desvio = abs(dados - media) ** 2\n",
    "    desvio_somatorio = desvio.sum()\n",
    "    variancia = desvio_somatorio / len(dados)\n",
    "    desvio_padrao = variancia ** (1/2)\n",
    "    return variancia, desvio_padrao"
   ]
  },
  {
   "cell_type": "code",
   "execution_count": 84,
   "id": "8440c2d4",
   "metadata": {},
   "outputs": [
    {
     "data": {
      "text/plain": [
       "(3.111111111111111, 1.7638342073763937)"
      ]
     },
     "execution_count": 84,
     "metadata": {},
     "output_type": "execute_result"
    }
   ],
   "source": [
    "get_variancia_desvio_padrao(dados_impar)"
   ]
  },
  {
   "cell_type": "markdown",
   "id": "4c981177",
   "metadata": {},
   "source": [
    "#### Bibliotecas"
   ]
  },
  {
   "cell_type": "code",
   "execution_count": 60,
   "id": "9115264d",
   "metadata": {},
   "outputs": [],
   "source": [
    "import numpy as np\n",
    "import statistics\n",
    "from scipy import stats\n",
    "import math"
   ]
  },
  {
   "cell_type": "code",
   "execution_count": 55,
   "id": "ff7cc217",
   "metadata": {},
   "outputs": [
    {
     "data": {
      "text/plain": [
       "1.7638342073763937"
      ]
     },
     "execution_count": 55,
     "metadata": {},
     "output_type": "execute_result"
    }
   ],
   "source": [
    "math.sqrt(np.var(dados_impar))"
   ]
  },
  {
   "cell_type": "code",
   "execution_count": 51,
   "id": "d1c5e559",
   "metadata": {},
   "outputs": [
    {
     "data": {
      "text/plain": [
       "1.7638342073763937"
      ]
     },
     "execution_count": 51,
     "metadata": {},
     "output_type": "execute_result"
    }
   ],
   "source": [
    "np.std(dados_impar)"
   ]
  },
  {
   "cell_type": "code",
   "execution_count": 54,
   "id": "bc3a0971",
   "metadata": {},
   "outputs": [
    {
     "data": {
      "text/plain": [
       "1.7320508075688772"
      ]
     },
     "execution_count": 54,
     "metadata": {},
     "output_type": "execute_result"
    }
   ],
   "source": [
    "statistics.stdev(dados_impar)"
   ]
  },
  {
   "cell_type": "code",
   "execution_count": 62,
   "id": "cc86175f",
   "metadata": {},
   "outputs": [
    {
     "data": {
      "text/plain": [
       "1.7638342073763937"
      ]
     },
     "execution_count": 62,
     "metadata": {},
     "output_type": "execute_result"
    }
   ],
   "source": [
    "stats.tstd(dados_impar, ddof=0)"
   ]
  },
  {
   "cell_type": "markdown",
   "id": "bb592ce2",
   "metadata": {},
   "source": [
    "## Coeficiente de variação"
   ]
  },
  {
   "cell_type": "code",
   "execution_count": 71,
   "id": "9ff592b6",
   "metadata": {},
   "outputs": [
    {
     "data": {
      "text/plain": [
       "153.0"
      ]
     },
     "execution_count": 71,
     "metadata": {},
     "output_type": "execute_result"
    }
   ],
   "source": [
    "media = dados_impar.sum() / len(dados_impar)\n",
    "media"
   ]
  },
  {
   "cell_type": "code",
   "execution_count": 72,
   "id": "38373030",
   "metadata": {},
   "outputs": [
    {
     "data": {
      "text/plain": [
       "3.111111111111111"
      ]
     },
     "execution_count": 72,
     "metadata": {},
     "output_type": "execute_result"
    }
   ],
   "source": [
    "desvio = abs(dados_impar - media) ** 2\n",
    "desvio_somatorio = desvio.sum()\n",
    "variancia = desvio_somatorio / len(dados_impar)\n",
    "variancia"
   ]
  },
  {
   "cell_type": "code",
   "execution_count": 73,
   "id": "bb77c9af",
   "metadata": {},
   "outputs": [
    {
     "data": {
      "text/plain": [
       "1.7638342073763937"
      ]
     },
     "execution_count": 73,
     "metadata": {},
     "output_type": "execute_result"
    }
   ],
   "source": [
    "desvio_padrao = variancia ** (1/2)\n",
    "desvio_padrao"
   ]
  },
  {
   "cell_type": "code",
   "execution_count": 75,
   "id": "1cf9a378",
   "metadata": {
    "scrolled": true
   },
   "outputs": [
    {
     "data": {
      "text/plain": [
       "1.1528328152786886"
      ]
     },
     "execution_count": 75,
     "metadata": {},
     "output_type": "execute_result"
    }
   ],
   "source": [
    "coeficiente_variacao = (desvio_padrao / media) * 100\n",
    "coeficiente_variacao"
   ]
  },
  {
   "cell_type": "code",
   "execution_count": 85,
   "id": "22820f40",
   "metadata": {},
   "outputs": [],
   "source": [
    "def get_medidas_dispercao(dados):\n",
    "    media = dados.sum() / len(dados)\n",
    "    desvio = abs(dados - media) ** 2\n",
    "    desvio_somatorio = desvio.sum()\n",
    "    variancia = desvio_somatorio / len(dados)\n",
    "    desvio_padrao = variancia ** (1/2)\n",
    "    coeficiente_variacao = (desvio_padrao / media) * 100\n",
    "    return variancia, desvio_padrao, coeficiente_variacao"
   ]
  },
  {
   "cell_type": "code",
   "execution_count": 87,
   "id": "99d8c344",
   "metadata": {},
   "outputs": [
    {
     "data": {
      "text/plain": [
       "(3.111111111111111, 1.7638342073763937, 1.1528328152786886)"
      ]
     },
     "execution_count": 87,
     "metadata": {},
     "output_type": "execute_result"
    }
   ],
   "source": [
    "get_medidas_dispercao(dados_impar)"
   ]
  },
  {
   "cell_type": "markdown",
   "id": "cf1d674b",
   "metadata": {},
   "source": [
    "#### Bibliotecas"
   ]
  },
  {
   "cell_type": "code",
   "execution_count": 88,
   "id": "d8aacc7b",
   "metadata": {},
   "outputs": [],
   "source": [
    "from scipy import stats"
   ]
  },
  {
   "cell_type": "code",
   "execution_count": 89,
   "id": "c26e0bca",
   "metadata": {},
   "outputs": [
    {
     "data": {
      "text/plain": [
       "1.1528328152786886"
      ]
     },
     "execution_count": 89,
     "metadata": {},
     "output_type": "execute_result"
    }
   ],
   "source": [
    "stats.variation(dados_impar) * 100"
   ]
  }
 ],
 "metadata": {
  "kernelspec": {
   "display_name": "Python 3",
   "language": "python",
   "name": "python3"
  },
  "language_info": {
   "codemirror_mode": {
    "name": "ipython",
    "version": 3
   },
   "file_extension": ".py",
   "mimetype": "text/x-python",
   "name": "python",
   "nbconvert_exporter": "python",
   "pygments_lexer": "ipython3",
   "version": "3.9.2"
  }
 },
 "nbformat": 4,
 "nbformat_minor": 5
}
