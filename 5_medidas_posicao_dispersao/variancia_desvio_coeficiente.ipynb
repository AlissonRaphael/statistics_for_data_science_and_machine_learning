{
 "cells": [
  {
   "cell_type": "markdown",
   "id": "1b179305",
   "metadata": {},
   "source": [
    "# Variância, desvio padrão e coeficiente de variação"
   ]
  },
  {
   "cell_type": "code",
   "execution_count": 25,
   "id": "9f02e488",
   "metadata": {},
   "outputs": [],
   "source": [
    "import numpy as np"
   ]
  },
  {
   "cell_type": "code",
   "execution_count": 26,
   "id": "812440dd",
   "metadata": {},
   "outputs": [],
   "source": [
    "dados_impar = np.array([150,151,152,152,153,154,155,155,155])"
   ]
  },
  {
   "cell_type": "markdown",
   "id": "3e926354",
   "metadata": {},
   "source": [
    "## Variância"
   ]
  },
  {
   "cell_type": "code",
   "execution_count": 27,
   "id": "f37c5b2d",
   "metadata": {},
   "outputs": [
    {
     "data": {
      "text/plain": [
       "153.0"
      ]
     },
     "execution_count": 27,
     "metadata": {},
     "output_type": "execute_result"
    }
   ],
   "source": [
    "media = dados_impar.sum() / len(dados_impar)\n",
    "media"
   ]
  },
  {
   "cell_type": "code",
   "execution_count": 28,
   "id": "171d1590",
   "metadata": {},
   "outputs": [
    {
     "data": {
      "text/plain": [
       "array([3., 2., 1., 1., 0., 1., 2., 2., 2.])"
      ]
     },
     "execution_count": 28,
     "metadata": {},
     "output_type": "execute_result"
    }
   ],
   "source": [
    "desvio = abs(dados_impar - media)\n",
    "desvio"
   ]
  },
  {
   "cell_type": "code",
   "execution_count": 29,
   "id": "d0fbb707",
   "metadata": {},
   "outputs": [
    {
     "data": {
      "text/plain": [
       "array([9., 4., 1., 1., 0., 1., 4., 4., 4.])"
      ]
     },
     "execution_count": 29,
     "metadata": {},
     "output_type": "execute_result"
    }
   ],
   "source": [
    "desvio = desvio ** 2\n",
    "desvio"
   ]
  },
  {
   "cell_type": "code",
   "execution_count": 30,
   "id": "33f19233",
   "metadata": {},
   "outputs": [
    {
     "data": {
      "text/plain": [
       "28.0"
      ]
     },
     "execution_count": 30,
     "metadata": {},
     "output_type": "execute_result"
    }
   ],
   "source": [
    "desvio_somatorio = desvio.sum()\n",
    "desvio_somatorio"
   ]
  },
  {
   "cell_type": "code",
   "execution_count": 31,
   "id": "a566ba13",
   "metadata": {},
   "outputs": [
    {
     "data": {
      "text/plain": [
       "3.111111111111111"
      ]
     },
     "execution_count": 31,
     "metadata": {},
     "output_type": "execute_result"
    }
   ],
   "source": [
    "variancia = desvio_somatorio / len(dados_impar)\n",
    "variancia"
   ]
  },
  {
   "cell_type": "code",
   "execution_count": 32,
   "id": "63197419",
   "metadata": {},
   "outputs": [],
   "source": [
    "def get_variancia(dados):\n",
    "    media = dados.sum() / len(dados)\n",
    "    desvio = abs(dados - media) ** 2\n",
    "    desvio_somatorio = desvio.sum()\n",
    "    variancia = desvio_somatorio / len(dados)\n",
    "    return variancia"
   ]
  },
  {
   "cell_type": "code",
   "execution_count": 33,
   "id": "73fbceb0",
   "metadata": {},
   "outputs": [
    {
     "data": {
      "text/plain": [
       "3.111111111111111"
      ]
     },
     "execution_count": 33,
     "metadata": {},
     "output_type": "execute_result"
    }
   ],
   "source": [
    "get_variancia(dados_impar)"
   ]
  },
  {
   "cell_type": "markdown",
   "id": "fb1ff58b",
   "metadata": {},
   "source": [
    "#### Bibliotecas"
   ]
  },
  {
   "cell_type": "code",
   "execution_count": 34,
   "id": "734f6015",
   "metadata": {},
   "outputs": [],
   "source": [
    "import numpy as np\n",
    "import statistics\n",
    "from scipy import ndimage"
   ]
  },
  {
   "cell_type": "code",
   "execution_count": 35,
   "id": "a2f96660",
   "metadata": {},
   "outputs": [
    {
     "data": {
      "text/plain": [
       "3.111111111111111"
      ]
     },
     "execution_count": 35,
     "metadata": {},
     "output_type": "execute_result"
    }
   ],
   "source": [
    "np.var(dados_impar)"
   ]
  },
  {
   "cell_type": "code",
   "execution_count": 36,
   "id": "9fa3033d",
   "metadata": {},
   "outputs": [
    {
     "data": {
      "text/plain": [
       "3"
      ]
     },
     "execution_count": 36,
     "metadata": {},
     "output_type": "execute_result"
    }
   ],
   "source": [
    "statistics.variance(dados_impar)"
   ]
  },
  {
   "cell_type": "code",
   "execution_count": 37,
   "id": "8376c01c",
   "metadata": {},
   "outputs": [
    {
     "data": {
      "text/plain": [
       "3.111111111111111"
      ]
     },
     "execution_count": 37,
     "metadata": {},
     "output_type": "execute_result"
    }
   ],
   "source": [
    "ndimage.variance(dados_impar)"
   ]
  },
  {
   "cell_type": "markdown",
   "id": "7d5571e1",
   "metadata": {},
   "source": [
    "## Desvio Padrão"
   ]
  },
  {
   "cell_type": "code",
   "execution_count": 45,
   "id": "0c436357",
   "metadata": {},
   "outputs": [],
   "source": [
    "variancia = np.var(dados_impar)"
   ]
  },
  {
   "cell_type": "code",
   "execution_count": 46,
   "id": "ee3ad64e",
   "metadata": {
    "scrolled": true
   },
   "outputs": [
    {
     "data": {
      "text/plain": [
       "1.7638342073763937"
      ]
     },
     "execution_count": 46,
     "metadata": {},
     "output_type": "execute_result"
    }
   ],
   "source": [
    "desvio_padrao = variancia ** (1/2)\n",
    "desvio_padrao"
   ]
  },
  {
   "cell_type": "code",
   "execution_count": 83,
   "id": "d2067ee0",
   "metadata": {},
   "outputs": [],
   "source": [
    "def get_variancia_desvio_padrao(dados):\n",
    "    media = dados.sum() / len(dados)\n",
    "    desvio = abs(dados - media) ** 2\n",
    "    desvio_somatorio = desvio.sum()\n",
    "    variancia = desvio_somatorio / len(dados)\n",
    "    desvio_padrao = variancia ** (1/2)\n",
    "    return variancia, desvio_padrao"
   ]
  },
  {
   "cell_type": "code",
   "execution_count": 84,
   "id": "8440c2d4",
   "metadata": {},
   "outputs": [
    {
     "data": {
      "text/plain": [
       "(3.111111111111111, 1.7638342073763937)"
      ]
     },
     "execution_count": 84,
     "metadata": {},
     "output_type": "execute_result"
    }
   ],
   "source": [
    "get_variancia_desvio_padrao(dados_impar)"
   ]
  },
  {
   "cell_type": "markdown",
   "id": "4c981177",
   "metadata": {},
   "source": [
    "#### Bibliotecas"
   ]
  },
  {
   "cell_type": "code",
   "execution_count": 60,
   "id": "9115264d",
   "metadata": {},
   "outputs": [],
   "source": [
    "import numpy as np\n",
    "import statistics\n",
    "from scipy import stats\n",
    "import math"
   ]
  },
  {
   "cell_type": "code",
   "execution_count": 55,
   "id": "ff7cc217",
   "metadata": {},
   "outputs": [
    {
     "data": {
      "text/plain": [
       "1.7638342073763937"
      ]
     },
     "execution_count": 55,
     "metadata": {},
     "output_type": "execute_result"
    }
   ],
   "source": [
    "math.sqrt(np.var(dados_impar))"
   ]
  },
  {
   "cell_type": "code",
   "execution_count": 51,
   "id": "d1c5e559",
   "metadata": {},
   "outputs": [
    {
     "data": {
      "text/plain": [
       "1.7638342073763937"
      ]
     },
     "execution_count": 51,
     "metadata": {},
     "output_type": "execute_result"
    }
   ],
   "source": [
    "np.std(dados_impar)"
   ]
  },
  {
   "cell_type": "code",
   "execution_count": 54,
   "id": "bc3a0971",
   "metadata": {},
   "outputs": [
    {
     "data": {
      "text/plain": [
       "1.7320508075688772"
      ]
     },
     "execution_count": 54,
     "metadata": {},
     "output_type": "execute_result"
    }
   ],
   "source": [
    "statistics.stdev(dados_impar)"
   ]
  },
  {
   "cell_type": "code",
   "execution_count": 62,
   "id": "cc86175f",
   "metadata": {},
   "outputs": [
    {
     "data": {
      "text/plain": [
       "1.7638342073763937"
      ]
     },
     "execution_count": 62,
     "metadata": {},
     "output_type": "execute_result"
    }
   ],
   "source": [
    "stats.tstd(dados_impar, ddof=0)"
   ]
  },
  {
   "cell_type": "markdown",
   "id": "bb592ce2",
   "metadata": {},
   "source": [
    "## Coeficiente de variação"
   ]
  },
  {
   "cell_type": "code",
   "execution_count": 71,
   "id": "9ff592b6",
   "metadata": {},
   "outputs": [
    {
     "data": {
      "text/plain": [
       "153.0"
      ]
     },
     "execution_count": 71,
     "metadata": {},
     "output_type": "execute_result"
    }
   ],
   "source": [
    "media = dados_impar.sum() / len(dados_impar)\n",
    "media"
   ]
  },
  {
   "cell_type": "code",
   "execution_count": 72,
   "id": "38373030",
   "metadata": {},
   "outputs": [
    {
     "data": {
      "text/plain": [
       "3.111111111111111"
      ]
     },
     "execution_count": 72,
     "metadata": {},
     "output_type": "execute_result"
    }
   ],
   "source": [
    "desvio = abs(dados_impar - media) ** 2\n",
    "desvio_somatorio = desvio.sum()\n",
    "variancia = desvio_somatorio / len(dados_impar)\n",
    "variancia"
   ]
  },
  {
   "cell_type": "code",
   "execution_count": 73,
   "id": "bb77c9af",
   "metadata": {},
   "outputs": [
    {
     "data": {
      "text/plain": [
       "1.7638342073763937"
      ]
     },
     "execution_count": 73,
     "metadata": {},
     "output_type": "execute_result"
    }
   ],
   "source": [
    "desvio_padrao = variancia ** (1/2)\n",
    "desvio_padrao"
   ]
  },
  {
   "cell_type": "code",
   "execution_count": 75,
   "id": "1cf9a378",
   "metadata": {
    "scrolled": true
   },
   "outputs": [
    {
     "data": {
      "text/plain": [
       "1.1528328152786886"
      ]
     },
     "execution_count": 75,
     "metadata": {},
     "output_type": "execute_result"
    }
   ],
   "source": [
    "coeficiente_variacao = (desvio_padrao / media) * 100\n",
    "coeficiente_variacao"
   ]
  },
  {
   "cell_type": "code",
   "execution_count": 85,
   "id": "22820f40",
   "metadata": {},
   "outputs": [],
   "source": [
    "def get_medidas_dispercao(dados):\n",
    "    media = dados.sum() / len(dados)\n",
    "    desvio = abs(dados - media) ** 2\n",
    "    desvio_somatorio = desvio.sum()\n",
    "    variancia = desvio_somatorio / len(dados)\n",
    "    desvio_padrao = variancia ** (1/2)\n",
    "    coeficiente_variacao = (desvio_padrao / media) * 100\n",
    "    return variancia, desvio_padrao, coeficiente_variacao"
   ]
  },
  {
   "cell_type": "code",
   "execution_count": 87,
   "id": "99d8c344",
   "metadata": {},
   "outputs": [
    {
     "data": {
      "text/plain": [
       "(3.111111111111111, 1.7638342073763937, 1.1528328152786886)"
      ]
     },
     "execution_count": 87,
     "metadata": {},
     "output_type": "execute_result"
    }
   ],
   "source": [
    "get_medidas_dispercao(dados_impar)"
   ]
  },
  {
   "cell_type": "markdown",
   "id": "cf1d674b",
   "metadata": {},
   "source": [
    "#### Bibliotecas"
   ]
  },
  {
   "cell_type": "code",
   "execution_count": 88,
   "id": "d8aacc7b",
   "metadata": {},
   "outputs": [],
   "source": [
    "from scipy import stats"
   ]
  },
  {
   "cell_type": "code",
   "execution_count": 89,
   "id": "c26e0bca",
   "metadata": {},
   "outputs": [
    {
     "data": {
      "text/plain": [
       "1.1528328152786886"
      ]
     },
     "execution_count": 89,
     "metadata": {},
     "output_type": "execute_result"
    }
   ],
   "source": [
    "stats.variation(dados_impar) * 100"
   ]
  },
  {
   "cell_type": "markdown",
   "id": "577d4632",
   "metadata": {},
   "source": [
    "## Variância (dados agrupados)"
   ]
  },
  {
   "cell_type": "code",
   "execution_count": 91,
   "id": "e91ea6c3",
   "metadata": {},
   "outputs": [],
   "source": [
    "import pandas as pd"
   ]
  },
  {
   "cell_type": "code",
   "execution_count": 102,
   "id": "70c8748c",
   "metadata": {},
   "outputs": [],
   "source": [
    "dados = {\n",
    "    'inferior': [150,154,158,162,166,170],\n",
    "    'superior': [154,158,162,165,170,174],\n",
    "    'fi': [5,9,11,7,5,3]\n",
    "}"
   ]
  },
  {
   "cell_type": "code",
   "execution_count": 103,
   "id": "99295fa2",
   "metadata": {
    "scrolled": true
   },
   "outputs": [
    {
     "data": {
      "text/html": [
       "<div>\n",
       "<style scoped>\n",
       "    .dataframe tbody tr th:only-of-type {\n",
       "        vertical-align: middle;\n",
       "    }\n",
       "\n",
       "    .dataframe tbody tr th {\n",
       "        vertical-align: top;\n",
       "    }\n",
       "\n",
       "    .dataframe thead th {\n",
       "        text-align: right;\n",
       "    }\n",
       "</style>\n",
       "<table border=\"1\" class=\"dataframe\">\n",
       "  <thead>\n",
       "    <tr style=\"text-align: right;\">\n",
       "      <th></th>\n",
       "      <th>inferior</th>\n",
       "      <th>superior</th>\n",
       "      <th>fi</th>\n",
       "    </tr>\n",
       "  </thead>\n",
       "  <tbody>\n",
       "    <tr>\n",
       "      <th>0</th>\n",
       "      <td>150</td>\n",
       "      <td>154</td>\n",
       "      <td>5</td>\n",
       "    </tr>\n",
       "    <tr>\n",
       "      <th>1</th>\n",
       "      <td>154</td>\n",
       "      <td>158</td>\n",
       "      <td>9</td>\n",
       "    </tr>\n",
       "    <tr>\n",
       "      <th>2</th>\n",
       "      <td>158</td>\n",
       "      <td>162</td>\n",
       "      <td>11</td>\n",
       "    </tr>\n",
       "    <tr>\n",
       "      <th>3</th>\n",
       "      <td>162</td>\n",
       "      <td>165</td>\n",
       "      <td>7</td>\n",
       "    </tr>\n",
       "    <tr>\n",
       "      <th>4</th>\n",
       "      <td>166</td>\n",
       "      <td>170</td>\n",
       "      <td>5</td>\n",
       "    </tr>\n",
       "    <tr>\n",
       "      <th>5</th>\n",
       "      <td>170</td>\n",
       "      <td>174</td>\n",
       "      <td>3</td>\n",
       "    </tr>\n",
       "  </tbody>\n",
       "</table>\n",
       "</div>"
      ],
      "text/plain": [
       "   inferior  superior  fi\n",
       "0       150       154   5\n",
       "1       154       158   9\n",
       "2       158       162  11\n",
       "3       162       165   7\n",
       "4       166       170   5\n",
       "5       170       174   3"
      ]
     },
     "execution_count": 103,
     "metadata": {},
     "output_type": "execute_result"
    }
   ],
   "source": [
    "dataset = pd.DataFrame(dados)\n",
    "dataset"
   ]
  },
  {
   "cell_type": "code",
   "execution_count": 104,
   "id": "24da09e8",
   "metadata": {},
   "outputs": [
    {
     "data": {
      "text/html": [
       "<div>\n",
       "<style scoped>\n",
       "    .dataframe tbody tr th:only-of-type {\n",
       "        vertical-align: middle;\n",
       "    }\n",
       "\n",
       "    .dataframe tbody tr th {\n",
       "        vertical-align: top;\n",
       "    }\n",
       "\n",
       "    .dataframe thead th {\n",
       "        text-align: right;\n",
       "    }\n",
       "</style>\n",
       "<table border=\"1\" class=\"dataframe\">\n",
       "  <thead>\n",
       "    <tr style=\"text-align: right;\">\n",
       "      <th></th>\n",
       "      <th>inferior</th>\n",
       "      <th>superior</th>\n",
       "      <th>fi</th>\n",
       "      <th>xi</th>\n",
       "    </tr>\n",
       "  </thead>\n",
       "  <tbody>\n",
       "    <tr>\n",
       "      <th>0</th>\n",
       "      <td>150</td>\n",
       "      <td>154</td>\n",
       "      <td>5</td>\n",
       "      <td>152.0</td>\n",
       "    </tr>\n",
       "    <tr>\n",
       "      <th>1</th>\n",
       "      <td>154</td>\n",
       "      <td>158</td>\n",
       "      <td>9</td>\n",
       "      <td>156.0</td>\n",
       "    </tr>\n",
       "    <tr>\n",
       "      <th>2</th>\n",
       "      <td>158</td>\n",
       "      <td>162</td>\n",
       "      <td>11</td>\n",
       "      <td>160.0</td>\n",
       "    </tr>\n",
       "    <tr>\n",
       "      <th>3</th>\n",
       "      <td>162</td>\n",
       "      <td>165</td>\n",
       "      <td>7</td>\n",
       "      <td>163.5</td>\n",
       "    </tr>\n",
       "    <tr>\n",
       "      <th>4</th>\n",
       "      <td>166</td>\n",
       "      <td>170</td>\n",
       "      <td>5</td>\n",
       "      <td>168.0</td>\n",
       "    </tr>\n",
       "    <tr>\n",
       "      <th>5</th>\n",
       "      <td>170</td>\n",
       "      <td>174</td>\n",
       "      <td>3</td>\n",
       "      <td>172.0</td>\n",
       "    </tr>\n",
       "  </tbody>\n",
       "</table>\n",
       "</div>"
      ],
      "text/plain": [
       "   inferior  superior  fi     xi\n",
       "0       150       154   5  152.0\n",
       "1       154       158   9  156.0\n",
       "2       158       162  11  160.0\n",
       "3       162       165   7  163.5\n",
       "4       166       170   5  168.0\n",
       "5       170       174   3  172.0"
      ]
     },
     "execution_count": 104,
     "metadata": {},
     "output_type": "execute_result"
    }
   ],
   "source": [
    "dataset['xi'] = (dataset['superior'] + dataset['inferior']) / 2\n",
    "dataset"
   ]
  },
  {
   "cell_type": "code",
   "execution_count": 105,
   "id": "085f50f5",
   "metadata": {},
   "outputs": [
    {
     "data": {
      "text/html": [
       "<div>\n",
       "<style scoped>\n",
       "    .dataframe tbody tr th:only-of-type {\n",
       "        vertical-align: middle;\n",
       "    }\n",
       "\n",
       "    .dataframe tbody tr th {\n",
       "        vertical-align: top;\n",
       "    }\n",
       "\n",
       "    .dataframe thead th {\n",
       "        text-align: right;\n",
       "    }\n",
       "</style>\n",
       "<table border=\"1\" class=\"dataframe\">\n",
       "  <thead>\n",
       "    <tr style=\"text-align: right;\">\n",
       "      <th></th>\n",
       "      <th>inferior</th>\n",
       "      <th>superior</th>\n",
       "      <th>fi</th>\n",
       "      <th>xi</th>\n",
       "      <th>fi_xi</th>\n",
       "    </tr>\n",
       "  </thead>\n",
       "  <tbody>\n",
       "    <tr>\n",
       "      <th>0</th>\n",
       "      <td>150</td>\n",
       "      <td>154</td>\n",
       "      <td>5</td>\n",
       "      <td>152.0</td>\n",
       "      <td>760.0</td>\n",
       "    </tr>\n",
       "    <tr>\n",
       "      <th>1</th>\n",
       "      <td>154</td>\n",
       "      <td>158</td>\n",
       "      <td>9</td>\n",
       "      <td>156.0</td>\n",
       "      <td>1404.0</td>\n",
       "    </tr>\n",
       "    <tr>\n",
       "      <th>2</th>\n",
       "      <td>158</td>\n",
       "      <td>162</td>\n",
       "      <td>11</td>\n",
       "      <td>160.0</td>\n",
       "      <td>1760.0</td>\n",
       "    </tr>\n",
       "    <tr>\n",
       "      <th>3</th>\n",
       "      <td>162</td>\n",
       "      <td>165</td>\n",
       "      <td>7</td>\n",
       "      <td>163.5</td>\n",
       "      <td>1144.5</td>\n",
       "    </tr>\n",
       "    <tr>\n",
       "      <th>4</th>\n",
       "      <td>166</td>\n",
       "      <td>170</td>\n",
       "      <td>5</td>\n",
       "      <td>168.0</td>\n",
       "      <td>840.0</td>\n",
       "    </tr>\n",
       "    <tr>\n",
       "      <th>5</th>\n",
       "      <td>170</td>\n",
       "      <td>174</td>\n",
       "      <td>3</td>\n",
       "      <td>172.0</td>\n",
       "      <td>516.0</td>\n",
       "    </tr>\n",
       "  </tbody>\n",
       "</table>\n",
       "</div>"
      ],
      "text/plain": [
       "   inferior  superior  fi     xi   fi_xi\n",
       "0       150       154   5  152.0   760.0\n",
       "1       154       158   9  156.0  1404.0\n",
       "2       158       162  11  160.0  1760.0\n",
       "3       162       165   7  163.5  1144.5\n",
       "4       166       170   5  168.0   840.0\n",
       "5       170       174   3  172.0   516.0"
      ]
     },
     "execution_count": 105,
     "metadata": {},
     "output_type": "execute_result"
    }
   ],
   "source": [
    "dataset['fi_xi'] = dataset['fi'] * dataset['xi']\n",
    "dataset"
   ]
  },
  {
   "cell_type": "code",
   "execution_count": 106,
   "id": "5783f0c0",
   "metadata": {},
   "outputs": [
    {
     "data": {
      "text/html": [
       "<div>\n",
       "<style scoped>\n",
       "    .dataframe tbody tr th:only-of-type {\n",
       "        vertical-align: middle;\n",
       "    }\n",
       "\n",
       "    .dataframe tbody tr th {\n",
       "        vertical-align: top;\n",
       "    }\n",
       "\n",
       "    .dataframe thead th {\n",
       "        text-align: right;\n",
       "    }\n",
       "</style>\n",
       "<table border=\"1\" class=\"dataframe\">\n",
       "  <thead>\n",
       "    <tr style=\"text-align: right;\">\n",
       "      <th></th>\n",
       "      <th>inferior</th>\n",
       "      <th>superior</th>\n",
       "      <th>fi</th>\n",
       "      <th>xi</th>\n",
       "      <th>fi_xi</th>\n",
       "      <th>Fi</th>\n",
       "    </tr>\n",
       "  </thead>\n",
       "  <tbody>\n",
       "    <tr>\n",
       "      <th>0</th>\n",
       "      <td>150</td>\n",
       "      <td>154</td>\n",
       "      <td>5</td>\n",
       "      <td>152.0</td>\n",
       "      <td>760.0</td>\n",
       "      <td>0</td>\n",
       "    </tr>\n",
       "    <tr>\n",
       "      <th>1</th>\n",
       "      <td>154</td>\n",
       "      <td>158</td>\n",
       "      <td>9</td>\n",
       "      <td>156.0</td>\n",
       "      <td>1404.0</td>\n",
       "      <td>0</td>\n",
       "    </tr>\n",
       "    <tr>\n",
       "      <th>2</th>\n",
       "      <td>158</td>\n",
       "      <td>162</td>\n",
       "      <td>11</td>\n",
       "      <td>160.0</td>\n",
       "      <td>1760.0</td>\n",
       "      <td>0</td>\n",
       "    </tr>\n",
       "    <tr>\n",
       "      <th>3</th>\n",
       "      <td>162</td>\n",
       "      <td>165</td>\n",
       "      <td>7</td>\n",
       "      <td>163.5</td>\n",
       "      <td>1144.5</td>\n",
       "      <td>0</td>\n",
       "    </tr>\n",
       "    <tr>\n",
       "      <th>4</th>\n",
       "      <td>166</td>\n",
       "      <td>170</td>\n",
       "      <td>5</td>\n",
       "      <td>168.0</td>\n",
       "      <td>840.0</td>\n",
       "      <td>0</td>\n",
       "    </tr>\n",
       "    <tr>\n",
       "      <th>5</th>\n",
       "      <td>170</td>\n",
       "      <td>174</td>\n",
       "      <td>3</td>\n",
       "      <td>172.0</td>\n",
       "      <td>516.0</td>\n",
       "      <td>0</td>\n",
       "    </tr>\n",
       "  </tbody>\n",
       "</table>\n",
       "</div>"
      ],
      "text/plain": [
       "   inferior  superior  fi     xi   fi_xi  Fi\n",
       "0       150       154   5  152.0   760.0   0\n",
       "1       154       158   9  156.0  1404.0   0\n",
       "2       158       162  11  160.0  1760.0   0\n",
       "3       162       165   7  163.5  1144.5   0\n",
       "4       166       170   5  168.0   840.0   0\n",
       "5       170       174   3  172.0   516.0   0"
      ]
     },
     "execution_count": 106,
     "metadata": {},
     "output_type": "execute_result"
    }
   ],
   "source": [
    "dataset['Fi'] = 0\n",
    "dataset"
   ]
  },
  {
   "cell_type": "code",
   "execution_count": 107,
   "id": "2894ddba",
   "metadata": {},
   "outputs": [
    {
     "data": {
      "text/plain": [
       "[5.0, 14.0, 25.0, 32.0, 37.0, 40.0]"
      ]
     },
     "execution_count": 107,
     "metadata": {},
     "output_type": "execute_result"
    }
   ],
   "source": [
    "frequencia_acumulada = []\n",
    "acumulado = 0\n",
    "for i in range(len(dataset)):\n",
    "    acumulado += dataset.values[i, 2]\n",
    "    frequencia_acumulada.append(acumulado)\n",
    "    \n",
    "frequencia_acumulada"
   ]
  },
  {
   "cell_type": "code",
   "execution_count": 108,
   "id": "a976b93d",
   "metadata": {},
   "outputs": [
    {
     "data": {
      "text/html": [
       "<div>\n",
       "<style scoped>\n",
       "    .dataframe tbody tr th:only-of-type {\n",
       "        vertical-align: middle;\n",
       "    }\n",
       "\n",
       "    .dataframe tbody tr th {\n",
       "        vertical-align: top;\n",
       "    }\n",
       "\n",
       "    .dataframe thead th {\n",
       "        text-align: right;\n",
       "    }\n",
       "</style>\n",
       "<table border=\"1\" class=\"dataframe\">\n",
       "  <thead>\n",
       "    <tr style=\"text-align: right;\">\n",
       "      <th></th>\n",
       "      <th>inferior</th>\n",
       "      <th>superior</th>\n",
       "      <th>fi</th>\n",
       "      <th>xi</th>\n",
       "      <th>fi_xi</th>\n",
       "      <th>Fi</th>\n",
       "    </tr>\n",
       "  </thead>\n",
       "  <tbody>\n",
       "    <tr>\n",
       "      <th>0</th>\n",
       "      <td>150</td>\n",
       "      <td>154</td>\n",
       "      <td>5</td>\n",
       "      <td>152.0</td>\n",
       "      <td>760.0</td>\n",
       "      <td>5.0</td>\n",
       "    </tr>\n",
       "    <tr>\n",
       "      <th>1</th>\n",
       "      <td>154</td>\n",
       "      <td>158</td>\n",
       "      <td>9</td>\n",
       "      <td>156.0</td>\n",
       "      <td>1404.0</td>\n",
       "      <td>14.0</td>\n",
       "    </tr>\n",
       "    <tr>\n",
       "      <th>2</th>\n",
       "      <td>158</td>\n",
       "      <td>162</td>\n",
       "      <td>11</td>\n",
       "      <td>160.0</td>\n",
       "      <td>1760.0</td>\n",
       "      <td>25.0</td>\n",
       "    </tr>\n",
       "    <tr>\n",
       "      <th>3</th>\n",
       "      <td>162</td>\n",
       "      <td>165</td>\n",
       "      <td>7</td>\n",
       "      <td>163.5</td>\n",
       "      <td>1144.5</td>\n",
       "      <td>32.0</td>\n",
       "    </tr>\n",
       "    <tr>\n",
       "      <th>4</th>\n",
       "      <td>166</td>\n",
       "      <td>170</td>\n",
       "      <td>5</td>\n",
       "      <td>168.0</td>\n",
       "      <td>840.0</td>\n",
       "      <td>37.0</td>\n",
       "    </tr>\n",
       "    <tr>\n",
       "      <th>5</th>\n",
       "      <td>170</td>\n",
       "      <td>174</td>\n",
       "      <td>3</td>\n",
       "      <td>172.0</td>\n",
       "      <td>516.0</td>\n",
       "      <td>40.0</td>\n",
       "    </tr>\n",
       "  </tbody>\n",
       "</table>\n",
       "</div>"
      ],
      "text/plain": [
       "   inferior  superior  fi     xi   fi_xi    Fi\n",
       "0       150       154   5  152.0   760.0   5.0\n",
       "1       154       158   9  156.0  1404.0  14.0\n",
       "2       158       162  11  160.0  1760.0  25.0\n",
       "3       162       165   7  163.5  1144.5  32.0\n",
       "4       166       170   5  168.0   840.0  37.0\n",
       "5       170       174   3  172.0   516.0  40.0"
      ]
     },
     "execution_count": 108,
     "metadata": {},
     "output_type": "execute_result"
    }
   ],
   "source": [
    "dataset['Fi'] = frequencia_acumulada\n",
    "dataset"
   ]
  },
  {
   "cell_type": "code",
   "execution_count": 109,
   "id": "6ca3dfbd",
   "metadata": {},
   "outputs": [
    {
     "data": {
      "text/html": [
       "<div>\n",
       "<style scoped>\n",
       "    .dataframe tbody tr th:only-of-type {\n",
       "        vertical-align: middle;\n",
       "    }\n",
       "\n",
       "    .dataframe tbody tr th {\n",
       "        vertical-align: top;\n",
       "    }\n",
       "\n",
       "    .dataframe thead th {\n",
       "        text-align: right;\n",
       "    }\n",
       "</style>\n",
       "<table border=\"1\" class=\"dataframe\">\n",
       "  <thead>\n",
       "    <tr style=\"text-align: right;\">\n",
       "      <th></th>\n",
       "      <th>inferior</th>\n",
       "      <th>superior</th>\n",
       "      <th>fi</th>\n",
       "      <th>xi</th>\n",
       "      <th>fi_xi</th>\n",
       "      <th>Fi</th>\n",
       "      <th>xi^2</th>\n",
       "    </tr>\n",
       "  </thead>\n",
       "  <tbody>\n",
       "    <tr>\n",
       "      <th>0</th>\n",
       "      <td>150</td>\n",
       "      <td>154</td>\n",
       "      <td>5</td>\n",
       "      <td>152.0</td>\n",
       "      <td>760.0</td>\n",
       "      <td>5.0</td>\n",
       "      <td>23104.00</td>\n",
       "    </tr>\n",
       "    <tr>\n",
       "      <th>1</th>\n",
       "      <td>154</td>\n",
       "      <td>158</td>\n",
       "      <td>9</td>\n",
       "      <td>156.0</td>\n",
       "      <td>1404.0</td>\n",
       "      <td>14.0</td>\n",
       "      <td>24336.00</td>\n",
       "    </tr>\n",
       "    <tr>\n",
       "      <th>2</th>\n",
       "      <td>158</td>\n",
       "      <td>162</td>\n",
       "      <td>11</td>\n",
       "      <td>160.0</td>\n",
       "      <td>1760.0</td>\n",
       "      <td>25.0</td>\n",
       "      <td>25600.00</td>\n",
       "    </tr>\n",
       "    <tr>\n",
       "      <th>3</th>\n",
       "      <td>162</td>\n",
       "      <td>165</td>\n",
       "      <td>7</td>\n",
       "      <td>163.5</td>\n",
       "      <td>1144.5</td>\n",
       "      <td>32.0</td>\n",
       "      <td>26732.25</td>\n",
       "    </tr>\n",
       "    <tr>\n",
       "      <th>4</th>\n",
       "      <td>166</td>\n",
       "      <td>170</td>\n",
       "      <td>5</td>\n",
       "      <td>168.0</td>\n",
       "      <td>840.0</td>\n",
       "      <td>37.0</td>\n",
       "      <td>28224.00</td>\n",
       "    </tr>\n",
       "    <tr>\n",
       "      <th>5</th>\n",
       "      <td>170</td>\n",
       "      <td>174</td>\n",
       "      <td>3</td>\n",
       "      <td>172.0</td>\n",
       "      <td>516.0</td>\n",
       "      <td>40.0</td>\n",
       "      <td>29584.00</td>\n",
       "    </tr>\n",
       "  </tbody>\n",
       "</table>\n",
       "</div>"
      ],
      "text/plain": [
       "   inferior  superior  fi     xi   fi_xi    Fi      xi^2\n",
       "0       150       154   5  152.0   760.0   5.0  23104.00\n",
       "1       154       158   9  156.0  1404.0  14.0  24336.00\n",
       "2       158       162  11  160.0  1760.0  25.0  25600.00\n",
       "3       162       165   7  163.5  1144.5  32.0  26732.25\n",
       "4       166       170   5  168.0   840.0  37.0  28224.00\n",
       "5       170       174   3  172.0   516.0  40.0  29584.00"
      ]
     },
     "execution_count": 109,
     "metadata": {},
     "output_type": "execute_result"
    }
   ],
   "source": [
    "dataset['xi^2'] = dataset['xi'] * dataset['xi']\n",
    "dataset"
   ]
  },
  {
   "cell_type": "code",
   "execution_count": 110,
   "id": "a24f9b9b",
   "metadata": {
    "scrolled": true
   },
   "outputs": [
    {
     "data": {
      "text/html": [
       "<div>\n",
       "<style scoped>\n",
       "    .dataframe tbody tr th:only-of-type {\n",
       "        vertical-align: middle;\n",
       "    }\n",
       "\n",
       "    .dataframe tbody tr th {\n",
       "        vertical-align: top;\n",
       "    }\n",
       "\n",
       "    .dataframe thead th {\n",
       "        text-align: right;\n",
       "    }\n",
       "</style>\n",
       "<table border=\"1\" class=\"dataframe\">\n",
       "  <thead>\n",
       "    <tr style=\"text-align: right;\">\n",
       "      <th></th>\n",
       "      <th>inferior</th>\n",
       "      <th>superior</th>\n",
       "      <th>fi</th>\n",
       "      <th>xi</th>\n",
       "      <th>fi_xi</th>\n",
       "      <th>Fi</th>\n",
       "      <th>xi^2</th>\n",
       "      <th>xi^2_fi</th>\n",
       "    </tr>\n",
       "  </thead>\n",
       "  <tbody>\n",
       "    <tr>\n",
       "      <th>0</th>\n",
       "      <td>150</td>\n",
       "      <td>154</td>\n",
       "      <td>5</td>\n",
       "      <td>152.0</td>\n",
       "      <td>760.0</td>\n",
       "      <td>5.0</td>\n",
       "      <td>23104.00</td>\n",
       "      <td>115520.00</td>\n",
       "    </tr>\n",
       "    <tr>\n",
       "      <th>1</th>\n",
       "      <td>154</td>\n",
       "      <td>158</td>\n",
       "      <td>9</td>\n",
       "      <td>156.0</td>\n",
       "      <td>1404.0</td>\n",
       "      <td>14.0</td>\n",
       "      <td>24336.00</td>\n",
       "      <td>219024.00</td>\n",
       "    </tr>\n",
       "    <tr>\n",
       "      <th>2</th>\n",
       "      <td>158</td>\n",
       "      <td>162</td>\n",
       "      <td>11</td>\n",
       "      <td>160.0</td>\n",
       "      <td>1760.0</td>\n",
       "      <td>25.0</td>\n",
       "      <td>25600.00</td>\n",
       "      <td>281600.00</td>\n",
       "    </tr>\n",
       "    <tr>\n",
       "      <th>3</th>\n",
       "      <td>162</td>\n",
       "      <td>165</td>\n",
       "      <td>7</td>\n",
       "      <td>163.5</td>\n",
       "      <td>1144.5</td>\n",
       "      <td>32.0</td>\n",
       "      <td>26732.25</td>\n",
       "      <td>187125.75</td>\n",
       "    </tr>\n",
       "    <tr>\n",
       "      <th>4</th>\n",
       "      <td>166</td>\n",
       "      <td>170</td>\n",
       "      <td>5</td>\n",
       "      <td>168.0</td>\n",
       "      <td>840.0</td>\n",
       "      <td>37.0</td>\n",
       "      <td>28224.00</td>\n",
       "      <td>141120.00</td>\n",
       "    </tr>\n",
       "    <tr>\n",
       "      <th>5</th>\n",
       "      <td>170</td>\n",
       "      <td>174</td>\n",
       "      <td>3</td>\n",
       "      <td>172.0</td>\n",
       "      <td>516.0</td>\n",
       "      <td>40.0</td>\n",
       "      <td>29584.00</td>\n",
       "      <td>88752.00</td>\n",
       "    </tr>\n",
       "  </tbody>\n",
       "</table>\n",
       "</div>"
      ],
      "text/plain": [
       "   inferior  superior  fi     xi   fi_xi    Fi      xi^2    xi^2_fi\n",
       "0       150       154   5  152.0   760.0   5.0  23104.00  115520.00\n",
       "1       154       158   9  156.0  1404.0  14.0  24336.00  219024.00\n",
       "2       158       162  11  160.0  1760.0  25.0  25600.00  281600.00\n",
       "3       162       165   7  163.5  1144.5  32.0  26732.25  187125.75\n",
       "4       166       170   5  168.0   840.0  37.0  28224.00  141120.00\n",
       "5       170       174   3  172.0   516.0  40.0  29584.00   88752.00"
      ]
     },
     "execution_count": 110,
     "metadata": {},
     "output_type": "execute_result"
    }
   ],
   "source": [
    "dataset['xi^2_fi'] = dataset['xi^2'] * dataset['fi']\n",
    "dataset"
   ]
  },
  {
   "cell_type": "code",
   "execution_count": 114,
   "id": "636eb865",
   "metadata": {},
   "outputs": [
    {
     "data": {
      "text/html": [
       "<div>\n",
       "<style scoped>\n",
       "    .dataframe tbody tr th:only-of-type {\n",
       "        vertical-align: middle;\n",
       "    }\n",
       "\n",
       "    .dataframe tbody tr th {\n",
       "        vertical-align: top;\n",
       "    }\n",
       "\n",
       "    .dataframe thead th {\n",
       "        text-align: right;\n",
       "    }\n",
       "</style>\n",
       "<table border=\"1\" class=\"dataframe\">\n",
       "  <thead>\n",
       "    <tr style=\"text-align: right;\">\n",
       "      <th></th>\n",
       "      <th>inferior</th>\n",
       "      <th>superior</th>\n",
       "      <th>fi</th>\n",
       "      <th>xi</th>\n",
       "      <th>fi_xi</th>\n",
       "      <th>xi^2</th>\n",
       "      <th>xi^2_fi</th>\n",
       "      <th>Fi</th>\n",
       "    </tr>\n",
       "  </thead>\n",
       "  <tbody>\n",
       "    <tr>\n",
       "      <th>0</th>\n",
       "      <td>150</td>\n",
       "      <td>154</td>\n",
       "      <td>5</td>\n",
       "      <td>152.0</td>\n",
       "      <td>760.0</td>\n",
       "      <td>23104.00</td>\n",
       "      <td>115520.00</td>\n",
       "      <td>5.0</td>\n",
       "    </tr>\n",
       "    <tr>\n",
       "      <th>1</th>\n",
       "      <td>154</td>\n",
       "      <td>158</td>\n",
       "      <td>9</td>\n",
       "      <td>156.0</td>\n",
       "      <td>1404.0</td>\n",
       "      <td>24336.00</td>\n",
       "      <td>219024.00</td>\n",
       "      <td>14.0</td>\n",
       "    </tr>\n",
       "    <tr>\n",
       "      <th>2</th>\n",
       "      <td>158</td>\n",
       "      <td>162</td>\n",
       "      <td>11</td>\n",
       "      <td>160.0</td>\n",
       "      <td>1760.0</td>\n",
       "      <td>25600.00</td>\n",
       "      <td>281600.00</td>\n",
       "      <td>25.0</td>\n",
       "    </tr>\n",
       "    <tr>\n",
       "      <th>3</th>\n",
       "      <td>162</td>\n",
       "      <td>165</td>\n",
       "      <td>7</td>\n",
       "      <td>163.5</td>\n",
       "      <td>1144.5</td>\n",
       "      <td>26732.25</td>\n",
       "      <td>187125.75</td>\n",
       "      <td>32.0</td>\n",
       "    </tr>\n",
       "    <tr>\n",
       "      <th>4</th>\n",
       "      <td>166</td>\n",
       "      <td>170</td>\n",
       "      <td>5</td>\n",
       "      <td>168.0</td>\n",
       "      <td>840.0</td>\n",
       "      <td>28224.00</td>\n",
       "      <td>141120.00</td>\n",
       "      <td>37.0</td>\n",
       "    </tr>\n",
       "    <tr>\n",
       "      <th>5</th>\n",
       "      <td>170</td>\n",
       "      <td>174</td>\n",
       "      <td>3</td>\n",
       "      <td>172.0</td>\n",
       "      <td>516.0</td>\n",
       "      <td>29584.00</td>\n",
       "      <td>88752.00</td>\n",
       "      <td>40.0</td>\n",
       "    </tr>\n",
       "  </tbody>\n",
       "</table>\n",
       "</div>"
      ],
      "text/plain": [
       "   inferior  superior  fi     xi   fi_xi      xi^2    xi^2_fi    Fi\n",
       "0       150       154   5  152.0   760.0  23104.00  115520.00   5.0\n",
       "1       154       158   9  156.0  1404.0  24336.00  219024.00  14.0\n",
       "2       158       162  11  160.0  1760.0  25600.00  281600.00  25.0\n",
       "3       162       165   7  163.5  1144.5  26732.25  187125.75  32.0\n",
       "4       166       170   5  168.0   840.0  28224.00  141120.00  37.0\n",
       "5       170       174   3  172.0   516.0  29584.00   88752.00  40.0"
      ]
     },
     "execution_count": 114,
     "metadata": {},
     "output_type": "execute_result"
    }
   ],
   "source": [
    "colunas_ordenadas = ['inferior', 'superior', 'fi', 'xi', 'fi_xi', 'xi^2', 'xi^2_fi', 'Fi']\n",
    "dataset = dataset[colunas_ordenadas]\n",
    "dataset"
   ]
  },
  {
   "cell_type": "code",
   "execution_count": 123,
   "id": "2505ffcc",
   "metadata": {},
   "outputs": [
    {
     "data": {
      "text/plain": [
       "32.168593749996944"
      ]
     },
     "execution_count": 123,
     "metadata": {},
     "output_type": "execute_result"
    }
   ],
   "source": [
    "variancia_agrupados = (dataset['xi^2_fi'].sum() / dataset['fi'].sum()) - math.pow(dataset['fi_xi'].sum() / dataset['fi'].sum(), 2)\n",
    "variancia_agrupados"
   ]
  },
  {
   "cell_type": "code",
   "execution_count": 124,
   "id": "3338b583",
   "metadata": {},
   "outputs": [
    {
     "data": {
      "text/plain": [
       "5.671736396377828"
      ]
     },
     "execution_count": 124,
     "metadata": {},
     "output_type": "execute_result"
    }
   ],
   "source": [
    "desvio_padrado = math.sqrt(variancia_agrupados)\n",
    "desvio_padrado"
   ]
  }
 ],
 "metadata": {
  "kernelspec": {
   "display_name": "Python 3",
   "language": "python",
   "name": "python3"
  },
  "language_info": {
   "codemirror_mode": {
    "name": "ipython",
    "version": 3
   },
   "file_extension": ".py",
   "mimetype": "text/x-python",
   "name": "python",
   "nbconvert_exporter": "python",
   "pygments_lexer": "ipython3",
   "version": "3.9.2"
  }
 },
 "nbformat": 4,
 "nbformat_minor": 5
}
