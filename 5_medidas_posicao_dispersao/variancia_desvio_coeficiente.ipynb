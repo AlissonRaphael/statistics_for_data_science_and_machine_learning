{
 "cells": [
  {
   "cell_type": "code",
   "execution_count": 1,
   "id": "9f02e488",
   "metadata": {},
   "outputs": [],
   "source": [
    "import numpy as np"
   ]
  },
  {
   "cell_type": "code",
   "execution_count": 2,
   "id": "812440dd",
   "metadata": {},
   "outputs": [],
   "source": [
    "dados_impar = np.array([150,151,152,152,153,154,155,155,155])"
   ]
  },
  {
   "cell_type": "markdown",
   "id": "3e926354",
   "metadata": {},
   "source": [
    "## Variância"
   ]
  },
  {
   "cell_type": "code",
   "execution_count": 3,
   "id": "f37c5b2d",
   "metadata": {},
   "outputs": [
    {
     "data": {
      "text/plain": [
       "153.0"
      ]
     },
     "execution_count": 3,
     "metadata": {},
     "output_type": "execute_result"
    }
   ],
   "source": [
    "media = dados_impar.sum() / len(dados_impar)\n",
    "media"
   ]
  },
  {
   "cell_type": "code",
   "execution_count": 4,
   "id": "171d1590",
   "metadata": {},
   "outputs": [
    {
     "data": {
      "text/plain": [
       "array([3., 2., 1., 1., 0., 1., 2., 2., 2.])"
      ]
     },
     "execution_count": 4,
     "metadata": {},
     "output_type": "execute_result"
    }
   ],
   "source": [
    "desvio = abs(dados_impar - media)\n",
    "desvio"
   ]
  },
  {
   "cell_type": "code",
   "execution_count": 5,
   "id": "d0fbb707",
   "metadata": {},
   "outputs": [
    {
     "data": {
      "text/plain": [
       "array([9., 4., 1., 1., 0., 1., 4., 4., 4.])"
      ]
     },
     "execution_count": 5,
     "metadata": {},
     "output_type": "execute_result"
    }
   ],
   "source": [
    "desvio = desvio ** 2\n",
    "desvio"
   ]
  },
  {
   "cell_type": "code",
   "execution_count": 6,
   "id": "33f19233",
   "metadata": {},
   "outputs": [
    {
     "data": {
      "text/plain": [
       "28.0"
      ]
     },
     "execution_count": 6,
     "metadata": {},
     "output_type": "execute_result"
    }
   ],
   "source": [
    "desvio_somatorio = desvio.sum()\n",
    "desvio_somatorio"
   ]
  },
  {
   "cell_type": "code",
   "execution_count": 7,
   "id": "a566ba13",
   "metadata": {},
   "outputs": [
    {
     "data": {
      "text/plain": [
       "3.111111111111111"
      ]
     },
     "execution_count": 7,
     "metadata": {},
     "output_type": "execute_result"
    }
   ],
   "source": [
    "variancia = desvio_somatorio / len(dados_impar)\n",
    "variancia"
   ]
  },
  {
   "cell_type": "code",
   "execution_count": 10,
   "id": "63197419",
   "metadata": {},
   "outputs": [],
   "source": [
    "def get_variancia(dados):\n",
    "    media = dados.sum() / len(dados)\n",
    "    desvio = abs(dados - media) ** 2\n",
    "    desvio_somatorio = desvio.sum()\n",
    "    variancia = desvio_somatorio / len(dados)\n",
    "    return variancia"
   ]
  },
  {
   "cell_type": "code",
   "execution_count": 11,
   "id": "73fbceb0",
   "metadata": {},
   "outputs": [
    {
     "data": {
      "text/plain": [
       "3.111111111111111"
      ]
     },
     "execution_count": 11,
     "metadata": {},
     "output_type": "execute_result"
    }
   ],
   "source": [
    "get_variancia(dados_impar)"
   ]
  },
  {
   "cell_type": "markdown",
   "id": "fb1ff58b",
   "metadata": {},
   "source": [
    "#### Bibliotecas"
   ]
  },
  {
   "cell_type": "code",
   "execution_count": 16,
   "id": "734f6015",
   "metadata": {},
   "outputs": [],
   "source": [
    "import numpy as np\n",
    "import statistics\n",
    "from scipy import ndimage"
   ]
  },
  {
   "cell_type": "code",
   "execution_count": 12,
   "id": "a2f96660",
   "metadata": {},
   "outputs": [
    {
     "data": {
      "text/plain": [
       "3.111111111111111"
      ]
     },
     "execution_count": 12,
     "metadata": {},
     "output_type": "execute_result"
    }
   ],
   "source": [
    "np.var(dados_impar)"
   ]
  },
  {
   "cell_type": "code",
   "execution_count": 15,
   "id": "9fa3033d",
   "metadata": {},
   "outputs": [
    {
     "data": {
      "text/plain": [
       "3"
      ]
     },
     "execution_count": 15,
     "metadata": {},
     "output_type": "execute_result"
    }
   ],
   "source": [
    "statistics.variance(dados_impar)"
   ]
  },
  {
   "cell_type": "code",
   "execution_count": 19,
   "id": "8376c01c",
   "metadata": {},
   "outputs": [
    {
     "data": {
      "text/plain": [
       "3.111111111111111"
      ]
     },
     "execution_count": 19,
     "metadata": {},
     "output_type": "execute_result"
    }
   ],
   "source": [
    "ndimage.variance(dados_impar)"
   ]
  }
 ],
 "metadata": {
  "kernelspec": {
   "display_name": "Python 3",
   "language": "python",
   "name": "python3"
  },
  "language_info": {
   "codemirror_mode": {
    "name": "ipython",
    "version": 3
   },
   "file_extension": ".py",
   "mimetype": "text/x-python",
   "name": "python",
   "nbconvert_exporter": "python",
   "pygments_lexer": "ipython3",
   "version": "3.9.2"
  }
 },
 "nbformat": 4,
 "nbformat_minor": 5
}
