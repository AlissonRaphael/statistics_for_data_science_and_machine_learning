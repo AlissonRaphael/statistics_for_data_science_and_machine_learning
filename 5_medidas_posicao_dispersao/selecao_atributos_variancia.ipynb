{
 "cells": [
  {
   "cell_type": "code",
   "execution_count": 23,
   "id": "54aa2927",
   "metadata": {},
   "outputs": [],
   "source": [
    "import numpy as np\n",
    "import pandas as pd"
   ]
  },
  {
   "cell_type": "code",
   "execution_count": 4,
   "id": "10c1e2da",
   "metadata": {},
   "outputs": [
    {
     "data": {
      "text/plain": [
       "array([0.97899416, 0.65317026, 0.69004671, 0.79578111, 0.37304824,\n",
       "       0.82443886, 0.87724198, 0.42179154, 0.64157854, 0.81743607,\n",
       "       0.65944802, 0.4759833 , 0.42647656, 0.84408913, 0.35072366,\n",
       "       0.74738556, 0.66419462, 0.34876986, 0.70569485, 0.92060828,\n",
       "       0.58107212, 0.2005371 , 0.94683944, 0.64502104, 0.48451485,\n",
       "       0.61100656, 0.98292727, 0.5380855 , 0.39756688, 0.1186103 ,\n",
       "       0.06003516, 0.33519447, 0.40869019, 0.55817091, 0.69088364,\n",
       "       0.00305013, 0.46209927, 0.91677742, 0.44164443, 0.40032661,\n",
       "       0.06534227, 0.43722328, 0.37121063, 0.89073734, 0.25174429,\n",
       "       0.65859291, 0.03443597, 0.00826932, 0.42487856, 0.1133924 ])"
      ]
     },
     "execution_count": 4,
     "metadata": {},
     "output_type": "execute_result"
    }
   ],
   "source": [
    "np.random.rand(50)"
   ]
  },
  {
   "cell_type": "code",
   "execution_count": 17,
   "id": "97c861a4",
   "metadata": {},
   "outputs": [
    {
     "data": {
      "text/plain": [
       "1"
      ]
     },
     "execution_count": 17,
     "metadata": {},
     "output_type": "execute_result"
    }
   ],
   "source": [
    "np.random.randint(0,2)"
   ]
  },
  {
   "cell_type": "code",
   "execution_count": 22,
   "id": "f19abc17",
   "metadata": {},
   "outputs": [
    {
     "data": {
      "text/plain": [
       "{'a': array([0.55102227, 0.2130607 , 0.02776961, 0.55697584, 0.59397614,\n",
       "        0.35369656, 0.86545919, 0.59050423, 0.88278708, 0.54689239,\n",
       "        0.89794359, 0.85880909, 0.31060021, 0.52835686, 0.985021  ,\n",
       "        0.86901228, 0.08346521, 0.8078223 , 0.5046957 , 0.77070682]),\n",
       " 'b': array([0.5, 0.5, 0.5, 0.5, 0.5, 0.5, 0.5, 0.5, 0.5, 0.5, 0.5, 0.5, 0.5,\n",
       "        0.5, 0.5, 0.5, 0.5, 0.5, 0.5, 0.5]),\n",
       " 'class': array([0, 1, 0, 1, 1, 0, 0, 0, 0, 1, 0, 1, 0, 0, 0, 0, 0, 0, 0, 0])}"
      ]
     },
     "execution_count": 22,
     "metadata": {},
     "output_type": "execute_result"
    }
   ],
   "source": [
    "dados = {\n",
    "    'a': np.random.rand(20),\n",
    "    'b': np.array([0.5]*20),\n",
    "    'class': np.random.randint(0, 2, size=20)\n",
    "}\n",
    "dados"
   ]
  },
  {
   "cell_type": "code",
   "execution_count": 25,
   "id": "00484088",
   "metadata": {},
   "outputs": [
    {
     "data": {
      "text/html": [
       "<div>\n",
       "<style scoped>\n",
       "    .dataframe tbody tr th:only-of-type {\n",
       "        vertical-align: middle;\n",
       "    }\n",
       "\n",
       "    .dataframe tbody tr th {\n",
       "        vertical-align: top;\n",
       "    }\n",
       "\n",
       "    .dataframe thead th {\n",
       "        text-align: right;\n",
       "    }\n",
       "</style>\n",
       "<table border=\"1\" class=\"dataframe\">\n",
       "  <thead>\n",
       "    <tr style=\"text-align: right;\">\n",
       "      <th></th>\n",
       "      <th>a</th>\n",
       "      <th>b</th>\n",
       "      <th>class</th>\n",
       "    </tr>\n",
       "  </thead>\n",
       "  <tbody>\n",
       "    <tr>\n",
       "      <th>0</th>\n",
       "      <td>0.551022</td>\n",
       "      <td>0.5</td>\n",
       "      <td>0</td>\n",
       "    </tr>\n",
       "    <tr>\n",
       "      <th>1</th>\n",
       "      <td>0.213061</td>\n",
       "      <td>0.5</td>\n",
       "      <td>1</td>\n",
       "    </tr>\n",
       "    <tr>\n",
       "      <th>2</th>\n",
       "      <td>0.027770</td>\n",
       "      <td>0.5</td>\n",
       "      <td>0</td>\n",
       "    </tr>\n",
       "    <tr>\n",
       "      <th>3</th>\n",
       "      <td>0.556976</td>\n",
       "      <td>0.5</td>\n",
       "      <td>1</td>\n",
       "    </tr>\n",
       "    <tr>\n",
       "      <th>4</th>\n",
       "      <td>0.593976</td>\n",
       "      <td>0.5</td>\n",
       "      <td>1</td>\n",
       "    </tr>\n",
       "  </tbody>\n",
       "</table>\n",
       "</div>"
      ],
      "text/plain": [
       "          a    b  class\n",
       "0  0.551022  0.5      0\n",
       "1  0.213061  0.5      1\n",
       "2  0.027770  0.5      0\n",
       "3  0.556976  0.5      1\n",
       "4  0.593976  0.5      1"
      ]
     },
     "execution_count": 25,
     "metadata": {},
     "output_type": "execute_result"
    }
   ],
   "source": [
    "dataset = pd.DataFrame(dados)\n",
    "dataset.head()"
   ]
  },
  {
   "cell_type": "code",
   "execution_count": 26,
   "id": "920f2bb0",
   "metadata": {},
   "outputs": [
    {
     "data": {
      "text/html": [
       "<div>\n",
       "<style scoped>\n",
       "    .dataframe tbody tr th:only-of-type {\n",
       "        vertical-align: middle;\n",
       "    }\n",
       "\n",
       "    .dataframe tbody tr th {\n",
       "        vertical-align: top;\n",
       "    }\n",
       "\n",
       "    .dataframe thead th {\n",
       "        text-align: right;\n",
       "    }\n",
       "</style>\n",
       "<table border=\"1\" class=\"dataframe\">\n",
       "  <thead>\n",
       "    <tr style=\"text-align: right;\">\n",
       "      <th></th>\n",
       "      <th>a</th>\n",
       "      <th>b</th>\n",
       "      <th>class</th>\n",
       "    </tr>\n",
       "  </thead>\n",
       "  <tbody>\n",
       "    <tr>\n",
       "      <th>count</th>\n",
       "      <td>20.000000</td>\n",
       "      <td>20.0</td>\n",
       "      <td>20.000000</td>\n",
       "    </tr>\n",
       "    <tr>\n",
       "      <th>mean</th>\n",
       "      <td>0.589929</td>\n",
       "      <td>0.5</td>\n",
       "      <td>0.250000</td>\n",
       "    </tr>\n",
       "    <tr>\n",
       "      <th>std</th>\n",
       "      <td>0.281622</td>\n",
       "      <td>0.0</td>\n",
       "      <td>0.444262</td>\n",
       "    </tr>\n",
       "    <tr>\n",
       "      <th>min</th>\n",
       "      <td>0.027770</td>\n",
       "      <td>0.5</td>\n",
       "      <td>0.000000</td>\n",
       "    </tr>\n",
       "    <tr>\n",
       "      <th>25%</th>\n",
       "      <td>0.466946</td>\n",
       "      <td>0.5</td>\n",
       "      <td>0.000000</td>\n",
       "    </tr>\n",
       "    <tr>\n",
       "      <th>50%</th>\n",
       "      <td>0.573740</td>\n",
       "      <td>0.5</td>\n",
       "      <td>0.000000</td>\n",
       "    </tr>\n",
       "    <tr>\n",
       "      <th>75%</th>\n",
       "      <td>0.860472</td>\n",
       "      <td>0.5</td>\n",
       "      <td>0.250000</td>\n",
       "    </tr>\n",
       "    <tr>\n",
       "      <th>max</th>\n",
       "      <td>0.985021</td>\n",
       "      <td>0.5</td>\n",
       "      <td>1.000000</td>\n",
       "    </tr>\n",
       "  </tbody>\n",
       "</table>\n",
       "</div>"
      ],
      "text/plain": [
       "               a     b      class\n",
       "count  20.000000  20.0  20.000000\n",
       "mean    0.589929   0.5   0.250000\n",
       "std     0.281622   0.0   0.444262\n",
       "min     0.027770   0.5   0.000000\n",
       "25%     0.466946   0.5   0.000000\n",
       "50%     0.573740   0.5   0.000000\n",
       "75%     0.860472   0.5   0.250000\n",
       "max     0.985021   0.5   1.000000"
      ]
     },
     "execution_count": 26,
     "metadata": {},
     "output_type": "execute_result"
    }
   ],
   "source": [
    "dataset.describe()"
   ]
  },
  {
   "cell_type": "code",
   "execution_count": 27,
   "id": "9bfbd747",
   "metadata": {},
   "outputs": [
    {
     "data": {
      "text/plain": [
       "(0.07534543280345288, 0.0)"
      ]
     },
     "execution_count": 27,
     "metadata": {},
     "output_type": "execute_result"
    }
   ],
   "source": [
    "np.var(dataset['a']), np.var(dataset['b'])"
   ]
  },
  {
   "cell_type": "code",
   "execution_count": 29,
   "id": "f8da27b6",
   "metadata": {},
   "outputs": [
    {
     "data": {
      "text/plain": [
       "(0.27449122536695575, 0.0)"
      ]
     },
     "execution_count": 29,
     "metadata": {},
     "output_type": "execute_result"
    }
   ],
   "source": [
    "# Desvio Padrão\n",
    "0.07534543280345288**(1/2), 0.0**(1/2)"
   ]
  },
  {
   "cell_type": "code",
   "execution_count": 31,
   "id": "409de269",
   "metadata": {},
   "outputs": [
    {
     "data": {
      "text/plain": [
       "array([[0.55102227, 0.5       ],\n",
       "       [0.2130607 , 0.5       ],\n",
       "       [0.02776961, 0.5       ],\n",
       "       [0.55697584, 0.5       ],\n",
       "       [0.59397614, 0.5       ],\n",
       "       [0.35369656, 0.5       ],\n",
       "       [0.86545919, 0.5       ],\n",
       "       [0.59050423, 0.5       ],\n",
       "       [0.88278708, 0.5       ],\n",
       "       [0.54689239, 0.5       ],\n",
       "       [0.89794359, 0.5       ],\n",
       "       [0.85880909, 0.5       ],\n",
       "       [0.31060021, 0.5       ],\n",
       "       [0.52835686, 0.5       ],\n",
       "       [0.985021  , 0.5       ],\n",
       "       [0.86901228, 0.5       ],\n",
       "       [0.08346521, 0.5       ],\n",
       "       [0.8078223 , 0.5       ],\n",
       "       [0.5046957 , 0.5       ],\n",
       "       [0.77070682, 0.5       ]])"
      ]
     },
     "execution_count": 31,
     "metadata": {},
     "output_type": "execute_result"
    }
   ],
   "source": [
    "X = dataset.iloc[:, 0:2].values\n",
    "X"
   ]
  },
  {
   "cell_type": "code",
   "execution_count": 34,
   "id": "3bf00e7a",
   "metadata": {},
   "outputs": [],
   "source": [
    "from sklearn.feature_selection import VarianceThreshold"
   ]
  },
  {
   "cell_type": "code",
   "execution_count": 39,
   "id": "88df8c1b",
   "metadata": {},
   "outputs": [
    {
     "data": {
      "text/plain": [
       "array([[0.55102227],\n",
       "       [0.2130607 ],\n",
       "       [0.02776961],\n",
       "       [0.55697584],\n",
       "       [0.59397614],\n",
       "       [0.35369656],\n",
       "       [0.86545919],\n",
       "       [0.59050423],\n",
       "       [0.88278708],\n",
       "       [0.54689239],\n",
       "       [0.89794359],\n",
       "       [0.85880909],\n",
       "       [0.31060021],\n",
       "       [0.52835686],\n",
       "       [0.985021  ],\n",
       "       [0.86901228],\n",
       "       [0.08346521],\n",
       "       [0.8078223 ],\n",
       "       [0.5046957 ],\n",
       "       [0.77070682]])"
      ]
     },
     "execution_count": 39,
     "metadata": {},
     "output_type": "execute_result"
    }
   ],
   "source": [
    "selecao = VarianceThreshold(threshold=0.07)\n",
    "X_novo = selecao.fit_transform(X)\n",
    "X_novo"
   ]
  },
  {
   "cell_type": "code",
   "execution_count": 42,
   "id": "6faf50aa",
   "metadata": {},
   "outputs": [
    {
     "data": {
      "text/plain": [
       "(20, 1)"
      ]
     },
     "execution_count": 42,
     "metadata": {},
     "output_type": "execute_result"
    }
   ],
   "source": [
    "X_novo.shape"
   ]
  },
  {
   "cell_type": "code",
   "execution_count": 43,
   "id": "618b74ad",
   "metadata": {},
   "outputs": [
    {
     "data": {
      "text/plain": [
       "array([0.07534543, 0.        ])"
      ]
     },
     "execution_count": 43,
     "metadata": {},
     "output_type": "execute_result"
    }
   ],
   "source": [
    "selecao.variances_"
   ]
  },
  {
   "cell_type": "code",
   "execution_count": 44,
   "id": "41a2ce5a",
   "metadata": {},
   "outputs": [
    {
     "data": {
      "text/plain": [
       "(array([0], dtype=int64),)"
      ]
     },
     "execution_count": 44,
     "metadata": {},
     "output_type": "execute_result"
    }
   ],
   "source": [
    "indices = np.where(selecao.variances_ > 0.07)\n",
    "indices"
   ]
  }
 ],
 "metadata": {
  "kernelspec": {
   "display_name": "Python 3",
   "language": "python",
   "name": "python3"
  },
  "language_info": {
   "codemirror_mode": {
    "name": "ipython",
    "version": 3
   },
   "file_extension": ".py",
   "mimetype": "text/x-python",
   "name": "python",
   "nbconvert_exporter": "python",
   "pygments_lexer": "ipython3",
   "version": "3.9.2"
  }
 },
 "nbformat": 4,
 "nbformat_minor": 5
}
