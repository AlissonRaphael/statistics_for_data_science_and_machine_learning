{
 "cells": [
  {
   "cell_type": "code",
   "execution_count": 17,
   "id": "0460ba75",
   "metadata": {},
   "outputs": [],
   "source": [
    "import pandas as pd\n",
    "import numpy as np"
   ]
  },
  {
   "cell_type": "code",
   "execution_count": 6,
   "id": "3f92aaab",
   "metadata": {},
   "outputs": [
    {
     "data": {
      "text/html": [
       "<div>\n",
       "<style scoped>\n",
       "    .dataframe tbody tr th:only-of-type {\n",
       "        vertical-align: middle;\n",
       "    }\n",
       "\n",
       "    .dataframe tbody tr th {\n",
       "        vertical-align: top;\n",
       "    }\n",
       "\n",
       "    .dataframe thead th {\n",
       "        text-align: right;\n",
       "    }\n",
       "</style>\n",
       "<table border=\"1\" class=\"dataframe\">\n",
       "  <thead>\n",
       "    <tr style=\"text-align: right;\">\n",
       "      <th></th>\n",
       "      <th>i#clientid</th>\n",
       "      <th>income</th>\n",
       "      <th>age</th>\n",
       "      <th>loan</th>\n",
       "      <th>c#default</th>\n",
       "    </tr>\n",
       "  </thead>\n",
       "  <tbody>\n",
       "    <tr>\n",
       "      <th>0</th>\n",
       "      <td>1</td>\n",
       "      <td>66155.925095</td>\n",
       "      <td>59.017015</td>\n",
       "      <td>8106.532131</td>\n",
       "      <td>0</td>\n",
       "    </tr>\n",
       "    <tr>\n",
       "      <th>1</th>\n",
       "      <td>2</td>\n",
       "      <td>34415.153966</td>\n",
       "      <td>48.117153</td>\n",
       "      <td>6564.745018</td>\n",
       "      <td>0</td>\n",
       "    </tr>\n",
       "    <tr>\n",
       "      <th>2</th>\n",
       "      <td>3</td>\n",
       "      <td>57317.170063</td>\n",
       "      <td>63.108049</td>\n",
       "      <td>8020.953296</td>\n",
       "      <td>0</td>\n",
       "    </tr>\n",
       "    <tr>\n",
       "      <th>3</th>\n",
       "      <td>4</td>\n",
       "      <td>42709.534201</td>\n",
       "      <td>45.751972</td>\n",
       "      <td>6103.642260</td>\n",
       "      <td>0</td>\n",
       "    </tr>\n",
       "    <tr>\n",
       "      <th>4</th>\n",
       "      <td>5</td>\n",
       "      <td>66952.688845</td>\n",
       "      <td>18.584336</td>\n",
       "      <td>8770.099235</td>\n",
       "      <td>1</td>\n",
       "    </tr>\n",
       "  </tbody>\n",
       "</table>\n",
       "</div>"
      ],
      "text/plain": [
       "   i#clientid        income        age         loan  c#default\n",
       "0           1  66155.925095  59.017015  8106.532131          0\n",
       "1           2  34415.153966  48.117153  6564.745018          0\n",
       "2           3  57317.170063  63.108049  8020.953296          0\n",
       "3           4  42709.534201  45.751972  6103.642260          0\n",
       "4           5  66952.688845  18.584336  8770.099235          1"
      ]
     },
     "execution_count": 6,
     "metadata": {},
     "output_type": "execute_result"
    }
   ],
   "source": [
    "dataset = pd.read_csv('../0_datasets/credit_data.csv')\n",
    "dataset.head()"
   ]
  },
  {
   "cell_type": "code",
   "execution_count": 7,
   "id": "b6763354",
   "metadata": {},
   "outputs": [
    {
     "data": {
      "text/plain": [
       "(2000, 5)"
      ]
     },
     "execution_count": 7,
     "metadata": {},
     "output_type": "execute_result"
    }
   ],
   "source": [
    "dataset.shape"
   ]
  },
  {
   "cell_type": "code",
   "execution_count": 8,
   "id": "d5cf559a",
   "metadata": {},
   "outputs": [
    {
     "data": {
      "text/plain": [
       "(1997, 5)"
      ]
     },
     "execution_count": 8,
     "metadata": {},
     "output_type": "execute_result"
    }
   ],
   "source": [
    "dataset.dropna(inplace=True)\n",
    "dataset.shape"
   ]
  },
  {
   "cell_type": "code",
   "execution_count": 9,
   "id": "ace29ad1",
   "metadata": {},
   "outputs": [
    {
     "data": {
      "text/plain": [
       "array([[6.61559251e+04, 5.90170151e+01, 8.10653213e+03],\n",
       "       [3.44151540e+04, 4.81171531e+01, 6.56474502e+03],\n",
       "       [5.73171701e+04, 6.31080495e+01, 8.02095330e+03],\n",
       "       ...,\n",
       "       [4.43114493e+04, 2.80171669e+01, 5.52278669e+03],\n",
       "       [4.37560566e+04, 6.39717958e+01, 1.62272260e+03],\n",
       "       [6.94365796e+04, 5.61526170e+01, 7.37883360e+03]])"
      ]
     },
     "execution_count": 9,
     "metadata": {},
     "output_type": "execute_result"
    }
   ],
   "source": [
    "X = dataset.iloc[:, 1:4].values\n",
    "X"
   ]
  },
  {
   "cell_type": "code",
   "execution_count": 10,
   "id": "ab37bce6",
   "metadata": {},
   "outputs": [
    {
     "data": {
      "text/plain": [
       "array([0, 0, 0, ..., 1, 0, 0], dtype=int64)"
      ]
     },
     "execution_count": 10,
     "metadata": {},
     "output_type": "execute_result"
    }
   ],
   "source": [
    "y = dataset.iloc[:, 4].values\n",
    "y"
   ]
  },
  {
   "cell_type": "code",
   "execution_count": 11,
   "id": "22df0672",
   "metadata": {},
   "outputs": [],
   "source": [
    "from sklearn.model_selection import train_test_split\n",
    "from sklearn.naive_bayes import GaussianNB\n",
    "from sklearn.linear_model import LogisticRegression\n",
    "from sklearn.ensemble import RandomForestClassifier\n",
    "from sklearn.metrics import accuracy_score"
   ]
  },
  {
   "cell_type": "code",
   "execution_count": 12,
   "id": "5900d999",
   "metadata": {},
   "outputs": [],
   "source": [
    "resultados_naive_bayes = []\n",
    "resultados_logistica = []\n",
    "resultados_forest = []\n",
    "\n",
    "for i in range(30):\n",
    "    X_treinamento, X_teste, y_treinamento, y_teste = train_test_split(X , y, test_size=0.2, stratify=y, random_state=i)\n",
    "    \n",
    "    naive_bayes = GaussianNB()\n",
    "    naive_bayes.fit(X_treinamento, y_treinamento)\n",
    "    naive_bayes_predictions = naive_bayes.predict(X_teste)\n",
    "    resultados_naive_bayes.append(accuracy_score(y_teste, naive_bayes_predictions))\n",
    "    \n",
    "    logistica = LogisticRegression()\n",
    "    logistica.fit(X_treinamento, y_treinamento)\n",
    "    logistica_predictions = logistica.predict(X_teste)\n",
    "    resultados_logistica.append(accuracy_score(y_teste, logistica_predictions))\n",
    "    \n",
    "    forest = RandomForestClassifier()\n",
    "    forest.fit(X_treinamento, y_treinamento)\n",
    "    forest_predictions = forest.predict(X_teste)\n",
    "    resultados_forest.append(accuracy_score(y_teste, forest_predictions))    "
   ]
  },
  {
   "cell_type": "code",
   "execution_count": 14,
   "id": "c2ac9fad",
   "metadata": {
    "collapsed": true
   },
   "outputs": [
    {
     "data": {
      "text/plain": [
       "[0.925,\n",
       " 0.925,\n",
       " 0.9325,\n",
       " 0.925,\n",
       " 0.92,\n",
       " 0.905,\n",
       " 0.9175,\n",
       " 0.9175,\n",
       " 0.9125,\n",
       " 0.9325,\n",
       " 0.9225,\n",
       " 0.9125,\n",
       " 0.935,\n",
       " 0.9175,\n",
       " 0.925,\n",
       " 0.9175,\n",
       " 0.9275,\n",
       " 0.92,\n",
       " 0.9325,\n",
       " 0.92,\n",
       " 0.93,\n",
       " 0.905,\n",
       " 0.9175,\n",
       " 0.9325,\n",
       " 0.9425,\n",
       " 0.9375,\n",
       " 0.94,\n",
       " 0.92,\n",
       " 0.935,\n",
       " 0.925]"
      ]
     },
     "execution_count": 14,
     "metadata": {},
     "output_type": "execute_result"
    }
   ],
   "source": [
    "resultados_naive_bayes"
   ]
  },
  {
   "cell_type": "code",
   "execution_count": 15,
   "id": "1c829d96",
   "metadata": {
    "collapsed": true
   },
   "outputs": [
    {
     "data": {
      "text/plain": [
       "[0.9325,\n",
       " 0.91,\n",
       " 0.9125,\n",
       " 0.9225,\n",
       " 0.9075,\n",
       " 0.89,\n",
       " 0.91,\n",
       " 0.9075,\n",
       " 0.8775,\n",
       " 0.915,\n",
       " 0.9175,\n",
       " 0.9,\n",
       " 0.925,\n",
       " 0.9175,\n",
       " 0.9025,\n",
       " 0.9125,\n",
       " 0.9525,\n",
       " 0.91,\n",
       " 0.9225,\n",
       " 0.9075,\n",
       " 0.925,\n",
       " 0.905,\n",
       " 0.9075,\n",
       " 0.945,\n",
       " 0.9225,\n",
       " 0.9275,\n",
       " 0.9225,\n",
       " 0.9175,\n",
       " 0.91,\n",
       " 0.9]"
      ]
     },
     "execution_count": 15,
     "metadata": {},
     "output_type": "execute_result"
    }
   ],
   "source": [
    "resultados_logistica"
   ]
  },
  {
   "cell_type": "code",
   "execution_count": 16,
   "id": "f7136362",
   "metadata": {
    "collapsed": true
   },
   "outputs": [
    {
     "data": {
      "text/plain": [
       "[0.9725,\n",
       " 0.9875,\n",
       " 0.9825,\n",
       " 0.9925,\n",
       " 0.9825,\n",
       " 0.9825,\n",
       " 0.985,\n",
       " 0.99,\n",
       " 0.9825,\n",
       " 0.985,\n",
       " 0.98,\n",
       " 0.9825,\n",
       " 0.9725,\n",
       " 0.9875,\n",
       " 0.98,\n",
       " 0.98,\n",
       " 0.9875,\n",
       " 0.98,\n",
       " 0.99,\n",
       " 0.985,\n",
       " 0.98,\n",
       " 0.98,\n",
       " 0.99,\n",
       " 0.9825,\n",
       " 0.985,\n",
       " 0.9925,\n",
       " 0.995,\n",
       " 0.98,\n",
       " 0.99,\n",
       " 0.985]"
      ]
     },
     "execution_count": 16,
     "metadata": {},
     "output_type": "execute_result"
    }
   ],
   "source": [
    "resultados_forest"
   ]
  },
  {
   "cell_type": "code",
   "execution_count": 18,
   "id": "ebf4b5eb",
   "metadata": {},
   "outputs": [],
   "source": [
    "resultados_naive_bayes = np.array(resultados_naive_bayes)\n",
    "resultados_logistica = np.array(resultados_naive_bayes)\n",
    "resultados_forest = np.array(resultados_forest)"
   ]
  },
  {
   "cell_type": "markdown",
   "id": "9377fa40",
   "metadata": {},
   "source": [
    "### Avaliando os algoritmos"
   ]
  },
  {
   "cell_type": "code",
   "execution_count": 23,
   "id": "e2ee1f7f",
   "metadata": {},
   "outputs": [],
   "source": [
    "import statistics\n",
    "from scipy import stats"
   ]
  },
  {
   "cell_type": "markdown",
   "id": "cb76b9c4",
   "metadata": {},
   "source": [
    "#### Média"
   ]
  },
  {
   "cell_type": "code",
   "execution_count": 24,
   "id": "bf500106",
   "metadata": {},
   "outputs": [
    {
     "data": {
      "text/plain": [
       "0.92425"
      ]
     },
     "execution_count": 24,
     "metadata": {},
     "output_type": "execute_result"
    }
   ],
   "source": [
    "# Média GaussianNB\n",
    "resultados_naive_bayes.mean()"
   ]
  },
  {
   "cell_type": "code",
   "execution_count": 25,
   "id": "e9f60453",
   "metadata": {},
   "outputs": [
    {
     "data": {
      "text/plain": [
       "0.92425"
      ]
     },
     "execution_count": 25,
     "metadata": {},
     "output_type": "execute_result"
    }
   ],
   "source": [
    "# Média LogisticRegression\n",
    "resultados_logistica.mean()"
   ]
  },
  {
   "cell_type": "code",
   "execution_count": 26,
   "id": "d1184ddd",
   "metadata": {},
   "outputs": [
    {
     "data": {
      "text/plain": [
       "0.98425"
      ]
     },
     "execution_count": 26,
     "metadata": {},
     "output_type": "execute_result"
    }
   ],
   "source": [
    "# Média RandomForestClassifier\n",
    "resultados_forest.mean()"
   ]
  },
  {
   "cell_type": "markdown",
   "id": "b0e13284",
   "metadata": {},
   "source": [
    "#### Moda"
   ]
  },
  {
   "cell_type": "code",
   "execution_count": 27,
   "id": "e5b52e2e",
   "metadata": {},
   "outputs": [
    {
     "data": {
      "text/plain": [
       "ModeResult(mode=array([0.9175]), count=array([5]))"
      ]
     },
     "execution_count": 27,
     "metadata": {},
     "output_type": "execute_result"
    }
   ],
   "source": [
    "# Moda GaussianNB\n",
    "stats.mode(resultados_naive_bayes)"
   ]
  },
  {
   "cell_type": "code",
   "execution_count": 28,
   "id": "6fd9b676",
   "metadata": {},
   "outputs": [
    {
     "data": {
      "text/plain": [
       "ModeResult(mode=array([0.9175]), count=array([5]))"
      ]
     },
     "execution_count": 28,
     "metadata": {},
     "output_type": "execute_result"
    }
   ],
   "source": [
    "# Moda LogisticRegression\n",
    "stats.mode(resultados_logistica)"
   ]
  },
  {
   "cell_type": "code",
   "execution_count": 30,
   "id": "dc6d29ac",
   "metadata": {},
   "outputs": [
    {
     "data": {
      "text/plain": [
       "ModeResult(mode=array([0.98]), count=array([7]))"
      ]
     },
     "execution_count": 30,
     "metadata": {},
     "output_type": "execute_result"
    }
   ],
   "source": [
    "# Moda RandomForestClassifier\n",
    "stats.mode(resultados_forest)"
   ]
  },
  {
   "cell_type": "markdown",
   "id": "091ff4bc",
   "metadata": {},
   "source": [
    "#### Mediana"
   ]
  },
  {
   "cell_type": "code",
   "execution_count": 32,
   "id": "07641fc4",
   "metadata": {},
   "outputs": [
    {
     "data": {
      "text/plain": [
       "0.925"
      ]
     },
     "execution_count": 32,
     "metadata": {},
     "output_type": "execute_result"
    }
   ],
   "source": [
    "# Mediana GaussianNB\n",
    "np.median(resultados_naive_bayes)"
   ]
  },
  {
   "cell_type": "code",
   "execution_count": 34,
   "id": "669125ea",
   "metadata": {},
   "outputs": [
    {
     "data": {
      "text/plain": [
       "0.925"
      ]
     },
     "execution_count": 34,
     "metadata": {},
     "output_type": "execute_result"
    }
   ],
   "source": [
    "# Mediana LogisticRegression\n",
    "np.median(resultados_logistica)"
   ]
  },
  {
   "cell_type": "code",
   "execution_count": 33,
   "id": "66a72e8b",
   "metadata": {},
   "outputs": [
    {
     "data": {
      "text/plain": [
       "0.98375"
      ]
     },
     "execution_count": 33,
     "metadata": {},
     "output_type": "execute_result"
    }
   ],
   "source": [
    "# Mediana RandomForestClassifier\n",
    "np.median(resultados_forest)"
   ]
  },
  {
   "cell_type": "markdown",
   "id": "ada4910b",
   "metadata": {},
   "source": [
    "#### Variância"
   ]
  },
  {
   "cell_type": "code",
   "execution_count": 40,
   "id": "aea9a94f",
   "metadata": {},
   "outputs": [
    {
     "data": {
      "text/plain": [
       "8.756250000000001e-05"
      ]
     },
     "execution_count": 40,
     "metadata": {},
     "output_type": "execute_result"
    }
   ],
   "source": [
    "# Variância GaussianNB\n",
    "np.var(resultados_naive_bayes)"
   ]
  },
  {
   "cell_type": "code",
   "execution_count": 41,
   "id": "da211dfd",
   "metadata": {},
   "outputs": [
    {
     "data": {
      "text/plain": [
       "8.756250000000001e-05"
      ]
     },
     "execution_count": 41,
     "metadata": {},
     "output_type": "execute_result"
    }
   ],
   "source": [
    "# Variância LogisticRegression\n",
    "np.var(resultados_logistica)"
   ]
  },
  {
   "cell_type": "code",
   "execution_count": 42,
   "id": "09519556",
   "metadata": {},
   "outputs": [
    {
     "data": {
      "text/plain": [
       "2.797916666666669e-05"
      ]
     },
     "execution_count": 42,
     "metadata": {},
     "output_type": "execute_result"
    }
   ],
   "source": [
    "# Variância RandomForestClassifier\n",
    "np.var(resultados_forest)"
   ]
  },
  {
   "cell_type": "code",
   "execution_count": 39,
   "id": "a751ab8f",
   "metadata": {},
   "outputs": [
    {
     "data": {
      "text/plain": [
       "(2.797916666666669e-05, 8.756250000000001e-05)"
      ]
     },
     "execution_count": 39,
     "metadata": {},
     "output_type": "execute_result"
    }
   ],
   "source": [
    "variancias = []\n",
    "for v in [np.var(resultados_naive_bayes), np.var(resultados_logistica), np.var(resultados_forest)]:\n",
    "       variancias.append(v)\n",
    "        \n",
    "np.min(variancias), np.max(variancias)"
   ]
  },
  {
   "cell_type": "markdown",
   "id": "dd3998c9",
   "metadata": {},
   "source": [
    "#### Desvio Padrão"
   ]
  },
  {
   "cell_type": "code",
   "execution_count": 45,
   "id": "d008b118",
   "metadata": {},
   "outputs": [
    {
     "data": {
      "text/plain": [
       "0.00935748363610645"
      ]
     },
     "execution_count": 45,
     "metadata": {},
     "output_type": "execute_result"
    }
   ],
   "source": [
    "# Desvio Padrão GaussianNB\n",
    "np.std(resultados_naive_bayes)"
   ]
  },
  {
   "cell_type": "code",
   "execution_count": 46,
   "id": "80087ca5",
   "metadata": {},
   "outputs": [
    {
     "data": {
      "text/plain": [
       "0.00935748363610645"
      ]
     },
     "execution_count": 46,
     "metadata": {},
     "output_type": "execute_result"
    }
   ],
   "source": [
    "# Desvio Padrão LogisticRegression\n",
    "np.std(resultados_logistica)"
   ]
  },
  {
   "cell_type": "code",
   "execution_count": 47,
   "id": "72e13717",
   "metadata": {},
   "outputs": [
    {
     "data": {
      "text/plain": [
       "0.0052895336908527855"
      ]
     },
     "execution_count": 47,
     "metadata": {},
     "output_type": "execute_result"
    }
   ],
   "source": [
    "# Desvio Padrão RandomForestClassifier\n",
    "np.std(resultados_forest)"
   ]
  },
  {
   "cell_type": "markdown",
   "id": "9f03e6d6",
   "metadata": {},
   "source": [
    "#### Coeficiente de variação"
   ]
  },
  {
   "cell_type": "code",
   "execution_count": 48,
   "id": "f8011b29",
   "metadata": {},
   "outputs": [
    {
     "data": {
      "text/plain": [
       "1.0124407504578252"
      ]
     },
     "execution_count": 48,
     "metadata": {},
     "output_type": "execute_result"
    }
   ],
   "source": [
    "# Coeficiente de variação GaussianNB\n",
    "stats.variation(resultados_naive_bayes) * 100"
   ]
  },
  {
   "cell_type": "code",
   "execution_count": 49,
   "id": "9ded3ea8",
   "metadata": {},
   "outputs": [
    {
     "data": {
      "text/plain": [
       "1.0124407504578252"
      ]
     },
     "execution_count": 49,
     "metadata": {},
     "output_type": "execute_result"
    }
   ],
   "source": [
    "# Coeficiente de variação LogisticRegression\n",
    "stats.variation(resultados_logistica) * 100"
   ]
  },
  {
   "cell_type": "code",
   "execution_count": 50,
   "id": "55fdac28",
   "metadata": {},
   "outputs": [
    {
     "data": {
      "text/plain": [
       "0.5374176978260387"
      ]
     },
     "execution_count": 50,
     "metadata": {},
     "output_type": "execute_result"
    }
   ],
   "source": [
    "# Coeficiente de variação RandomForestClassifier\n",
    "stats.variation(resultados_forest) * 100"
   ]
  }
 ],
 "metadata": {
  "kernelspec": {
   "display_name": "Python 3",
   "language": "python",
   "name": "python3"
  },
  "language_info": {
   "codemirror_mode": {
    "name": "ipython",
    "version": 3
   },
   "file_extension": ".py",
   "mimetype": "text/x-python",
   "name": "python",
   "nbconvert_exporter": "python",
   "pygments_lexer": "ipython3",
   "version": "3.9.2"
  }
 },
 "nbformat": 4,
 "nbformat_minor": 5
}
