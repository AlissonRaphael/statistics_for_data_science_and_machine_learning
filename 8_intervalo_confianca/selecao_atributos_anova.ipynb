{
 "cells": [
  {
   "cell_type": "markdown",
   "id": "8b80ccc8",
   "metadata": {},
   "source": [
    "## Seleção de ANOVA"
   ]
  },
  {
   "cell_type": "code",
   "execution_count": 3,
   "id": "166fcc9f",
   "metadata": {},
   "outputs": [],
   "source": [
    "import pandas as pd\n",
    "import numpy as np\n",
    "from sklearn.feature_selection import SelectFdr, chi2\n",
    "from sklearn.naive_bayes import GaussianNB\n",
    "from sklearn.metrics import accuracy_score"
   ]
  },
  {
   "cell_type": "code",
   "execution_count": 4,
   "id": "d79cfb75",
   "metadata": {},
   "outputs": [
    {
     "data": {
      "text/html": [
       "<div>\n",
       "<style scoped>\n",
       "    .dataframe tbody tr th:only-of-type {\n",
       "        vertical-align: middle;\n",
       "    }\n",
       "\n",
       "    .dataframe tbody tr th {\n",
       "        vertical-align: top;\n",
       "    }\n",
       "\n",
       "    .dataframe thead th {\n",
       "        text-align: right;\n",
       "    }\n",
       "</style>\n",
       "<table border=\"1\" class=\"dataframe\">\n",
       "  <thead>\n",
       "    <tr style=\"text-align: right;\">\n",
       "      <th></th>\n",
       "      <th>0</th>\n",
       "      <th>1</th>\n",
       "      <th>2</th>\n",
       "      <th>3</th>\n",
       "      <th>4</th>\n",
       "      <th>5</th>\n",
       "      <th>6</th>\n",
       "      <th>7</th>\n",
       "      <th>8</th>\n",
       "      <th>9</th>\n",
       "      <th>...</th>\n",
       "      <th>1549</th>\n",
       "      <th>1550</th>\n",
       "      <th>1551</th>\n",
       "      <th>1552</th>\n",
       "      <th>1553</th>\n",
       "      <th>1554</th>\n",
       "      <th>1555</th>\n",
       "      <th>1556</th>\n",
       "      <th>1557</th>\n",
       "      <th>1558</th>\n",
       "    </tr>\n",
       "  </thead>\n",
       "  <tbody>\n",
       "    <tr>\n",
       "      <th>0</th>\n",
       "      <td>125</td>\n",
       "      <td>125</td>\n",
       "      <td>1.0000</td>\n",
       "      <td>1</td>\n",
       "      <td>0</td>\n",
       "      <td>0</td>\n",
       "      <td>0</td>\n",
       "      <td>0</td>\n",
       "      <td>0</td>\n",
       "      <td>0</td>\n",
       "      <td>...</td>\n",
       "      <td>0</td>\n",
       "      <td>0</td>\n",
       "      <td>0</td>\n",
       "      <td>0</td>\n",
       "      <td>0</td>\n",
       "      <td>0</td>\n",
       "      <td>0</td>\n",
       "      <td>0</td>\n",
       "      <td>0</td>\n",
       "      <td>ad.</td>\n",
       "    </tr>\n",
       "    <tr>\n",
       "      <th>1</th>\n",
       "      <td>57</td>\n",
       "      <td>468</td>\n",
       "      <td>8.2105</td>\n",
       "      <td>1</td>\n",
       "      <td>0</td>\n",
       "      <td>0</td>\n",
       "      <td>0</td>\n",
       "      <td>0</td>\n",
       "      <td>0</td>\n",
       "      <td>0</td>\n",
       "      <td>...</td>\n",
       "      <td>0</td>\n",
       "      <td>0</td>\n",
       "      <td>0</td>\n",
       "      <td>0</td>\n",
       "      <td>0</td>\n",
       "      <td>0</td>\n",
       "      <td>0</td>\n",
       "      <td>0</td>\n",
       "      <td>0</td>\n",
       "      <td>ad.</td>\n",
       "    </tr>\n",
       "    <tr>\n",
       "      <th>2</th>\n",
       "      <td>33</td>\n",
       "      <td>230</td>\n",
       "      <td>6.9696</td>\n",
       "      <td>1</td>\n",
       "      <td>0</td>\n",
       "      <td>0</td>\n",
       "      <td>0</td>\n",
       "      <td>0</td>\n",
       "      <td>0</td>\n",
       "      <td>0</td>\n",
       "      <td>...</td>\n",
       "      <td>0</td>\n",
       "      <td>0</td>\n",
       "      <td>0</td>\n",
       "      <td>0</td>\n",
       "      <td>0</td>\n",
       "      <td>0</td>\n",
       "      <td>0</td>\n",
       "      <td>0</td>\n",
       "      <td>0</td>\n",
       "      <td>ad.</td>\n",
       "    </tr>\n",
       "    <tr>\n",
       "      <th>3</th>\n",
       "      <td>60</td>\n",
       "      <td>468</td>\n",
       "      <td>7.8000</td>\n",
       "      <td>1</td>\n",
       "      <td>0</td>\n",
       "      <td>0</td>\n",
       "      <td>0</td>\n",
       "      <td>0</td>\n",
       "      <td>0</td>\n",
       "      <td>0</td>\n",
       "      <td>...</td>\n",
       "      <td>0</td>\n",
       "      <td>0</td>\n",
       "      <td>0</td>\n",
       "      <td>0</td>\n",
       "      <td>0</td>\n",
       "      <td>0</td>\n",
       "      <td>0</td>\n",
       "      <td>0</td>\n",
       "      <td>0</td>\n",
       "      <td>ad.</td>\n",
       "    </tr>\n",
       "    <tr>\n",
       "      <th>4</th>\n",
       "      <td>60</td>\n",
       "      <td>468</td>\n",
       "      <td>7.8000</td>\n",
       "      <td>1</td>\n",
       "      <td>0</td>\n",
       "      <td>0</td>\n",
       "      <td>0</td>\n",
       "      <td>0</td>\n",
       "      <td>0</td>\n",
       "      <td>0</td>\n",
       "      <td>...</td>\n",
       "      <td>0</td>\n",
       "      <td>0</td>\n",
       "      <td>0</td>\n",
       "      <td>0</td>\n",
       "      <td>0</td>\n",
       "      <td>0</td>\n",
       "      <td>0</td>\n",
       "      <td>0</td>\n",
       "      <td>0</td>\n",
       "      <td>ad.</td>\n",
       "    </tr>\n",
       "  </tbody>\n",
       "</table>\n",
       "<p>5 rows × 1559 columns</p>\n",
       "</div>"
      ],
      "text/plain": [
       "   0     1       2     3     4     5     6     7     8     9     ...  1549  \\\n",
       "0   125   125  1.0000     1     0     0     0     0     0     0  ...     0   \n",
       "1    57   468  8.2105     1     0     0     0     0     0     0  ...     0   \n",
       "2    33   230  6.9696     1     0     0     0     0     0     0  ...     0   \n",
       "3    60   468  7.8000     1     0     0     0     0     0     0  ...     0   \n",
       "4    60   468  7.8000     1     0     0     0     0     0     0  ...     0   \n",
       "\n",
       "   1550  1551  1552  1553  1554  1555  1556  1557  1558  \n",
       "0     0     0     0     0     0     0     0     0   ad.  \n",
       "1     0     0     0     0     0     0     0     0   ad.  \n",
       "2     0     0     0     0     0     0     0     0   ad.  \n",
       "3     0     0     0     0     0     0     0     0   ad.  \n",
       "4     0     0     0     0     0     0     0     0   ad.  \n",
       "\n",
       "[5 rows x 1559 columns]"
      ]
     },
     "execution_count": 4,
     "metadata": {},
     "output_type": "execute_result"
    }
   ],
   "source": [
    "dataset = pd.read_csv('../0_datasets/ad.data', header=None)\n",
    "dataset.head()"
   ]
  },
  {
   "cell_type": "code",
   "execution_count": 5,
   "id": "5ab41af3",
   "metadata": {},
   "outputs": [
    {
     "data": {
      "text/plain": [
       "array([[125.    , 125.    ,   1.    , ...,   0.    ,   0.    ,   0.    ],\n",
       "       [ 57.    , 468.    ,   8.2105, ...,   0.    ,   0.    ,   0.    ],\n",
       "       [ 33.    , 230.    ,   6.9696, ...,   0.    ,   0.    ,   0.    ],\n",
       "       ...,\n",
       "       [ 23.    , 120.    ,   5.2173, ...,   0.    ,   0.    ,   0.    ],\n",
       "       [  0.    ,   0.    ,   0.    , ...,   0.    ,   0.    ,   0.    ],\n",
       "       [ 40.    ,  40.    ,   1.    , ...,   0.    ,   0.    ,   0.    ]])"
      ]
     },
     "execution_count": 5,
     "metadata": {},
     "output_type": "execute_result"
    }
   ],
   "source": [
    "X = dataset.iloc[:,0:1558].values\n",
    "X"
   ]
  },
  {
   "cell_type": "code",
   "execution_count": 6,
   "id": "406b9c3b",
   "metadata": {
    "scrolled": true
   },
   "outputs": [
    {
     "data": {
      "text/plain": [
       "0          ad.\n",
       "1          ad.\n",
       "2          ad.\n",
       "3          ad.\n",
       "4          ad.\n",
       "         ...  \n",
       "3274    nonad.\n",
       "3275    nonad.\n",
       "3276    nonad.\n",
       "3277    nonad.\n",
       "3278    nonad.\n",
       "Name: 1558, Length: 3279, dtype: object"
      ]
     },
     "execution_count": 6,
     "metadata": {},
     "output_type": "execute_result"
    }
   ],
   "source": [
    "y = dataset.iloc[:,1558]\n",
    "y"
   ]
  },
  {
   "cell_type": "code",
   "execution_count": 7,
   "id": "3d136448",
   "metadata": {},
   "outputs": [
    {
     "data": {
      "text/plain": [
       "(array(['ad.', 'nonad.'], dtype=object), array([ 459, 2820], dtype=int64))"
      ]
     },
     "execution_count": 7,
     "metadata": {},
     "output_type": "execute_result"
    }
   ],
   "source": [
    "np.unique(y, return_counts=True)"
   ]
  },
  {
   "cell_type": "code",
   "execution_count": 8,
   "id": "467bc999",
   "metadata": {},
   "outputs": [
    {
     "data": {
      "text/plain": [
       "0.7813357731015553"
      ]
     },
     "execution_count": 8,
     "metadata": {},
     "output_type": "execute_result"
    }
   ],
   "source": [
    "naive1 = GaussianNB()\n",
    "naive1.fit(X,y)\n",
    "previsoes1 = naive1.predict(X)\n",
    "accuracy_score(y,previsoes1)"
   ]
  },
  {
   "cell_type": "code",
   "execution_count": 9,
   "id": "9543ddfa",
   "metadata": {},
   "outputs": [],
   "source": [
    "selecao = SelectFdr(chi2, alpha=0.01)\n",
    "X_novo = selecao.fit_transform(X,y)"
   ]
  },
  {
   "cell_type": "code",
   "execution_count": 10,
   "id": "64882945",
   "metadata": {},
   "outputs": [
    {
     "data": {
      "text/plain": [
       "((3279, 1558), (3279, 433))"
      ]
     },
     "execution_count": 10,
     "metadata": {},
     "output_type": "execute_result"
    }
   ],
   "source": [
    "X.shape, X_novo.shape"
   ]
  },
  {
   "cell_type": "code",
   "execution_count": 11,
   "id": "edc83e07",
   "metadata": {},
   "outputs": [
    {
     "data": {
      "text/plain": [
       "(array([2.14710304e-268, 0.00000000e+000, 8.98165813e-150, ...,\n",
       "        6.03353380e-041, 5.63437216e-012, 9.37945775e-002]),\n",
       " 1558)"
      ]
     },
     "execution_count": 11,
     "metadata": {},
     "output_type": "execute_result"
    }
   ],
   "source": [
    "selecao.pvalues_, len(selecao.pvalues_)"
   ]
  },
  {
   "cell_type": "code",
   "execution_count": 12,
   "id": "ee6a6b1a",
   "metadata": {},
   "outputs": [
    {
     "data": {
      "text/plain": [
       "476"
      ]
     },
     "execution_count": 12,
     "metadata": {},
     "output_type": "execute_result"
    }
   ],
   "source": [
    "np.sum(selecao.pvalues_ <= 0.01)"
   ]
  },
  {
   "cell_type": "code",
   "execution_count": 13,
   "id": "03040a24",
   "metadata": {},
   "outputs": [
    {
     "data": {
      "text/plain": [
       "array([ True,  True,  True, ...,  True,  True, False])"
      ]
     },
     "execution_count": 13,
     "metadata": {},
     "output_type": "execute_result"
    }
   ],
   "source": [
    "colunas = selecao.get_support()\n",
    "colunas"
   ]
  },
  {
   "cell_type": "code",
   "execution_count": 14,
   "id": "75754b3e",
   "metadata": {},
   "outputs": [
    {
     "data": {
      "text/plain": [
       "(array([   0,    1,    2,    9,   11,   14,   20,   21,   26,   31,   34,\n",
       "          36,   49,   58,   59,   64,   65,   69,   70,   86,   91,   95,\n",
       "          96,  102,  104,  106,  113,  133,  134,  139,  155,  158,  163,\n",
       "         167,  172,  175,  180,  181,  183,  185,  186,  189,  190,  192,\n",
       "         193,  224,  242,  246,  248,  249,  251,  259,  264,  265,  266,\n",
       "         267,  268,  269,  270,  274,  276,  278,  287,  290,  293,  304,\n",
       "         307,  310,  312,  317,  321,  329,  330,  336,  341,  345,  346,\n",
       "         350,  351,  355,  356,  357,  359,  366,  367,  370,  372,  381,\n",
       "         386,  388,  389,  398,  405,  418,  420,  426,  427,  429,  430,\n",
       "         432,  435,  440,  455,  457,  460,  465,  470,  472,  477,  478,\n",
       "         482,  508,  511,  518,  528,  532,  533,  540,  542,  548,  551,\n",
       "         556,  572,  573,  574,  576,  586,  622,  625,  627,  638,  643,\n",
       "         648,  653,  658,  661,  663,  666,  683,  688,  694,  703,  704,\n",
       "         709,  711,  720,  723,  729,  732,  734,  735,  738,  739,  744,\n",
       "         759,  762,  772,  773,  774,  783,  800,  807,  812,  813,  819,\n",
       "         825,  840,  848,  849,  860,  863,  869,  870,  873,  874,  875,\n",
       "         884,  890,  914,  917,  925,  927,  930,  942,  943,  944,  947,\n",
       "         948,  951,  955,  960,  962,  963,  967,  968,  969,  972,  973,\n",
       "         976,  983,  986,  987,  990,  992,  993, 1002, 1007, 1008, 1009,\n",
       "        1010, 1014, 1015, 1016, 1017, 1018, 1022, 1024, 1026, 1035, 1040,\n",
       "        1041, 1042, 1043, 1045, 1046, 1047, 1048, 1049, 1052, 1054, 1055,\n",
       "        1057, 1058, 1059, 1060, 1061, 1065, 1073, 1075, 1081, 1084, 1088,\n",
       "        1089, 1090, 1092, 1097, 1100, 1102, 1108, 1110, 1112, 1115, 1116,\n",
       "        1118, 1122, 1125, 1128, 1129, 1130, 1131, 1132, 1135, 1136, 1139,\n",
       "        1140, 1141, 1142, 1143, 1146, 1149, 1150, 1153, 1154, 1157, 1164,\n",
       "        1165, 1169, 1174, 1177, 1178, 1180, 1185, 1188, 1190, 1193, 1195,\n",
       "        1198, 1200, 1201, 1202, 1203, 1204, 1205, 1207, 1208, 1211, 1213,\n",
       "        1218, 1219, 1220, 1222, 1223, 1224, 1227, 1229, 1230, 1232, 1234,\n",
       "        1235, 1236, 1240, 1243, 1247, 1249, 1250, 1254, 1257, 1258, 1260,\n",
       "        1262, 1265, 1266, 1270, 1271, 1276, 1278, 1283, 1284, 1288, 1289,\n",
       "        1293, 1294, 1296, 1301, 1302, 1306, 1309, 1311, 1312, 1313, 1317,\n",
       "        1318, 1321, 1324, 1326, 1327, 1330, 1332, 1335, 1337, 1338, 1339,\n",
       "        1341, 1342, 1344, 1345, 1346, 1347, 1348, 1351, 1353, 1355, 1357,\n",
       "        1358, 1359, 1361, 1362, 1367, 1368, 1373, 1376, 1380, 1382, 1383,\n",
       "        1385, 1391, 1392, 1393, 1394, 1395, 1398, 1399, 1400, 1402, 1404,\n",
       "        1408, 1410, 1411, 1413, 1416, 1422, 1423, 1424, 1426, 1427, 1428,\n",
       "        1429, 1434, 1435, 1436, 1437, 1442, 1445, 1452, 1454, 1455, 1461,\n",
       "        1462, 1465, 1469, 1483, 1484, 1485, 1494, 1500, 1501, 1507, 1510,\n",
       "        1513, 1515, 1519, 1521, 1526, 1527, 1532, 1533, 1535, 1539, 1541,\n",
       "        1544, 1554, 1555, 1556], dtype=int64),)"
      ]
     },
     "execution_count": 14,
     "metadata": {},
     "output_type": "execute_result"
    }
   ],
   "source": [
    "indices = np.where(colunas==True)\n",
    "indices"
   ]
  },
  {
   "cell_type": "code",
   "execution_count": 15,
   "id": "803b1f88",
   "metadata": {},
   "outputs": [
    {
     "data": {
      "text/plain": [
       "0.970722781335773"
      ]
     },
     "execution_count": 15,
     "metadata": {},
     "output_type": "execute_result"
    }
   ],
   "source": [
    "naive2 = GaussianNB()\n",
    "naive2.fit(X_novo,y)\n",
    "previsoes2 = naive2.predict(X_novo)\n",
    "accuracy_score(y,previsoes2)"
   ]
  },
  {
   "cell_type": "markdown",
   "id": "3a6b8fad",
   "metadata": {},
   "source": [
    "### Anova"
   ]
  },
  {
   "cell_type": "code",
   "execution_count": 17,
   "id": "f4e4dc9a",
   "metadata": {},
   "outputs": [],
   "source": [
    "from sklearn.feature_selection import f_classif"
   ]
  },
  {
   "cell_type": "code",
   "execution_count": 18,
   "id": "cc888302",
   "metadata": {},
   "outputs": [],
   "source": [
    "selecao3 = SelectFdr(f_classif, alpha=0.01)\n",
    "X_final = selecao.fit_transform(X,y)"
   ]
  },
  {
   "cell_type": "code",
   "execution_count": 19,
   "id": "32e62a3e",
   "metadata": {},
   "outputs": [
    {
     "data": {
      "text/plain": [
       "((3279, 1558), (3279, 433), (3279, 433))"
      ]
     },
     "execution_count": 19,
     "metadata": {},
     "output_type": "execute_result"
    }
   ],
   "source": [
    "X.shape, X_novo.shape, X_final.shape"
   ]
  },
  {
   "cell_type": "code",
   "execution_count": 21,
   "id": "3d4cfe00",
   "metadata": {},
   "outputs": [
    {
     "data": {
      "text/plain": [
       "(array([2.14710304e-268, 0.00000000e+000, 8.98165813e-150, ...,\n",
       "        6.03353380e-041, 5.63437216e-012, 9.37945775e-002]),\n",
       " 476)"
      ]
     },
     "execution_count": 21,
     "metadata": {},
     "output_type": "execute_result"
    }
   ],
   "source": [
    "selecao.pvalues_, np.sum(selecao.pvalues_ < 0.01)"
   ]
  },
  {
   "cell_type": "code",
   "execution_count": 22,
   "id": "16b9cf29",
   "metadata": {},
   "outputs": [
    {
     "data": {
      "text/plain": [
       "0.970722781335773"
      ]
     },
     "execution_count": 22,
     "metadata": {},
     "output_type": "execute_result"
    }
   ],
   "source": [
    "naive3 = GaussianNB()\n",
    "naive3.fit(X_final,y)\n",
    "previsoes3 = naive3.predict(X_final)\n",
    "accuracy_score(y,previsoes3)"
   ]
  }
 ],
 "metadata": {
  "kernelspec": {
   "display_name": "Python 3",
   "language": "python",
   "name": "python3"
  },
  "language_info": {
   "codemirror_mode": {
    "name": "ipython",
    "version": 3
   },
   "file_extension": ".py",
   "mimetype": "text/x-python",
   "name": "python",
   "nbconvert_exporter": "python",
   "pygments_lexer": "ipython3",
   "version": "3.9.2"
  }
 },
 "nbformat": 4,
 "nbformat_minor": 5
}
