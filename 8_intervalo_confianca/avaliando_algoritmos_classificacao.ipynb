{
 "cells": [
  {
   "cell_type": "code",
   "execution_count": 1,
   "id": "0460ba75",
   "metadata": {},
   "outputs": [],
   "source": [
    "import pandas as pd\n",
    "import numpy as np\n",
    "import seaborn as sns"
   ]
  },
  {
   "cell_type": "code",
   "execution_count": 2,
   "id": "3f92aaab",
   "metadata": {},
   "outputs": [
    {
     "data": {
      "text/html": [
       "<div>\n",
       "<style scoped>\n",
       "    .dataframe tbody tr th:only-of-type {\n",
       "        vertical-align: middle;\n",
       "    }\n",
       "\n",
       "    .dataframe tbody tr th {\n",
       "        vertical-align: top;\n",
       "    }\n",
       "\n",
       "    .dataframe thead th {\n",
       "        text-align: right;\n",
       "    }\n",
       "</style>\n",
       "<table border=\"1\" class=\"dataframe\">\n",
       "  <thead>\n",
       "    <tr style=\"text-align: right;\">\n",
       "      <th></th>\n",
       "      <th>i#clientid</th>\n",
       "      <th>income</th>\n",
       "      <th>age</th>\n",
       "      <th>loan</th>\n",
       "      <th>c#default</th>\n",
       "    </tr>\n",
       "  </thead>\n",
       "  <tbody>\n",
       "    <tr>\n",
       "      <th>0</th>\n",
       "      <td>1</td>\n",
       "      <td>66155.925095</td>\n",
       "      <td>59.017015</td>\n",
       "      <td>8106.532131</td>\n",
       "      <td>0</td>\n",
       "    </tr>\n",
       "    <tr>\n",
       "      <th>1</th>\n",
       "      <td>2</td>\n",
       "      <td>34415.153966</td>\n",
       "      <td>48.117153</td>\n",
       "      <td>6564.745018</td>\n",
       "      <td>0</td>\n",
       "    </tr>\n",
       "    <tr>\n",
       "      <th>2</th>\n",
       "      <td>3</td>\n",
       "      <td>57317.170063</td>\n",
       "      <td>63.108049</td>\n",
       "      <td>8020.953296</td>\n",
       "      <td>0</td>\n",
       "    </tr>\n",
       "    <tr>\n",
       "      <th>3</th>\n",
       "      <td>4</td>\n",
       "      <td>42709.534201</td>\n",
       "      <td>45.751972</td>\n",
       "      <td>6103.642260</td>\n",
       "      <td>0</td>\n",
       "    </tr>\n",
       "    <tr>\n",
       "      <th>4</th>\n",
       "      <td>5</td>\n",
       "      <td>66952.688845</td>\n",
       "      <td>18.584336</td>\n",
       "      <td>8770.099235</td>\n",
       "      <td>1</td>\n",
       "    </tr>\n",
       "  </tbody>\n",
       "</table>\n",
       "</div>"
      ],
      "text/plain": [
       "   i#clientid        income        age         loan  c#default\n",
       "0           1  66155.925095  59.017015  8106.532131          0\n",
       "1           2  34415.153966  48.117153  6564.745018          0\n",
       "2           3  57317.170063  63.108049  8020.953296          0\n",
       "3           4  42709.534201  45.751972  6103.642260          0\n",
       "4           5  66952.688845  18.584336  8770.099235          1"
      ]
     },
     "execution_count": 2,
     "metadata": {},
     "output_type": "execute_result"
    }
   ],
   "source": [
    "dataset = pd.read_csv('../0_datasets/credit_data.csv')\n",
    "dataset.head()"
   ]
  },
  {
   "cell_type": "code",
   "execution_count": 3,
   "id": "b6763354",
   "metadata": {},
   "outputs": [
    {
     "data": {
      "text/plain": [
       "(2000, 5)"
      ]
     },
     "execution_count": 3,
     "metadata": {},
     "output_type": "execute_result"
    }
   ],
   "source": [
    "dataset.shape"
   ]
  },
  {
   "cell_type": "code",
   "execution_count": 4,
   "id": "d5cf559a",
   "metadata": {},
   "outputs": [
    {
     "data": {
      "text/plain": [
       "(1997, 5)"
      ]
     },
     "execution_count": 4,
     "metadata": {},
     "output_type": "execute_result"
    }
   ],
   "source": [
    "dataset.dropna(inplace=True)\n",
    "dataset.shape"
   ]
  },
  {
   "cell_type": "code",
   "execution_count": 5,
   "id": "ace29ad1",
   "metadata": {},
   "outputs": [
    {
     "data": {
      "text/plain": [
       "array([[6.61559251e+04, 5.90170151e+01, 8.10653213e+03],\n",
       "       [3.44151540e+04, 4.81171531e+01, 6.56474502e+03],\n",
       "       [5.73171701e+04, 6.31080495e+01, 8.02095330e+03],\n",
       "       ...,\n",
       "       [4.43114493e+04, 2.80171669e+01, 5.52278669e+03],\n",
       "       [4.37560566e+04, 6.39717958e+01, 1.62272260e+03],\n",
       "       [6.94365796e+04, 5.61526170e+01, 7.37883360e+03]])"
      ]
     },
     "execution_count": 5,
     "metadata": {},
     "output_type": "execute_result"
    }
   ],
   "source": [
    "X = dataset.iloc[:, 1:4].values\n",
    "X"
   ]
  },
  {
   "cell_type": "code",
   "execution_count": 6,
   "id": "ab37bce6",
   "metadata": {},
   "outputs": [
    {
     "data": {
      "text/plain": [
       "array([0, 0, 0, ..., 1, 0, 0], dtype=int64)"
      ]
     },
     "execution_count": 6,
     "metadata": {},
     "output_type": "execute_result"
    }
   ],
   "source": [
    "y = dataset.iloc[:, 4].values\n",
    "y"
   ]
  },
  {
   "cell_type": "code",
   "execution_count": 7,
   "id": "22df0672",
   "metadata": {},
   "outputs": [],
   "source": [
    "from sklearn.model_selection import train_test_split\n",
    "\n",
    "from sklearn.naive_bayes import GaussianNB\n",
    "from sklearn.linear_model import LogisticRegression\n",
    "from sklearn.ensemble import RandomForestClassifier\n",
    "\n",
    "from sklearn.metrics import accuracy_score\n",
    "from sklearn.model_selection import cross_val_score, KFold"
   ]
  },
  {
   "cell_type": "code",
   "execution_count": 51,
   "id": "5900d999",
   "metadata": {},
   "outputs": [],
   "source": [
    "resultados_naive_bayes = []\n",
    "resultados_naive_bayes_300 = []\n",
    "resultados_logistica = []\n",
    "resultados_logistica_300 = []\n",
    "resultados_forest = []\n",
    "resultados_forest_300 = []\n",
    "\n",
    "for i in range(30):\n",
    "    kfold = KFold(n_splits=10, shuffle=True, random_state=1)\n",
    "    \n",
    "    naive_bayes = GaussianNB()\n",
    "    scores = cross_val_score(naive_bayes, X, y, cv=kfold)\n",
    "    resultados_naive_bayes_300.append(scores)\n",
    "    resultados_naive_bayes.append(scores.mean())    \n",
    "    \n",
    "    logistica = LogisticRegression()\n",
    "    scores = cross_val_score(logistica, X, y, cv=kfold)\n",
    "    resultados_logistica_300.append(scores)\n",
    "    resultados_logistica.append(scores.mean())\n",
    "    \n",
    "    forest = RandomForestClassifier()\n",
    "    scores = cross_val_score(forest, X, y, cv=kfold)\n",
    "    resultados_forest_300.append(scores)\n",
    "    resultados_forest.append(scores.mean())   "
   ]
  },
  {
   "cell_type": "code",
   "execution_count": 52,
   "id": "ebf4b5eb",
   "metadata": {},
   "outputs": [],
   "source": [
    "resultados_naive_bayes = np.array(resultados_naive_bayes)\n",
    "resultados_naive_bayes_300 = np.array(np.asarray(resultados_naive_bayes_300).reshape(-1))\n",
    "resultados_logistica = np.array(resultados_logistica)\n",
    "resultados_logistica_300 = np.array(np.asarray(resultados_logistica_300).reshape(-1))\n",
    "resultados_forest = np.array(resultados_forest)\n",
    "resultados_forest_300 = np.array(np.asarray(resultados_forest_300).reshape(-1))"
   ]
  },
  {
   "cell_type": "markdown",
   "id": "9377fa40",
   "metadata": {},
   "source": [
    "### Avaliando os algoritmos"
   ]
  },
  {
   "cell_type": "code",
   "execution_count": 53,
   "id": "e2ee1f7f",
   "metadata": {},
   "outputs": [],
   "source": [
    "import statistics\n",
    "from scipy import stats"
   ]
  },
  {
   "cell_type": "markdown",
   "id": "cb76b9c4",
   "metadata": {},
   "source": [
    "#### Média"
   ]
  },
  {
   "cell_type": "code",
   "execution_count": 54,
   "id": "bf500106",
   "metadata": {},
   "outputs": [
    {
     "data": {
      "text/plain": [
       "0.9249170854271358"
      ]
     },
     "execution_count": 54,
     "metadata": {},
     "output_type": "execute_result"
    }
   ],
   "source": [
    "# Média GaussianNB\n",
    "resultados_naive_bayes.mean()"
   ]
  },
  {
   "cell_type": "code",
   "execution_count": 55,
   "id": "e9f60453",
   "metadata": {},
   "outputs": [
    {
     "data": {
      "text/plain": [
       "0.9103668341708544"
      ]
     },
     "execution_count": 55,
     "metadata": {},
     "output_type": "execute_result"
    }
   ],
   "source": [
    "# Média LogisticRegression\n",
    "resultados_logistica.mean()"
   ]
  },
  {
   "cell_type": "code",
   "execution_count": 56,
   "id": "d1184ddd",
   "metadata": {},
   "outputs": [
    {
     "data": {
      "text/plain": [
       "0.9862498324958124"
      ]
     },
     "execution_count": 56,
     "metadata": {},
     "output_type": "execute_result"
    }
   ],
   "source": [
    "# Média RandomForestClassifier\n",
    "resultados_forest.mean()"
   ]
  },
  {
   "cell_type": "markdown",
   "id": "b0e13284",
   "metadata": {},
   "source": [
    "#### Moda"
   ]
  },
  {
   "cell_type": "code",
   "execution_count": 57,
   "id": "e5b52e2e",
   "metadata": {},
   "outputs": [
    {
     "data": {
      "text/plain": [
       "ModeResult(mode=array([0.92491709]), count=array([30]))"
      ]
     },
     "execution_count": 57,
     "metadata": {},
     "output_type": "execute_result"
    }
   ],
   "source": [
    "# Moda GaussianNB\n",
    "stats.mode(resultados_naive_bayes)"
   ]
  },
  {
   "cell_type": "code",
   "execution_count": 58,
   "id": "6fd9b676",
   "metadata": {},
   "outputs": [
    {
     "data": {
      "text/plain": [
       "ModeResult(mode=array([0.91036683]), count=array([30]))"
      ]
     },
     "execution_count": 58,
     "metadata": {},
     "output_type": "execute_result"
    }
   ],
   "source": [
    "# Moda LogisticRegression\n",
    "stats.mode(resultados_logistica)"
   ]
  },
  {
   "cell_type": "code",
   "execution_count": 59,
   "id": "dc6d29ac",
   "metadata": {},
   "outputs": [
    {
     "data": {
      "text/plain": [
       "ModeResult(mode=array([0.98648492]), count=array([4]))"
      ]
     },
     "execution_count": 59,
     "metadata": {},
     "output_type": "execute_result"
    }
   ],
   "source": [
    "# Moda RandomForestClassifier\n",
    "stats.mode(resultados_forest)"
   ]
  },
  {
   "cell_type": "markdown",
   "id": "091ff4bc",
   "metadata": {},
   "source": [
    "#### Mediana"
   ]
  },
  {
   "cell_type": "code",
   "execution_count": 60,
   "id": "07641fc4",
   "metadata": {},
   "outputs": [
    {
     "data": {
      "text/plain": [
       "0.9249170854271356"
      ]
     },
     "execution_count": 60,
     "metadata": {},
     "output_type": "execute_result"
    }
   ],
   "source": [
    "# Mediana GaussianNB\n",
    "np.median(resultados_naive_bayes)"
   ]
  },
  {
   "cell_type": "code",
   "execution_count": 61,
   "id": "669125ea",
   "metadata": {},
   "outputs": [
    {
     "data": {
      "text/plain": [
       "0.9103668341708543"
      ]
     },
     "execution_count": 61,
     "metadata": {},
     "output_type": "execute_result"
    }
   ],
   "source": [
    "# Mediana LogisticRegression\n",
    "np.median(resultados_logistica)"
   ]
  },
  {
   "cell_type": "code",
   "execution_count": 62,
   "id": "66a72e8b",
   "metadata": {},
   "outputs": [
    {
     "data": {
      "text/plain": [
       "0.9864798994974875"
      ]
     },
     "execution_count": 62,
     "metadata": {},
     "output_type": "execute_result"
    }
   ],
   "source": [
    "# Mediana RandomForestClassifier\n",
    "np.median(resultados_forest)"
   ]
  },
  {
   "cell_type": "markdown",
   "id": "ada4910b",
   "metadata": {},
   "source": [
    "#### Variância"
   ]
  },
  {
   "cell_type": "code",
   "execution_count": 63,
   "id": "aea9a94f",
   "metadata": {},
   "outputs": [
    {
     "data": {
      "text/plain": [
       "4.930380657631324e-32"
      ]
     },
     "execution_count": 63,
     "metadata": {},
     "output_type": "execute_result"
    }
   ],
   "source": [
    "# Variância GaussianNB\n",
    "np.var(resultados_naive_bayes)"
   ]
  },
  {
   "cell_type": "code",
   "execution_count": 64,
   "id": "da211dfd",
   "metadata": {},
   "outputs": [
    {
     "data": {
      "text/plain": [
       "1.232595164407831e-32"
      ]
     },
     "execution_count": 64,
     "metadata": {},
     "output_type": "execute_result"
    }
   ],
   "source": [
    "# Variância LogisticRegression\n",
    "np.var(resultados_logistica)"
   ]
  },
  {
   "cell_type": "code",
   "execution_count": 65,
   "id": "09519556",
   "metadata": {},
   "outputs": [
    {
     "data": {
      "text/plain": [
       "5.991875976756644e-07"
      ]
     },
     "execution_count": 65,
     "metadata": {},
     "output_type": "execute_result"
    }
   ],
   "source": [
    "# Variância RandomForestClassifier\n",
    "np.var(resultados_forest)"
   ]
  },
  {
   "cell_type": "code",
   "execution_count": 66,
   "id": "a751ab8f",
   "metadata": {},
   "outputs": [
    {
     "data": {
      "text/plain": [
       "(1.232595164407831e-32, 5.991875976756644e-07)"
      ]
     },
     "execution_count": 66,
     "metadata": {},
     "output_type": "execute_result"
    }
   ],
   "source": [
    "variancias = []\n",
    "for v in [np.var(resultados_naive_bayes), np.var(resultados_logistica), np.var(resultados_forest)]:\n",
    "       variancias.append(v)\n",
    "        \n",
    "np.min(variancias), np.max(variancias)"
   ]
  },
  {
   "cell_type": "markdown",
   "id": "dd3998c9",
   "metadata": {},
   "source": [
    "#### Desvio Padrão"
   ]
  },
  {
   "cell_type": "code",
   "execution_count": 67,
   "id": "d008b118",
   "metadata": {},
   "outputs": [
    {
     "data": {
      "text/plain": [
       "2.220446049250313e-16"
      ]
     },
     "execution_count": 67,
     "metadata": {},
     "output_type": "execute_result"
    }
   ],
   "source": [
    "# Desvio Padrão GaussianNB\n",
    "np.std(resultados_naive_bayes)"
   ]
  },
  {
   "cell_type": "code",
   "execution_count": 68,
   "id": "80087ca5",
   "metadata": {},
   "outputs": [
    {
     "data": {
      "text/plain": [
       "1.1102230246251565e-16"
      ]
     },
     "execution_count": 68,
     "metadata": {},
     "output_type": "execute_result"
    }
   ],
   "source": [
    "# Desvio Padrão LogisticRegression\n",
    "np.std(resultados_logistica)"
   ]
  },
  {
   "cell_type": "code",
   "execution_count": 69,
   "id": "72e13717",
   "metadata": {},
   "outputs": [
    {
     "data": {
      "text/plain": [
       "0.0007740720881647035"
      ]
     },
     "execution_count": 69,
     "metadata": {},
     "output_type": "execute_result"
    }
   ],
   "source": [
    "# Desvio Padrão RandomForestClassifier\n",
    "np.std(resultados_forest)"
   ]
  },
  {
   "cell_type": "markdown",
   "id": "9f03e6d6",
   "metadata": {},
   "source": [
    "#### Coeficiente de variação"
   ]
  },
  {
   "cell_type": "code",
   "execution_count": 70,
   "id": "f8011b29",
   "metadata": {},
   "outputs": [
    {
     "data": {
      "text/plain": [
       "2.4006974076220995e-14"
      ]
     },
     "execution_count": 70,
     "metadata": {},
     "output_type": "execute_result"
    }
   ],
   "source": [
    "# Coeficiente de variação GaussianNB\n",
    "stats.variation(resultados_naive_bayes) * 100"
   ]
  },
  {
   "cell_type": "code",
   "execution_count": 71,
   "id": "9ded3ea8",
   "metadata": {},
   "outputs": [
    {
     "data": {
      "text/plain": [
       "1.2195336901045253e-14"
      ]
     },
     "execution_count": 71,
     "metadata": {},
     "output_type": "execute_result"
    }
   ],
   "source": [
    "# Coeficiente de variação LogisticRegression\n",
    "stats.variation(resultados_logistica) * 100"
   ]
  },
  {
   "cell_type": "code",
   "execution_count": 72,
   "id": "55fdac28",
   "metadata": {},
   "outputs": [
    {
     "data": {
      "text/plain": [
       "0.07848641010217765"
      ]
     },
     "execution_count": 72,
     "metadata": {},
     "output_type": "execute_result"
    }
   ],
   "source": [
    "# Coeficiente de variação RandomForestClassifier\n",
    "stats.variation(resultados_forest) * 100"
   ]
  },
  {
   "cell_type": "markdown",
   "id": "718bb7f1",
   "metadata": {},
   "source": [
    "#### Intervalos de confiança"
   ]
  },
  {
   "cell_type": "code",
   "execution_count": 73,
   "id": "258d5f45",
   "metadata": {},
   "outputs": [],
   "source": [
    "from scipy.stats import t"
   ]
  },
  {
   "cell_type": "code",
   "execution_count": 76,
   "id": "6a7f8663",
   "metadata": {},
   "outputs": [
    {
     "data": {
      "text/plain": [
       "((0.9249170854271357, 0.9249170854271359), 1.1102230246251565e-16)"
      ]
     },
     "execution_count": 76,
     "metadata": {},
     "output_type": "execute_result"
    }
   ],
   "source": [
    "# Intervalos de confiança do GaussianNB\n",
    "n = len(resultados_naive_bayes)\n",
    "media = np.mean(resultados_naive_bayes)\n",
    "desvio_padrao = np.std(resultados_naive_bayes)\n",
    "\n",
    "intervalos = t.interval(0.95, n-1, media, stats.sem(resultados_naive_bayes, ddof=0))\n",
    "margem_erro = media - intervalos[0]\n",
    "\n",
    "intervalos, margem_erro"
   ]
  },
  {
   "cell_type": "code",
   "execution_count": 77,
   "id": "c73244f4",
   "metadata": {},
   "outputs": [
    {
     "data": {
      "text/plain": [
       "((0.9103668341708544, 0.9103668341708544), 0.0)"
      ]
     },
     "execution_count": 77,
     "metadata": {},
     "output_type": "execute_result"
    }
   ],
   "source": [
    "# Intervalos de confiança do LogisticRegression\n",
    "n = len(resultados_logistica)\n",
    "media = np.mean(resultados_logistica)\n",
    "desvio_padrao = np.std(resultados_logistica)\n",
    "\n",
    "intervalos = t.interval(0.95, n-1, media, stats.sem(resultados_logistica, ddof=0))\n",
    "margem_erro = media - intervalos[0]\n",
    "\n",
    "intervalos, margem_erro"
   ]
  },
  {
   "cell_type": "code",
   "execution_count": 78,
   "id": "82df815f",
   "metadata": {},
   "outputs": [
    {
     "data": {
      "text/plain": [
       "((0.9859607892277986, 0.9865388757638263), 0.0002890432680138222)"
      ]
     },
     "execution_count": 78,
     "metadata": {},
     "output_type": "execute_result"
    }
   ],
   "source": [
    "# Intervalos de confiança do RandomForestClassifier\n",
    "n = len(resultados_forest)\n",
    "media = np.mean(resultados_forest)\n",
    "desvio_padrao = np.std(resultados_forest)\n",
    "\n",
    "intervalos = t.interval(0.95, n-1, media, stats.sem(resultados_forest, ddof=0))\n",
    "margem_erro = media - intervalos[0]\n",
    "\n",
    "intervalos, margem_erro"
   ]
  },
  {
   "cell_type": "markdown",
   "id": "fdd1bc3f",
   "metadata": {},
   "source": [
    "Temos 98% de confiança de que a média de acertos do Random Forest está no intervalo entre 98,57% e 98.66%"
   ]
  },
  {
   "cell_type": "markdown",
   "id": "8e4827dc",
   "metadata": {},
   "source": [
    "#### Teste de hipótese de Shapiro-Wilk"
   ]
  },
  {
   "cell_type": "code",
   "execution_count": 79,
   "id": "0c65ba37",
   "metadata": {},
   "outputs": [],
   "source": [
    "from scipy.stats import shapiro"
   ]
  },
  {
   "cell_type": "code",
   "execution_count": 80,
   "id": "0106167b",
   "metadata": {},
   "outputs": [
    {
     "name": "stderr",
     "output_type": "stream",
     "text": [
      "c:\\users\\alisson\\appdata\\local\\programs\\python\\python39\\lib\\site-packages\\scipy\\stats\\morestats.py:1678: UserWarning: Input data for shapiro has range zero. The results may not be accurate.\n",
      "  warnings.warn(\"Input data for shapiro has range zero. The results \"\n"
     ]
    },
    {
     "data": {
      "text/plain": [
       "(ShapiroResult(statistic=1.0, pvalue=1.0),\n",
       " ShapiroResult(statistic=1.0, pvalue=1.0),\n",
       " ShapiroResult(statistic=0.9516385197639465, pvalue=0.18700410425662994))"
      ]
     },
     "execution_count": 80,
     "metadata": {},
     "output_type": "execute_result"
    }
   ],
   "source": [
    "shapiro(resultados_naive_bayes), shapiro(resultados_logistica), shapiro(resultados_forest)"
   ]
  },
  {
   "cell_type": "markdown",
   "id": "402b28f7",
   "metadata": {},
   "source": [
    "#### Teste de hipótese de D'Agostinho k^2"
   ]
  },
  {
   "cell_type": "code",
   "execution_count": 81,
   "id": "e824a96e",
   "metadata": {},
   "outputs": [
    {
     "data": {
      "text/plain": [
       "(NormaltestResult(statistic=283.7244653184024, pvalue=2.4547946360146135e-62),\n",
       " NormaltestResult(statistic=283.7244653184024, pvalue=2.4547946360146135e-62),\n",
       " NormaltestResult(statistic=0.8213188335015257, pvalue=0.6632127723006904))"
      ]
     },
     "execution_count": 81,
     "metadata": {},
     "output_type": "execute_result"
    }
   ],
   "source": [
    "from scipy.stats import normaltest\n",
    "normaltest(resultados_naive_bayes), normaltest(resultados_logistica), normaltest(resultados_forest)"
   ]
  },
  {
   "cell_type": "markdown",
   "id": "a9914cb9",
   "metadata": {},
   "source": [
    "#### Teste de hipótese de Anderson-Darling"
   ]
  },
  {
   "cell_type": "code",
   "execution_count": 82,
   "id": "3b26aa68",
   "metadata": {},
   "outputs": [
    {
     "data": {
      "text/plain": [
       "(29.79421827104722, 29.79421827104722, 0.570088057698598)"
      ]
     },
     "execution_count": 82,
     "metadata": {},
     "output_type": "execute_result"
    }
   ],
   "source": [
    "from scipy.stats import anderson\n",
    "anderson(resultados_naive_bayes).statistic, anderson(resultados_logistica).statistic, anderson(resultados_forest).statistic"
   ]
  },
  {
   "cell_type": "markdown",
   "id": "94ae5be0",
   "metadata": {},
   "source": [
    "### Testes não parmétricos"
   ]
  },
  {
   "cell_type": "markdown",
   "id": "029a6663",
   "metadata": {},
   "source": [
    "#### Teste de Wilcoxon Signed-Rank"
   ]
  },
  {
   "cell_type": "code",
   "execution_count": 83,
   "id": "0363e3b3",
   "metadata": {},
   "outputs": [],
   "source": [
    "alpha = 0.05"
   ]
  },
  {
   "cell_type": "code",
   "execution_count": 84,
   "id": "37d615cb",
   "metadata": {},
   "outputs": [],
   "source": [
    "from scipy.stats import wilcoxon"
   ]
  },
  {
   "cell_type": "code",
   "execution_count": 85,
   "id": "7aad082a",
   "metadata": {
    "scrolled": true
   },
   "outputs": [
    {
     "data": {
      "text/plain": [
       "4.320463057827488e-08"
      ]
     },
     "execution_count": 85,
     "metadata": {},
     "output_type": "execute_result"
    }
   ],
   "source": [
    "_, p = wilcoxon(resultados_naive_bayes, resultados_logistica)\n",
    "p"
   ]
  },
  {
   "cell_type": "code",
   "execution_count": 86,
   "id": "8feb1cf9",
   "metadata": {},
   "outputs": [
    {
     "data": {
      "text/plain": [
       "1.7062176754796548e-06"
      ]
     },
     "execution_count": 86,
     "metadata": {},
     "output_type": "execute_result"
    }
   ],
   "source": [
    "_, p = wilcoxon(resultados_naive_bayes, resultados_forest)\n",
    "p"
   ]
  },
  {
   "cell_type": "code",
   "execution_count": 87,
   "id": "5df286e0",
   "metadata": {},
   "outputs": [
    {
     "data": {
      "text/plain": [
       "1.7062176754796548e-06"
      ]
     },
     "execution_count": 87,
     "metadata": {},
     "output_type": "execute_result"
    }
   ],
   "source": [
    "_, p = wilcoxon(resultados_logistica, resultados_forest)\n",
    "p"
   ]
  },
  {
   "cell_type": "markdown",
   "id": "31ba5b90",
   "metadata": {},
   "source": [
    "#### Teste de Friedman"
   ]
  },
  {
   "cell_type": "code",
   "execution_count": 88,
   "id": "6c945738",
   "metadata": {},
   "outputs": [],
   "source": [
    "from scipy.stats import friedmanchisquare"
   ]
  },
  {
   "cell_type": "code",
   "execution_count": 89,
   "id": "7dbe0b5f",
   "metadata": {},
   "outputs": [
    {
     "data": {
      "text/plain": [
       "9.357622968840163e-14"
      ]
     },
     "execution_count": 89,
     "metadata": {},
     "output_type": "execute_result"
    }
   ],
   "source": [
    "_, p = friedmanchisquare(resultados_naive_bayes, resultados_logistica, resultados_forest)\n",
    "p"
   ]
  },
  {
   "cell_type": "markdown",
   "id": "cbff37d2",
   "metadata": {},
   "source": [
    "#### Testes ANOVA e Tukey"
   ]
  },
  {
   "cell_type": "code",
   "execution_count": 91,
   "id": "215a0cf2",
   "metadata": {},
   "outputs": [],
   "source": [
    "from scipy.stats import f_oneway"
   ]
  },
  {
   "cell_type": "code",
   "execution_count": 92,
   "id": "796bf351",
   "metadata": {},
   "outputs": [
    {
     "data": {
      "text/plain": [
       "3.8829820099191304e-163"
      ]
     },
     "execution_count": 92,
     "metadata": {},
     "output_type": "execute_result"
    }
   ],
   "source": [
    "_, p = f_oneway(resultados_naive_bayes, resultados_logistica, resultados_forest)\n",
    "p"
   ]
  },
  {
   "cell_type": "code",
   "execution_count": 93,
   "id": "3030969d",
   "metadata": {},
   "outputs": [
    {
     "name": "stdout",
     "output_type": "stream",
     "text": [
      "Hipóteses nula rejeitada. Dados são diferentes.\n"
     ]
    }
   ],
   "source": [
    "alpha = 0.05\n",
    "if p < alpha:\n",
    "    print('Hipóteses nula rejeitada. Dados são diferentes.')\n",
    "else:\n",
    "    print('Hipóteses alternativa rejeitada.')"
   ]
  },
  {
   "cell_type": "code",
   "execution_count": 114,
   "id": "cd0cf1e7",
   "metadata": {},
   "outputs": [],
   "source": [
    "resultados_algoritmos = {\n",
    "    'accuracy': np.concatenate([resultados_naive_bayes, resultados_logistica, resultados_forest]),\n",
    "    'algoritmo': np.concatenate([np.array(['naive']*30), np.array(['logistic']*30), np.array(['forest']*30)])\n",
    "}"
   ]
  },
  {
   "cell_type": "code",
   "execution_count": 115,
   "id": "033a1171",
   "metadata": {},
   "outputs": [
    {
     "data": {
      "text/html": [
       "<div>\n",
       "<style scoped>\n",
       "    .dataframe tbody tr th:only-of-type {\n",
       "        vertical-align: middle;\n",
       "    }\n",
       "\n",
       "    .dataframe tbody tr th {\n",
       "        vertical-align: top;\n",
       "    }\n",
       "\n",
       "    .dataframe thead th {\n",
       "        text-align: right;\n",
       "    }\n",
       "</style>\n",
       "<table border=\"1\" class=\"dataframe\">\n",
       "  <thead>\n",
       "    <tr style=\"text-align: right;\">\n",
       "      <th></th>\n",
       "      <th>accuracy</th>\n",
       "      <th>algoritmo</th>\n",
       "    </tr>\n",
       "  </thead>\n",
       "  <tbody>\n",
       "    <tr>\n",
       "      <th>0</th>\n",
       "      <td>0.924917</td>\n",
       "      <td>naive</td>\n",
       "    </tr>\n",
       "    <tr>\n",
       "      <th>1</th>\n",
       "      <td>0.924917</td>\n",
       "      <td>naive</td>\n",
       "    </tr>\n",
       "    <tr>\n",
       "      <th>2</th>\n",
       "      <td>0.924917</td>\n",
       "      <td>naive</td>\n",
       "    </tr>\n",
       "    <tr>\n",
       "      <th>3</th>\n",
       "      <td>0.924917</td>\n",
       "      <td>naive</td>\n",
       "    </tr>\n",
       "    <tr>\n",
       "      <th>4</th>\n",
       "      <td>0.924917</td>\n",
       "      <td>naive</td>\n",
       "    </tr>\n",
       "    <tr>\n",
       "      <th>...</th>\n",
       "      <td>...</td>\n",
       "      <td>...</td>\n",
       "    </tr>\n",
       "    <tr>\n",
       "      <th>85</th>\n",
       "      <td>0.985485</td>\n",
       "      <td>forest</td>\n",
       "    </tr>\n",
       "    <tr>\n",
       "      <th>86</th>\n",
       "      <td>0.986985</td>\n",
       "      <td>forest</td>\n",
       "    </tr>\n",
       "    <tr>\n",
       "      <th>87</th>\n",
       "      <td>0.986485</td>\n",
       "      <td>forest</td>\n",
       "    </tr>\n",
       "    <tr>\n",
       "      <th>88</th>\n",
       "      <td>0.985982</td>\n",
       "      <td>forest</td>\n",
       "    </tr>\n",
       "    <tr>\n",
       "      <th>89</th>\n",
       "      <td>0.985485</td>\n",
       "      <td>forest</td>\n",
       "    </tr>\n",
       "  </tbody>\n",
       "</table>\n",
       "<p>90 rows × 2 columns</p>\n",
       "</div>"
      ],
      "text/plain": [
       "    accuracy algoritmo\n",
       "0   0.924917     naive\n",
       "1   0.924917     naive\n",
       "2   0.924917     naive\n",
       "3   0.924917     naive\n",
       "4   0.924917     naive\n",
       "..       ...       ...\n",
       "85  0.985485    forest\n",
       "86  0.986985    forest\n",
       "87  0.986485    forest\n",
       "88  0.985982    forest\n",
       "89  0.985485    forest\n",
       "\n",
       "[90 rows x 2 columns]"
      ]
     },
     "execution_count": 115,
     "metadata": {},
     "output_type": "execute_result"
    }
   ],
   "source": [
    "resultados_df = pd.DataFrame(resultados_algoritmos)\n",
    "resultados_df"
   ]
  },
  {
   "cell_type": "code",
   "execution_count": 90,
   "id": "925839da",
   "metadata": {},
   "outputs": [],
   "source": [
    "from statsmodels.stats.multicomp import MultiComparison"
   ]
  },
  {
   "cell_type": "code",
   "execution_count": 117,
   "id": "9e8d8577",
   "metadata": {},
   "outputs": [],
   "source": [
    "compara_grupos = MultiComparison(resultados_df['accuracy'], resultados_df['algoritmo'])"
   ]
  },
  {
   "cell_type": "code",
   "execution_count": 118,
   "id": "c830ba61",
   "metadata": {},
   "outputs": [
    {
     "name": "stdout",
     "output_type": "stream",
     "text": [
      "  Multiple Comparison of Means - Tukey HSD, FWER=0.05  \n",
      "=======================================================\n",
      " group1   group2  meandiff p-adj  lower   upper  reject\n",
      "-------------------------------------------------------\n",
      "  forest logistic  -0.0759 0.001 -0.0762 -0.0756   True\n",
      "  forest    naive  -0.0613 0.001 -0.0616 -0.0611   True\n",
      "logistic    naive   0.0146 0.001  0.0143  0.0148   True\n",
      "-------------------------------------------------------\n"
     ]
    }
   ],
   "source": [
    "teste = compara_grupos.tukeyhsd()\n",
    "print(teste)"
   ]
  },
  {
   "cell_type": "code",
   "execution_count": 120,
   "id": "5fb23cb7",
   "metadata": {},
   "outputs": [
    {
     "name": "stderr",
     "output_type": "stream",
     "text": [
      "c:\\users\\alisson\\appdata\\local\\programs\\python\\python39\\lib\\site-packages\\statsmodels\\sandbox\\stats\\multicomp.py:775: UserWarning: FixedFormatter should only be used together with FixedLocator\n",
      "  ax1.set_yticklabels(np.insert(self.groupsunique.astype(str), 0, ''))\n"
     ]
    },
    {
     "data": {
      "image/png": "[encoded data removed]",
      "text/plain": [
       "<Figure size 720x432 with 1 Axes>"
      ]
     },
     "metadata": {
      "needs_background": "light"
     },
     "output_type": "display_data"
    }
   ],
   "source": [
    "teste.plot_simultaneous();"
   ]
  }
 ],
 "metadata": {
  "kernelspec": {
   "display_name": "Python 3",
   "language": "python",
   "name": "python3"
  },
  "language_info": {
   "codemirror_mode": {
    "name": "ipython",
    "version": 3
   },
   "file_extension": ".py",
   "mimetype": "text/x-python",
   "name": "python",
   "nbconvert_exporter": "python",
   "pygments_lexer": "ipython3",
   "version": "3.9.2"
  }
 },
 "nbformat": 4,
 "nbformat_minor": 5
}
