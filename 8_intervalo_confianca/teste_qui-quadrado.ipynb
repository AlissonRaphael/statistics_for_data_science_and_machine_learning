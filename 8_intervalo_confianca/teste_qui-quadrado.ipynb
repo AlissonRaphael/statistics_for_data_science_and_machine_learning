{
 "cells": [
  {
   "cell_type": "markdown",
   "id": "00e0ce36",
   "metadata": {},
   "source": [
    "### Teste Qui-Quadrado"
   ]
  },
  {
   "cell_type": "code",
   "execution_count": 5,
   "id": "55daf6e7",
   "metadata": {},
   "outputs": [],
   "source": [
    "import numpy as np\n",
    "from scipy.stats import chi2_contingency"
   ]
  },
  {
   "cell_type": "code",
   "execution_count": 7,
   "id": "ee39fdf8",
   "metadata": {},
   "outputs": [
    {
     "data": {
      "text/plain": [
       "(2, 2)"
      ]
     },
     "execution_count": 7,
     "metadata": {},
     "output_type": "execute_result"
    }
   ],
   "source": [
    "tabela = np.array([[30,20],[22,28]])\n",
    "tabela.shape"
   ]
  },
  {
   "cell_type": "code",
   "execution_count": 9,
   "id": "b155aeb7",
   "metadata": {},
   "outputs": [
    {
     "data": {
      "text/plain": [
       "0.16117778944980238"
      ]
     },
     "execution_count": 9,
     "metadata": {},
     "output_type": "execute_result"
    }
   ],
   "source": [
    "_, p, _, _ = chi2_contingency(tabela)\n",
    "p"
   ]
  },
  {
   "cell_type": "code",
   "execution_count": 10,
   "id": "86475e9a",
   "metadata": {},
   "outputs": [
    {
     "name": "stdout",
     "output_type": "stream",
     "text": [
      "Hipótese alternativa rejeitada.\n"
     ]
    }
   ],
   "source": [
    "alpha = 0.05\n",
    "if p < alpha:\n",
    "    print('Hipótese nula rejeitada.')\n",
    "else:\n",
    "    print('Hipótese alternativa rejeitada.')"
   ]
  },
  {
   "cell_type": "code",
   "execution_count": 11,
   "id": "07626af5",
   "metadata": {},
   "outputs": [
    {
     "data": {
      "text/plain": [
       "(2, 2)"
      ]
     },
     "execution_count": 11,
     "metadata": {},
     "output_type": "execute_result"
    }
   ],
   "source": [
    "tabela2 = np.array([[45,5],[5,45]])\n",
    "tabela2.shape"
   ]
  },
  {
   "cell_type": "code",
   "execution_count": 13,
   "id": "4b935ec4",
   "metadata": {},
   "outputs": [
    {
     "name": "stdout",
     "output_type": "stream",
     "text": [
      "Hipótese nula rejeitada.\n"
     ]
    }
   ],
   "source": [
    "_, p, _, _ = chi2_contingency(tabela2)\n",
    "\n",
    "alpha = 0.05\n",
    "if p < alpha:\n",
    "    print('Hipótese nula rejeitada.')\n",
    "else:\n",
    "    print('Hipótese alternativa rejeitada.')"
   ]
  }
 ],
 "metadata": {
  "kernelspec": {
   "display_name": "Python 3",
   "language": "python",
   "name": "python3"
  },
  "language_info": {
   "codemirror_mode": {
    "name": "ipython",
    "version": 3
   },
   "file_extension": ".py",
   "mimetype": "text/x-python",
   "name": "python",
   "nbconvert_exporter": "python",
   "pygments_lexer": "ipython3",
   "version": "3.9.2"
  }
 },
 "nbformat": 4,
 "nbformat_minor": 5
}
