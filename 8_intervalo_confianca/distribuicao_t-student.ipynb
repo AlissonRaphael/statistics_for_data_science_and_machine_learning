{
 "cells": [
  {
   "cell_type": "markdown",
   "id": "2c3eacd4",
   "metadata": {},
   "source": [
    "## Distribuição T Student"
   ]
  },
  {
   "cell_type": "code",
   "execution_count": 8,
   "id": "bd02c1bd",
   "metadata": {},
   "outputs": [],
   "source": [
    "import numpy as np\n",
    "from scipy import stats\n",
    "from scipy.stats import t"
   ]
  },
  {
   "cell_type": "code",
   "execution_count": 5,
   "id": "61c064e8",
   "metadata": {},
   "outputs": [],
   "source": [
    "dados = np.array([149,160,147,189,175,168,156,160,152])"
   ]
  },
  {
   "cell_type": "code",
   "execution_count": 6,
   "id": "a11437b7",
   "metadata": {},
   "outputs": [
    {
     "data": {
      "text/plain": [
       "(9, 161.77777777777777, 12.786953227391823)"
      ]
     },
     "execution_count": 6,
     "metadata": {},
     "output_type": "execute_result"
    }
   ],
   "source": [
    "n = len(dados)\n",
    "media = np.mean(dados)\n",
    "desvio_padrao = np.std(dados)\n",
    "n, media, desvio_padrao"
   ]
  },
  {
   "cell_type": "code",
   "execution_count": 9,
   "id": "caf3d07b",
   "metadata": {},
   "outputs": [
    {
     "data": {
      "text/plain": [
       "(151.9488554388298, 171.60670011672573)"
      ]
     },
     "execution_count": 9,
     "metadata": {},
     "output_type": "execute_result"
    }
   ],
   "source": [
    "intervalos = t.interval(0.95, n-1, media, stats.sem(dados, ddof=0))\n",
    "intervalos"
   ]
  },
  {
   "cell_type": "code",
   "execution_count": 11,
   "id": "7794a651",
   "metadata": {},
   "outputs": [
    {
     "data": {
      "text/plain": [
       "9.828922338947962"
      ]
     },
     "execution_count": 11,
     "metadata": {},
     "output_type": "execute_result"
    }
   ],
   "source": [
    "margem_erro = media - intervalos[0]\n",
    "margem_erro"
   ]
  }
 ],
 "metadata": {
  "kernelspec": {
   "display_name": "Python 3",
   "language": "python",
   "name": "python3"
  },
  "language_info": {
   "codemirror_mode": {
    "name": "ipython",
    "version": 3
   },
   "file_extension": ".py",
   "mimetype": "text/x-python",
   "name": "python",
   "nbconvert_exporter": "python",
   "pygments_lexer": "ipython3",
   "version": "3.9.2"
  }
 },
 "nbformat": 4,
 "nbformat_minor": 5
}
