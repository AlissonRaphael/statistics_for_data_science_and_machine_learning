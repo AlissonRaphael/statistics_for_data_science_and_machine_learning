{
 "cells": [
  {
   "cell_type": "markdown",
   "id": "f7abb038",
   "metadata": {},
   "source": [
    "## Teste de Tukey"
   ]
  },
  {
   "cell_type": "code",
   "execution_count": 1,
   "id": "c73e1b46",
   "metadata": {},
   "outputs": [],
   "source": [
    "import numpy as np\n",
    "from scipy.stats import f\n",
    "from scipy.stats import f_oneway"
   ]
  },
  {
   "cell_type": "code",
   "execution_count": 2,
   "id": "d009fe24",
   "metadata": {},
   "outputs": [],
   "source": [
    "grupo_a = np.array([165,152,143,140,155])\n",
    "grupo_b = np.array([130,169,164,143,154])\n",
    "grupo_c = np.array([163,158,154,149,156])"
   ]
  },
  {
   "cell_type": "code",
   "execution_count": 3,
   "id": "37e9db26",
   "metadata": {},
   "outputs": [
    {
     "data": {
      "text/plain": [
       "3.8852938346523933"
      ]
     },
     "execution_count": 3,
     "metadata": {},
     "output_type": "execute_result"
    }
   ],
   "source": [
    "f.ppf(1-0.05, dfn=2, dfd=12)"
   ]
  },
  {
   "cell_type": "code",
   "execution_count": 4,
   "id": "da750838",
   "metadata": {},
   "outputs": [
    {
     "data": {
      "text/plain": [
       "0.7613994386091956"
      ]
     },
     "execution_count": 4,
     "metadata": {},
     "output_type": "execute_result"
    }
   ],
   "source": [
    "_, p = f_oneway(grupo_a, grupo_b, grupo_c)\n",
    "p"
   ]
  },
  {
   "cell_type": "code",
   "execution_count": 7,
   "id": "6d056b27",
   "metadata": {},
   "outputs": [
    {
     "name": "stdout",
     "output_type": "stream",
     "text": [
      "Hipóteses alternativa rejeitada.\n"
     ]
    }
   ],
   "source": [
    "alpha = 0.05\n",
    "if p < alpha:\n",
    "    print('Hipóteses nula rejeitada.')\n",
    "else:\n",
    "    print('Hipóteses alternativa rejeitada.')"
   ]
  },
  {
   "cell_type": "markdown",
   "id": "c9615ca1",
   "metadata": {},
   "source": [
    "#### Teste de Tukey"
   ]
  },
  {
   "cell_type": "code",
   "execution_count": 14,
   "id": "7f1ce800",
   "metadata": {},
   "outputs": [],
   "source": [
    "import pandas as pd\n",
    "from statsmodels.stats.multicomp import MultiComparison"
   ]
  },
  {
   "cell_type": "code",
   "execution_count": 8,
   "id": "0f1ea0ad",
   "metadata": {},
   "outputs": [],
   "source": [
    "dados = {\n",
    "    'valores': [165,152,143,140,155,130,169,164,143,154,163,158,154,149,156],\n",
    "    'grupo': ['A','A','A','A','A','B','B','B','B','B','C','C','C','C','C']\n",
    "}"
   ]
  },
  {
   "cell_type": "code",
   "execution_count": 19,
   "id": "e7fe6b6e",
   "metadata": {},
   "outputs": [
    {
     "data": {
      "text/html": [
       "<div>\n",
       "<style scoped>\n",
       "    .dataframe tbody tr th:only-of-type {\n",
       "        vertical-align: middle;\n",
       "    }\n",
       "\n",
       "    .dataframe tbody tr th {\n",
       "        vertical-align: top;\n",
       "    }\n",
       "\n",
       "    .dataframe thead th {\n",
       "        text-align: right;\n",
       "    }\n",
       "</style>\n",
       "<table border=\"1\" class=\"dataframe\">\n",
       "  <thead>\n",
       "    <tr style=\"text-align: right;\">\n",
       "      <th></th>\n",
       "      <th>valores</th>\n",
       "      <th>grupo</th>\n",
       "    </tr>\n",
       "  </thead>\n",
       "  <tbody>\n",
       "    <tr>\n",
       "      <th>0</th>\n",
       "      <td>165</td>\n",
       "      <td>A</td>\n",
       "    </tr>\n",
       "    <tr>\n",
       "      <th>1</th>\n",
       "      <td>152</td>\n",
       "      <td>A</td>\n",
       "    </tr>\n",
       "    <tr>\n",
       "      <th>2</th>\n",
       "      <td>143</td>\n",
       "      <td>A</td>\n",
       "    </tr>\n",
       "    <tr>\n",
       "      <th>3</th>\n",
       "      <td>140</td>\n",
       "      <td>A</td>\n",
       "    </tr>\n",
       "    <tr>\n",
       "      <th>4</th>\n",
       "      <td>155</td>\n",
       "      <td>A</td>\n",
       "    </tr>\n",
       "  </tbody>\n",
       "</table>\n",
       "</div>"
      ],
      "text/plain": [
       "   valores grupo\n",
       "0      165     A\n",
       "1      152     A\n",
       "2      143     A\n",
       "3      140     A\n",
       "4      155     A"
      ]
     },
     "execution_count": 19,
     "metadata": {},
     "output_type": "execute_result"
    }
   ],
   "source": [
    "dataset = pd.DataFrame(dados)\n",
    "dataset.head(5)"
   ]
  },
  {
   "cell_type": "code",
   "execution_count": 20,
   "id": "ba8eee5a",
   "metadata": {},
   "outputs": [],
   "source": [
    "comparar_grupo = MultiComparison(dataset['valores'], dataset['grupo'])"
   ]
  },
  {
   "cell_type": "code",
   "execution_count": 23,
   "id": "51305226",
   "metadata": {},
   "outputs": [
    {
     "name": "stdout",
     "output_type": "stream",
     "text": [
      "Multiple Comparison of Means - Tukey HSD, FWER=0.05\n",
      "===================================================\n",
      "group1 group2 meandiff p-adj   lower  upper  reject\n",
      "---------------------------------------------------\n",
      "     A      B      1.0    0.9 -17.893 19.893  False\n",
      "     A      C      5.0 0.7538 -13.893 23.893  False\n",
      "     B      C      4.0 0.8331 -14.893 22.893  False\n",
      "---------------------------------------------------\n"
     ]
    }
   ],
   "source": [
    "teste = comparar_grupo.tukeyhsd()\n",
    "print(teste)"
   ]
  },
  {
   "cell_type": "code",
   "execution_count": 29,
   "id": "f82b27fe",
   "metadata": {},
   "outputs": [
    {
     "name": "stderr",
     "output_type": "stream",
     "text": [
      "c:\\users\\alisson\\appdata\\local\\programs\\python\\python39\\lib\\site-packages\\statsmodels\\sandbox\\stats\\multicomp.py:775: UserWarning: FixedFormatter should only be used together with FixedLocator\n",
      "  ax1.set_yticklabels(np.insert(self.groupsunique.astype(str), 0, ''))\n"
     ]
    },
    {
     "data": {
      "image/png": "[encoded data removed]",
      "text/plain": [
       "<Figure size 720x432 with 1 Axes>"
      ]
     },
     "metadata": {
      "needs_background": "light"
     },
     "output_type": "display_data"
    }
   ],
   "source": [
    "teste.plot_simultaneous();"
   ]
  },
  {
   "cell_type": "code",
   "execution_count": 24,
   "id": "56b8b02b",
   "metadata": {},
   "outputs": [],
   "source": [
    "dados2 = {\n",
    "    'valores': [70,90,80,50,20,130,169,164,143,154,163,158,154,149,156],\n",
    "    'grupo': ['A','A','A','A','A','B','B','B','B','B','C','C','C','C','C']\n",
    "}"
   ]
  },
  {
   "cell_type": "code",
   "execution_count": 25,
   "id": "6ca10a73",
   "metadata": {},
   "outputs": [
    {
     "name": "stdout",
     "output_type": "stream",
     "text": [
      "Multiple Comparison of Means - Tukey HSD, FWER=0.05\n",
      "===================================================\n",
      "group1 group2 meandiff p-adj  lower   upper  reject\n",
      "---------------------------------------------------\n",
      "     A      B     90.0 0.001  58.494 121.506   True\n",
      "     A      C     94.0 0.001  62.494 125.506   True\n",
      "     B      C      4.0   0.9 -27.506  35.506  False\n",
      "---------------------------------------------------\n"
     ]
    }
   ],
   "source": [
    "dataset2 = pd.DataFrame(dados2)\n",
    "comparar_grupo2 = MultiComparison(dataset2['valores'], dataset2['grupo'])\n",
    "teste2 = comparar_grupo2.tukeyhsd()\n",
    "print(teste2)"
   ]
  },
  {
   "cell_type": "code",
   "execution_count": 28,
   "id": "109470fc",
   "metadata": {},
   "outputs": [
    {
     "name": "stderr",
     "output_type": "stream",
     "text": [
      "c:\\users\\alisson\\appdata\\local\\programs\\python\\python39\\lib\\site-packages\\statsmodels\\sandbox\\stats\\multicomp.py:775: UserWarning: FixedFormatter should only be used together with FixedLocator\n",
      "  ax1.set_yticklabels(np.insert(self.groupsunique.astype(str), 0, ''))\n"
     ]
    },
    {
     "data": {
      "image/png": "[encoded data removed]",
      "text/plain": [
       "<Figure size 720x432 with 1 Axes>"
      ]
     },
     "metadata": {
      "needs_background": "light"
     },
     "output_type": "display_data"
    }
   ],
   "source": [
    "teste2.plot_simultaneous();"
   ]
  }
 ],
 "metadata": {
  "kernelspec": {
   "display_name": "Python 3",
   "language": "python",
   "name": "python3"
  },
  "language_info": {
   "codemirror_mode": {
    "name": "ipython",
    "version": 3
   },
   "file_extension": ".py",
   "mimetype": "text/x-python",
   "name": "python",
   "nbconvert_exporter": "python",
   "pygments_lexer": "ipython3",
   "version": "3.9.2"
  }
 },
 "nbformat": 4,
 "nbformat_minor": 5
}
