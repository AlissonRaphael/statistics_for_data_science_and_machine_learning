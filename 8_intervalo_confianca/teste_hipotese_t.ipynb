{
 "cells": [
  {
   "cell_type": "markdown",
   "id": "5c856d91",
   "metadata": {},
   "source": [
    "## Teste de hipóteses T"
   ]
  },
  {
   "cell_type": "code",
   "execution_count": 1,
   "id": "5ed378be",
   "metadata": {},
   "outputs": [],
   "source": [
    "import numpy as np\n",
    "from scipy import stats\n",
    "from scipy.stats import ttest_rel"
   ]
  },
  {
   "cell_type": "code",
   "execution_count": 2,
   "id": "98be50f5",
   "metadata": {},
   "outputs": [],
   "source": [
    "dados_originais = np.array([149,160,147,189,175,168,156,160,152])"
   ]
  },
  {
   "cell_type": "code",
   "execution_count": 3,
   "id": "09090592",
   "metadata": {},
   "outputs": [
    {
     "data": {
      "text/plain": [
       "(161.77777777777777, 12.786953227391823)"
      ]
     },
     "execution_count": 3,
     "metadata": {},
     "output_type": "execute_result"
    }
   ],
   "source": [
    "dados_originais.mean(), np.std(dados_originais)"
   ]
  },
  {
   "cell_type": "code",
   "execution_count": 4,
   "id": "4fd92d53",
   "metadata": {},
   "outputs": [],
   "source": [
    "dados_novos = dados_originais * 1.02"
   ]
  },
  {
   "cell_type": "code",
   "execution_count": 5,
   "id": "87cd0014",
   "metadata": {},
   "outputs": [
    {
     "data": {
      "text/plain": [
       "(165.01333333333332, 13.042692291939664)"
      ]
     },
     "execution_count": 5,
     "metadata": {},
     "output_type": "execute_result"
    }
   ],
   "source": [
    "dados_novos.mean(), np.std(dados_novos)"
   ]
  },
  {
   "cell_type": "code",
   "execution_count": 8,
   "id": "e837d90f",
   "metadata": {},
   "outputs": [
    {
     "data": {
      "text/plain": [
       "4.072922493930298e-10"
      ]
     },
     "execution_count": 8,
     "metadata": {},
     "output_type": "execute_result"
    }
   ],
   "source": [
    "_, p = ttest_rel(dados_originais, dados_novos)\n",
    "p"
   ]
  },
  {
   "cell_type": "code",
   "execution_count": 10,
   "id": "49214839",
   "metadata": {},
   "outputs": [
    {
     "name": "stdout",
     "output_type": "stream",
     "text": [
      "Hipóteses nula rejeitada.\n"
     ]
    }
   ],
   "source": [
    "alpha = 0.01\n",
    "if p < alpha:\n",
    "    print('Hipóteses nula rejeitada.')\n",
    "else:\n",
    "    print('Hipóteses alternativa aceita.')"
   ]
  }
 ],
 "metadata": {
  "kernelspec": {
   "display_name": "Python 3",
   "language": "python",
   "name": "python3"
  },
  "language_info": {
   "codemirror_mode": {
    "name": "ipython",
    "version": 3
   },
   "file_extension": ".py",
   "mimetype": "text/x-python",
   "name": "python",
   "nbconvert_exporter": "python",
   "pygments_lexer": "ipython3",
   "version": "3.9.2"
  }
 },
 "nbformat": 4,
 "nbformat_minor": 5
}
