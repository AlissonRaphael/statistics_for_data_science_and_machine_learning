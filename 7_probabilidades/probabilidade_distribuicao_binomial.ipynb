{
 "cells": [
  {
   "cell_type": "markdown",
   "id": "802984be",
   "metadata": {},
   "source": [
    "# Testes"
   ]
  },
  {
   "cell_type": "markdown",
   "id": "a499f704",
   "metadata": {},
   "source": [
    "#### Teste do moedas"
   ]
  },
  {
   "cell_type": "code",
   "execution_count": 2,
   "id": "209d5d91",
   "metadata": {},
   "outputs": [],
   "source": [
    "import math"
   ]
  },
  {
   "cell_type": "code",
   "execution_count": 1,
   "id": "7286007c",
   "metadata": {},
   "outputs": [],
   "source": [
    "n = 20\n",
    "x = 5\n",
    "p = 0.5"
   ]
  },
  {
   "cell_type": "code",
   "execution_count": 5,
   "id": "d62dc8a5",
   "metadata": {},
   "outputs": [
    {
     "data": {
      "text/plain": [
       "0.0147857666015625"
      ]
     },
     "execution_count": 5,
     "metadata": {},
     "output_type": "execute_result"
    }
   ],
   "source": [
    "math.factorial(n) / (math.factorial(x)*math.factorial(n-x))*math.pow(p,x)*math.pow(1-p,n-x)"
   ]
  },
  {
   "cell_type": "markdown",
   "id": "91e50802",
   "metadata": {},
   "source": [
    "#### Exercício I"
   ]
  },
  {
   "cell_type": "code",
   "execution_count": 32,
   "id": "60d198a8",
   "metadata": {},
   "outputs": [],
   "source": []
  },
  {
   "cell_type": "markdown",
   "id": "10f72ee5",
   "metadata": {},
   "source": [
    "#### Exercício II"
   ]
  },
  {
   "cell_type": "code",
   "execution_count": null,
   "id": "eff0360c",
   "metadata": {},
   "outputs": [],
   "source": []
  }
 ],
 "metadata": {
  "kernelspec": {
   "display_name": "Python 3",
   "language": "python",
   "name": "python3"
  },
  "language_info": {
   "codemirror_mode": {
    "name": "ipython",
    "version": 3
   },
   "file_extension": ".py",
   "mimetype": "text/x-python",
   "name": "python",
   "nbconvert_exporter": "python",
   "pygments_lexer": "ipython3",
   "version": "3.9.2"
  }
 },
 "nbformat": 4,
 "nbformat_minor": 5
}
