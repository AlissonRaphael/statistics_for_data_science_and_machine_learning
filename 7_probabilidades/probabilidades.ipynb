{
 "cells": [
  {
   "cell_type": "code",
   "execution_count": 1,
   "id": "b04314bb",
   "metadata": {},
   "outputs": [],
   "source": [
    "import numpy as np\n",
    "from scipy import stats\n",
    "import seaborn as sns"
   ]
  },
  {
   "cell_type": "markdown",
   "id": "db07a6b0",
   "metadata": {},
   "source": [
    "### Permutação\n",
    "Criar um senha com 5 digitos (com letras A à Z, números 0 à 9). Não pode repetir digitos.\n",
    "* Eventos: 5 digitos\n",
    "* Espaço amostral: 26 letras + 10 números = 36\n",
    "\n",
    "Formula da permutação:\n",
    "* P(nr) = n!/(n-r)!\n",
    "* 'n' é o espaço amostral e 'r' é o número de eventos."
   ]
  },
  {
   "cell_type": "code",
   "execution_count": 2,
   "id": "dbc0f0cb",
   "metadata": {},
   "outputs": [],
   "source": [
    "import math"
   ]
  },
  {
   "cell_type": "code",
   "execution_count": 4,
   "id": "a7a0f735",
   "metadata": {},
   "outputs": [
    {
     "data": {
      "text/plain": [
       "6"
      ]
     },
     "execution_count": 4,
     "metadata": {},
     "output_type": "execute_result"
    }
   ],
   "source": [
    "math.factorial(3)"
   ]
  },
  {
   "cell_type": "code",
   "execution_count": 5,
   "id": "edc6db7a",
   "metadata": {},
   "outputs": [
    {
     "data": {
      "text/plain": [
       "45239040.0"
      ]
     },
     "execution_count": 5,
     "metadata": {},
     "output_type": "execute_result"
    }
   ],
   "source": [
    "math.factorial(36)/math.factorial(36-5)"
   ]
  },
  {
   "cell_type": "code",
   "execution_count": 7,
   "id": "14fb44f4",
   "metadata": {},
   "outputs": [
    {
     "data": {
      "text/plain": [
       "60466176.0"
      ]
     },
     "execution_count": 7,
     "metadata": {},
     "output_type": "execute_result"
    }
   ],
   "source": [
    "# exponencial\n",
    "math.pow(36,5)"
   ]
  },
  {
   "cell_type": "markdown",
   "id": "567ec834",
   "metadata": {},
   "source": [
    "### Combinação\n",
    "\n",
    "Qual o número possível de arranjos que podem ser feitas com a combinação de 2 letras em uma coleção (ABCDEF).\n",
    "* Eventos: 2 digitos\n",
    "* Espaço amostral: 6 letras = 6\n",
    "\n",
    "Formula da combinação (sem repetiçoes):\n",
    "* C(nr) = n! / (r!*(n-r)!)\n",
    "* 'n' é o espaço amostral e 'r' é o número de eventos.\n",
    "\n",
    "Formula da combinação (com repetiçoes):\n",
    "* C(nr) = (n+r-1)! / (r!*(n-1)!)\n",
    "* 'n' é o espaço amostral e 'r' é o número de eventos."
   ]
  },
  {
   "cell_type": "code",
   "execution_count": 8,
   "id": "3634079d",
   "metadata": {},
   "outputs": [
    {
     "data": {
      "text/plain": [
       "15.0"
      ]
     },
     "execution_count": 8,
     "metadata": {},
     "output_type": "execute_result"
    }
   ],
   "source": [
    "math.factorial(6)/(math.factorial(2)*math.factorial(6-2))"
   ]
  },
  {
   "cell_type": "code",
   "execution_count": 15,
   "id": "5974ec62",
   "metadata": {},
   "outputs": [
    {
     "data": {
      "text/plain": [
       "21.0"
      ]
     },
     "execution_count": 15,
     "metadata": {},
     "output_type": "execute_result"
    }
   ],
   "source": [
    "math.factorial(6+2-1)/(math.factorial(2)*math.factorial(6-1))"
   ]
  }
 ],
 "metadata": {
  "kernelspec": {
   "display_name": "Python 3",
   "language": "python",
   "name": "python3"
  },
  "language_info": {
   "codemirror_mode": {
    "name": "ipython",
    "version": 3
   },
   "file_extension": ".py",
   "mimetype": "text/x-python",
   "name": "python",
   "nbconvert_exporter": "python",
   "pygments_lexer": "ipython3",
   "version": "3.9.2"
  }
 },
 "nbformat": 4,
 "nbformat_minor": 5
}
