{
 "cells": [
  {
   "cell_type": "code",
   "execution_count": 1,
   "id": "4f322ffe",
   "metadata": {},
   "outputs": [],
   "source": [
    "import numpy as np\n",
    "from scipy import stats\n",
    "import seaborn as sns"
   ]
  },
  {
   "cell_type": "markdown",
   "id": "376d3c40",
   "metadata": {},
   "source": [
    "### Permutação"
   ]
  },
  {
   "cell_type": "code",
   "execution_count": 2,
   "id": "d05d1ba3",
   "metadata": {},
   "outputs": [],
   "source": [
    "import math"
   ]
  },
  {
   "cell_type": "code",
   "execution_count": 4,
   "id": "f467ee66",
   "metadata": {},
   "outputs": [
    {
     "data": {
      "text/plain": [
       "6"
      ]
     },
     "execution_count": 4,
     "metadata": {},
     "output_type": "execute_result"
    }
   ],
   "source": [
    "math.factorial(3)"
   ]
  },
  {
   "cell_type": "markdown",
   "id": "ded4d5c6",
   "metadata": {},
   "source": [
    "Criar um senha com 5 digitos (com letras A à Z, números 0 à 9). Não pode repetir digitos.\n",
    "* Evento: 5 digitos\n",
    "* Espaço amostral: 26 letras + 10 números = 36\n",
    "\n",
    "Formula da permutação:\n",
    "* P(nr) = n!/(n-r)!\n",
    "* 'n' é o espaço amostral e 'r' é o número de eventos."
   ]
  },
  {
   "cell_type": "code",
   "execution_count": 5,
   "id": "1153aeec",
   "metadata": {},
   "outputs": [
    {
     "data": {
      "text/plain": [
       "45239040.0"
      ]
     },
     "execution_count": 5,
     "metadata": {},
     "output_type": "execute_result"
    }
   ],
   "source": [
    "math.factorial(36)/math.factorial(36-5)"
   ]
  },
  {
   "cell_type": "code",
   "execution_count": 6,
   "id": "dc7eada7",
   "metadata": {},
   "outputs": [
    {
     "ename": "TypeError",
     "evalue": "pow expected 2 arguments, got 1",
     "output_type": "error",
     "traceback": [
      "\u001b[1;31m---------------------------------------------------------------------------\u001b[0m",
      "\u001b[1;31mTypeError\u001b[0m                                 Traceback (most recent call last)",
      "\u001b[1;32m<ipython-input-6-e70b3026069c>\u001b[0m in \u001b[0;36m<module>\u001b[1;34m\u001b[0m\n\u001b[0;32m      1\u001b[0m \u001b[1;31m# exponencial\u001b[0m\u001b[1;33m\u001b[0m\u001b[1;33m\u001b[0m\u001b[1;33m\u001b[0m\u001b[0m\n\u001b[1;32m----> 2\u001b[1;33m \u001b[0mmath\u001b[0m\u001b[1;33m.\u001b[0m\u001b[0mpow\u001b[0m\u001b[1;33m(\u001b[0m\u001b[1;36m36\u001b[0m\u001b[1;33m)\u001b[0m\u001b[1;33m\u001b[0m\u001b[1;33m\u001b[0m\u001b[0m\n\u001b[0m",
      "\u001b[1;31mTypeError\u001b[0m: pow expected 2 arguments, got 1"
     ]
    }
   ],
   "source": [
    "# exponencial\n",
    "math.pow(36)"
   ]
  },
  {
   "cell_type": "code",
   "execution_count": null,
   "id": "2b76f9c9",
   "metadata": {},
   "outputs": [],
   "source": []
  }
 ],
 "metadata": {
  "kernelspec": {
   "display_name": "Python 3",
   "language": "python",
   "name": "python3"
  },
  "language_info": {
   "codemirror_mode": {
    "name": "ipython",
    "version": 3
   },
   "file_extension": ".py",
   "mimetype": "text/x-python",
   "name": "python",
   "nbconvert_exporter": "python",
   "pygments_lexer": "ipython3",
   "version": "3.9.2"
  }
 },
 "nbformat": 4,
 "nbformat_minor": 5
}
