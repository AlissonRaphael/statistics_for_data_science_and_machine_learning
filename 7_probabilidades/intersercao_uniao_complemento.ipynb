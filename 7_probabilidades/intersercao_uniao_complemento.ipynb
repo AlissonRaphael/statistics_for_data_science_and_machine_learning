{
 "cells": [
  {
   "cell_type": "code",
   "execution_count": 12,
   "id": "13a0a597",
   "metadata": {},
   "outputs": [],
   "source": [
    "a = (0,1,2,3,4,5,6,7)\n",
    "b = (0,2,4,5,8)"
   ]
  },
  {
   "cell_type": "markdown",
   "id": "cf118fda",
   "metadata": {},
   "source": [
    "### Interserção"
   ]
  },
  {
   "cell_type": "code",
   "execution_count": 20,
   "id": "b3cbdedf",
   "metadata": {},
   "outputs": [
    {
     "data": {
      "text/plain": [
       "{0, 2, 4, 5}"
      ]
     },
     "execution_count": 20,
     "metadata": {},
     "output_type": "execute_result"
    }
   ],
   "source": [
    "set(a) & set(b)"
   ]
  },
  {
   "cell_type": "markdown",
   "id": "417785d7",
   "metadata": {},
   "source": [
    "### União"
   ]
  },
  {
   "cell_type": "code",
   "execution_count": 19,
   "id": "cf9c052f",
   "metadata": {},
   "outputs": [
    {
     "data": {
      "text/plain": [
       "{0, 1, 2, 3, 4, 5, 6, 7, 8}"
      ]
     },
     "execution_count": 19,
     "metadata": {},
     "output_type": "execute_result"
    }
   ],
   "source": [
    "set(a) | set(b)"
   ]
  },
  {
   "cell_type": "markdown",
   "id": "cb908a19",
   "metadata": {},
   "source": [
    "### Diferença"
   ]
  },
  {
   "cell_type": "code",
   "execution_count": 21,
   "id": "8614dd80",
   "metadata": {},
   "outputs": [
    {
     "data": {
      "text/plain": [
       "{1, 3, 6, 7}"
      ]
     },
     "execution_count": 21,
     "metadata": {},
     "output_type": "execute_result"
    }
   ],
   "source": [
    "set(a).difference(set(b))"
   ]
  }
 ],
 "metadata": {
  "kernelspec": {
   "display_name": "Python 3",
   "language": "python",
   "name": "python3"
  },
  "language_info": {
   "codemirror_mode": {
    "name": "ipython",
    "version": 3
   },
   "file_extension": ".py",
   "mimetype": "text/x-python",
   "name": "python",
   "nbconvert_exporter": "python",
   "pygments_lexer": "ipython3",
   "version": "3.9.2"
  }
 },
 "nbformat": 4,
 "nbformat_minor": 5
}
