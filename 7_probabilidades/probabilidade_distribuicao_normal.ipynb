{
 "cells": [
  {
   "cell_type": "code",
   "execution_count": 3,
   "id": "82ee7cd3",
   "metadata": {},
   "outputs": [],
   "source": [
    "import numpy as np\n",
    "import seaborn as sns"
   ]
  },
  {
   "cell_type": "code",
   "execution_count": 2,
   "id": "14dcbb98",
   "metadata": {},
   "outputs": [],
   "source": [
    "dados = np.array([\n",
    "    126. , 129.5, 133. , 133. , 136.5, 136.5, 140. , 140. , 140. ,\n",
    "    140. , 143.5, 143.5, 143.5, 143.5, 143.5, 143.5, 147. , 147. ,\n",
    "    147. , 147. , 147. , 147. , 147. , 150.5, 150.5, 150.5, 150.5,\n",
    "    150.5, 150.5, 150.5, 150.5, 154. , 154. , 154. , 154. , 154. ,\n",
    "    154. , 154. , 154. , 154. , 157.5, 157.5, 157.5, 157.5, 157.5,\n",
    "    157.5, 157.5, 157.5, 157.5, 157.5, 161. , 161. , 161. , 161. ,\n",
    "    161. , 161. , 161. , 161. , 161. , 161. , 164.5, 164.5, 164.5,\n",
    "    164.5, 164.5, 164.5, 164.5, 164.5, 164.5, 168. , 168. , 168. ,\n",
    "    168. , 168. , 168. , 168. , 168. , 171.5, 171.5, 171.5, 171.5,\n",
    "    171.5, 171.5, 171.5, 175. , 175. , 175. , 175. , 175. , 175. ,\n",
    "    178.5, 178.5, 178.5, 178.5, 182. , 182. , 185.5, 185.5, 189. , 192.5\n",
    "])"
   ]
  },
  {
   "cell_type": "code",
   "execution_count": 4,
   "id": "0e9710bd",
   "metadata": {},
   "outputs": [
    {
     "data": {
      "text/plain": [
       "<AxesSubplot:ylabel='Count'>"
      ]
     },
     "execution_count": 4,
     "metadata": {},
     "output_type": "execute_result"
    },
    {
     "data": {
      "image/png": "[encoded data removed]",
      "text/plain": [
       "<Figure size 432x288 with 1 Axes>"
      ]
     },
     "metadata": {
      "needs_background": "light"
     },
     "output_type": "display_data"
    }
   ],
   "source": [
    "sns.histplot(dados, kde=True)"
   ]
  },
  {
   "cell_type": "code",
   "execution_count": 5,
   "id": "d2883c1e",
   "metadata": {},
   "outputs": [
    {
     "data": {
      "text/plain": [
       "(159.25, 13.65)"
      ]
     },
     "execution_count": 5,
     "metadata": {},
     "output_type": "execute_result"
    }
   ],
   "source": [
    "media = np.mean(dados)\n",
    "desvio_padrao = np.std(dados)\n",
    "media, desvio_padrao"
   ]
  },
  {
   "cell_type": "code",
   "execution_count": 7,
   "id": "0bfbd5e9",
   "metadata": {},
   "outputs": [
    {
     "data": {
      "text/plain": [
       "array([150.5 , 159.25, 168.  ])"
      ]
     },
     "execution_count": 7,
     "metadata": {},
     "output_type": "execute_result"
    }
   ],
   "source": [
    "np.quantile(dados, [0.25,0.5,0.75])"
   ]
  },
  {
   "cell_type": "markdown",
   "id": "4ba3bcdc",
   "metadata": {},
   "source": [
    "### Probabilidade de selecionar uma pessoa no Q1"
   ]
  },
  {
   "cell_type": "code",
   "execution_count": 8,
   "id": "154443ce",
   "metadata": {},
   "outputs": [
    {
     "data": {
      "text/plain": [
       "-0.641025641025641"
      ]
     },
     "execution_count": 8,
     "metadata": {},
     "output_type": "execute_result"
    }
   ],
   "source": [
    "# z-score\n",
    "(150.5 - media)/desvio_padrao"
   ]
  },
  {
   "cell_type": "code",
   "execution_count": 18,
   "id": "913f3cef",
   "metadata": {},
   "outputs": [
    {
     "data": {
      "text/plain": [
       "0.26109"
      ]
     },
     "execution_count": 18,
     "metadata": {},
     "output_type": "execute_result"
    }
   ],
   "source": [
    "0.26109"
   ]
  },
  {
   "cell_type": "markdown",
   "id": "e01ecb98",
   "metadata": {},
   "source": [
    "Como pode ser observado na tabela Z:\n",
    "* 0.26109 é a probabilidade de selecionar qualquer pessoa antes do primeiro quartil."
   ]
  },
  {
   "cell_type": "markdown",
   "id": "d876ab78",
   "metadata": {},
   "source": [
    "### Probabilidade de selecionar uma pessoa no Q3"
   ]
  },
  {
   "cell_type": "code",
   "execution_count": 11,
   "id": "2ba7d045",
   "metadata": {},
   "outputs": [
    {
     "data": {
      "text/plain": [
       "0.641025641025641"
      ]
     },
     "execution_count": 11,
     "metadata": {},
     "output_type": "execute_result"
    }
   ],
   "source": [
    "# z-score\n",
    "(168. - media)/desvio_padrao"
   ]
  },
  {
   "cell_type": "code",
   "execution_count": 17,
   "id": "f7472d39",
   "metadata": {},
   "outputs": [
    {
     "data": {
      "text/plain": [
       "(0.73891, 0.26109000000000004)"
      ]
     },
     "execution_count": 17,
     "metadata": {},
     "output_type": "execute_result"
    }
   ],
   "source": [
    "0.73891, 1-0.73891"
   ]
  },
  {
   "cell_type": "markdown",
   "id": "fd025e4b",
   "metadata": {},
   "source": [
    "Como pode ser observado na tabela Z:\n",
    "* 0.73891 é a probabilidade de selecionar qualquer pessoa antes do terceiro quartil.\n",
    "* 0.26109 é a probabilidade de selecionar qualquer pessoa depois do terceiro quartil."
   ]
  },
  {
   "cell_type": "markdown",
   "id": "a4503613",
   "metadata": {},
   "source": [
    "### Probabilidade de selecionar uma pessoa entre Q2 e Q3"
   ]
  },
  {
   "cell_type": "code",
   "execution_count": 15,
   "id": "d030b7cc",
   "metadata": {},
   "outputs": [
    {
     "data": {
      "text/plain": [
       "0.0"
      ]
     },
     "execution_count": 15,
     "metadata": {},
     "output_type": "execute_result"
    }
   ],
   "source": [
    "(159.25-media)/desvio_padrao"
   ]
  },
  {
   "cell_type": "code",
   "execution_count": 19,
   "id": "4b7c3ca2",
   "metadata": {},
   "outputs": [
    {
     "data": {
      "text/plain": [
       "0.5"
      ]
     },
     "execution_count": 19,
     "metadata": {},
     "output_type": "execute_result"
    }
   ],
   "source": [
    "0.5"
   ]
  },
  {
   "cell_type": "markdown",
   "id": "1073f1ec",
   "metadata": {},
   "source": [
    "Como pode ser observado na tabela Z:\n",
    "* 0.5 é a pobabilidade de selecionar uma pessoa a direita ou a esquerda do segundo quartil.\n",
    "* O fato é que o segundo quartil corresponde extamente a média."
   ]
  },
  {
   "cell_type": "code",
   "execution_count": 21,
   "id": "b1a62c2b",
   "metadata": {},
   "outputs": [
    {
     "data": {
      "text/plain": [
       "0.23890999999999996"
      ]
     },
     "execution_count": 21,
     "metadata": {},
     "output_type": "execute_result"
    }
   ],
   "source": [
    "0.73891-0.5"
   ]
  },
  {
   "cell_type": "markdown",
   "id": "8bf44ee7",
   "metadata": {},
   "source": [
    "Pela subtração, 0.23891 é a pobabilidade de selecionar uma pessoa entre o segundo e o terceiro quartil."
   ]
  },
  {
   "cell_type": "markdown",
   "id": "1e3a4b8b",
   "metadata": {},
   "source": [
    "### Probabilidade de selecionar uma pessoa em Q1 e Q3"
   ]
  },
  {
   "cell_type": "code",
   "execution_count": 23,
   "id": "c9b95e68",
   "metadata": {},
   "outputs": [
    {
     "data": {
      "text/plain": [
       "0.52218"
      ]
     },
     "execution_count": 23,
     "metadata": {},
     "output_type": "execute_result"
    }
   ],
   "source": [
    "0.26109+0.26109"
   ]
  },
  {
   "cell_type": "markdown",
   "id": "7ab14d26",
   "metadata": {},
   "source": [
    "Pela soma, 0.52218 é a pobabilidade de selecionar uma pessoa no primeiro e no terceiro quartil."
   ]
  },
  {
   "cell_type": "markdown",
   "id": "e9dcae8e",
   "metadata": {},
   "source": [
    "### Probabilidade de não selecionar uma pessoa em Q1 e Q3"
   ]
  },
  {
   "cell_type": "code",
   "execution_count": 24,
   "id": "6278c456",
   "metadata": {},
   "outputs": [
    {
     "data": {
      "text/plain": [
       "0.47782"
      ]
     },
     "execution_count": 24,
     "metadata": {},
     "output_type": "execute_result"
    }
   ],
   "source": [
    "1-0.52218"
   ]
  },
  {
   "cell_type": "markdown",
   "id": "3ffbfd70",
   "metadata": {},
   "source": [
    "Pela subtração, 0.47782 é a pobabilidade de não selecionar uma pessoa no primeiro e no terceiro quartil."
   ]
  },
  {
   "cell_type": "markdown",
   "id": "5db8a94c",
   "metadata": {},
   "source": [
    "## Bibliotecas (Scipy)"
   ]
  },
  {
   "cell_type": "code",
   "execution_count": 25,
   "id": "41100b18",
   "metadata": {},
   "outputs": [],
   "source": [
    "from scipy import stats"
   ]
  },
  {
   "cell_type": "code",
   "execution_count": 27,
   "id": "41ed8839",
   "metadata": {},
   "outputs": [
    {
     "data": {
      "text/plain": [
       "(159.25, 13.65, array([150.5 , 159.25, 168.  ]))"
      ]
     },
     "execution_count": 27,
     "metadata": {},
     "output_type": "execute_result"
    }
   ],
   "source": [
    "media = np.mean(dados)\n",
    "desvio_padrao = np.std(dados)\n",
    "media, desvio_padrao, np.quantile(dados, [0.25,0.5,0.75])"
   ]
  },
  {
   "cell_type": "code",
   "execution_count": 28,
   "id": "be66000f",
   "metadata": {},
   "outputs": [
    {
     "data": {
      "text/plain": [
       "0.26075301195608336"
      ]
     },
     "execution_count": 28,
     "metadata": {},
     "output_type": "execute_result"
    }
   ],
   "source": [
    "# Probabilidade de selecionar uma pessoa no Q1.\n",
    "stats.norm.cdf(150.5, media, desvio_padrao)"
   ]
  },
  {
   "cell_type": "code",
   "execution_count": 30,
   "id": "e0759a9b",
   "metadata": {},
   "outputs": [
    {
     "data": {
      "text/plain": [
       "0.7392469880439166"
      ]
     },
     "execution_count": 30,
     "metadata": {},
     "output_type": "execute_result"
    }
   ],
   "source": [
    "# Probabilidade de selecionar uma pessoa até o Q3.\n",
    "stats.norm.cdf(168, media, desvio_padrao)"
   ]
  },
  {
   "cell_type": "code",
   "execution_count": 31,
   "id": "5af7728a",
   "metadata": {},
   "outputs": [
    {
     "data": {
      "text/plain": [
       "0.26075301195608336"
      ]
     },
     "execution_count": 31,
     "metadata": {},
     "output_type": "execute_result"
    }
   ],
   "source": [
    "# Probabilidade de selecionar uma pessoa depois do Q3.\n",
    "stats.norm.sf(168, media, desvio_padrao)"
   ]
  },
  {
   "cell_type": "code",
   "execution_count": 33,
   "id": "f52e5c50",
   "metadata": {},
   "outputs": [
    {
     "data": {
      "text/plain": [
       "0.23924698804391664"
      ]
     },
     "execution_count": 33,
     "metadata": {},
     "output_type": "execute_result"
    }
   ],
   "source": [
    "# Probabilidade de selecionar uma pessoa entre Q2 e Q3.\n",
    "q2 = stats.norm.cdf(159.25, media, desvio_padrao)\n",
    "q3 = stats.norm.cdf(168, media, desvio_padrao)\n",
    "q3-q2"
   ]
  }
 ],
 "metadata": {
  "kernelspec": {
   "display_name": "Python 3",
   "language": "python",
   "name": "python3"
  },
  "language_info": {
   "codemirror_mode": {
    "name": "ipython",
    "version": 3
   },
   "file_extension": ".py",
   "mimetype": "text/x-python",
   "name": "python",
   "nbconvert_exporter": "python",
   "pygments_lexer": "ipython3",
   "version": "3.9.2"
  }
 },
 "nbformat": 4,
 "nbformat_minor": 5
}
